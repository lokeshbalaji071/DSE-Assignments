{
 "cells": [
  {
   "cell_type": "markdown",
   "metadata": {},
   "source": [
    "# Insurance Charges Dataset\n",
    "\n",
    "Based on the personal information and the geographical data predict the insurance charges for every person.\n",
    "\n",
    "https://github.com/stedy/Machine-Learning-with-R-datasets"
   ]
  },
  {
   "cell_type": "code",
   "execution_count": null,
   "metadata": {},
   "outputs": [],
   "source": [
    "import pandas as pd\n",
    "from sklearn import metrics\n",
    "from sklearn.ensemble import RandomForestRegressor\n",
    "from sklearn.metrics import accuracy_score,f1_score\n",
    "from pandas.api.types import is_string_dtype,is_numeric_dtype\n",
    "import seaborn as sns\n",
    "import matplotlib.pyplot as plt\n",
    "from sklearn.model_selection import train_test_split\n",
    "import numpy as np\n",
    "from sklearn.metrics import mean_squared_error\n",
    "from sklearn.metrics import r2_score\n",
    "from sklearn.metrics import mean_absolute_error\n",
    "\n",
    "%matplotlib inline"
   ]
  },
  {
   "cell_type": "code",
   "execution_count": 45,
   "metadata": {},
   "outputs": [
    {
     "data": {
      "text/plain": [
       "<bound method NDFrame.head of       age     sex     bmi  children smoker     region      charges\n",
       "0      19  female  27.900         0    yes  southwest  16884.92400\n",
       "1      18    male  33.770         1     no  southeast   1725.55230\n",
       "2      28    male  33.000         3     no  southeast   4449.46200\n",
       "3      33    male  22.705         0     no  northwest  21984.47061\n",
       "4      32    male  28.880         0     no  northwest   3866.85520\n",
       "...   ...     ...     ...       ...    ...        ...          ...\n",
       "1333   50    male  30.970         3     no  northwest  10600.54830\n",
       "1334   18  female  31.920         0     no  northeast   2205.98080\n",
       "1335   18  female  36.850         0     no  southeast   1629.83350\n",
       "1336   21  female  25.800         0     no  southwest   2007.94500\n",
       "1337   61  female  29.070         0    yes  northwest  29141.36030\n",
       "\n",
       "[1338 rows x 7 columns]>"
      ]
     },
     "execution_count": 45,
     "metadata": {},
     "output_type": "execute_result"
    }
   ],
   "source": [
    "#Reading the data \n",
    "df_ins = pd.read_csv(r'C:\\Users\\Lokesh Balaji\\Desktop\\NEU Study\\INFO6105\\insurance.csv')\n",
    "df_ins.head\n"
   ]
  },
  {
   "cell_type": "code",
   "execution_count": 46,
   "metadata": {},
   "outputs": [],
   "source": [
    "cols = list(df_ins.columns)"
   ]
  },
  {
   "cell_type": "code",
   "execution_count": 47,
   "metadata": {},
   "outputs": [],
   "source": [
    "# pre defined function for preprocessinh the data\n",
    "# to convert catagorical values and to calcuale mean\n",
    "\n",
    "def str_to_cat(my_df):\n",
    "    for p,q in my_df.items(): #my_df.items() is a generator in Python\n",
    "        if is_string_dtype(q): \n",
    "            my_df[p] = q.astype('category').cat.as_ordered()\n",
    "    return my_df\n",
    "def mydf_to_nums(my_df, feature, null_status):\n",
    "    if not is_numeric_dtype(feature):\n",
    "        my_df[null_status] = feature.cat.codes + 1\n",
    "        \n",
    "def mydf_imputer(my_df, feature, null_status, null_table):\n",
    "    if is_numeric_dtype(feature):\n",
    "        if pd.isnull(feature).sum() or (null_status in null_table):\n",
    "            my_df[null_status+'_na'] = pd.isnull(feature)\n",
    "            filler = null_table[null_status] if null_status in null_table else feature.median()\n",
    "            my_df[null_status] = feature.fillna(filler)\n",
    "            null_table[null_status] = filler\n",
    "    return null_table   \n",
    "\n",
    "def mydf_preprocessor(my_df, null_table):\n",
    "    '''null_table  = your table or None'''\n",
    "    \n",
    "    if null_table is None: \n",
    "        null_table = dict()\n",
    "    for p,q in my_df.items(): \n",
    "        null_table = mydf_imputer(my_df, q, p, null_table)\n",
    "    for p,q in my_df.items(): \n",
    "        mydf_to_nums(my_df, q, p)\n",
    "    my_df = pd.get_dummies(my_df, dummy_na = True)\n",
    "    res = [my_df, null_table]\n",
    "    return res"
   ]
  },
  {
   "cell_type": "code",
   "execution_count": 48,
   "metadata": {},
   "outputs": [],
   "source": [
    "def split_df(df,num):\n",
    "    return df[ :num].copy(),df[num: ].copy()\n",
    "\n",
    "def my_rmse(y1,y2):\n",
    "    return np.sqrt(((y1-y2)**2).mean())"
   ]
  },
  {
   "cell_type": "code",
   "execution_count": 49,
   "metadata": {},
   "outputs": [
    {
     "data": {
      "text/html": [
       "<div>\n",
       "<style scoped>\n",
       "    .dataframe tbody tr th:only-of-type {\n",
       "        vertical-align: middle;\n",
       "    }\n",
       "\n",
       "    .dataframe tbody tr th {\n",
       "        vertical-align: top;\n",
       "    }\n",
       "\n",
       "    .dataframe thead th {\n",
       "        text-align: right;\n",
       "    }\n",
       "</style>\n",
       "<table border=\"1\" class=\"dataframe\">\n",
       "  <thead>\n",
       "    <tr style=\"text-align: right;\">\n",
       "      <th></th>\n",
       "      <th>age</th>\n",
       "      <th>sex</th>\n",
       "      <th>bmi</th>\n",
       "      <th>children</th>\n",
       "      <th>smoker</th>\n",
       "      <th>region</th>\n",
       "      <th>charges</th>\n",
       "    </tr>\n",
       "  </thead>\n",
       "  <tbody>\n",
       "    <tr>\n",
       "      <th>0</th>\n",
       "      <td>19</td>\n",
       "      <td>1</td>\n",
       "      <td>27.900</td>\n",
       "      <td>0</td>\n",
       "      <td>2</td>\n",
       "      <td>4</td>\n",
       "      <td>16884.92400</td>\n",
       "    </tr>\n",
       "    <tr>\n",
       "      <th>1</th>\n",
       "      <td>18</td>\n",
       "      <td>2</td>\n",
       "      <td>33.770</td>\n",
       "      <td>1</td>\n",
       "      <td>1</td>\n",
       "      <td>3</td>\n",
       "      <td>1725.55230</td>\n",
       "    </tr>\n",
       "    <tr>\n",
       "      <th>2</th>\n",
       "      <td>28</td>\n",
       "      <td>2</td>\n",
       "      <td>33.000</td>\n",
       "      <td>3</td>\n",
       "      <td>1</td>\n",
       "      <td>3</td>\n",
       "      <td>4449.46200</td>\n",
       "    </tr>\n",
       "    <tr>\n",
       "      <th>3</th>\n",
       "      <td>33</td>\n",
       "      <td>2</td>\n",
       "      <td>22.705</td>\n",
       "      <td>0</td>\n",
       "      <td>1</td>\n",
       "      <td>2</td>\n",
       "      <td>21984.47061</td>\n",
       "    </tr>\n",
       "    <tr>\n",
       "      <th>4</th>\n",
       "      <td>32</td>\n",
       "      <td>2</td>\n",
       "      <td>28.880</td>\n",
       "      <td>0</td>\n",
       "      <td>1</td>\n",
       "      <td>2</td>\n",
       "      <td>3866.85520</td>\n",
       "    </tr>\n",
       "  </tbody>\n",
       "</table>\n",
       "</div>"
      ],
      "text/plain": [
       "   age  sex     bmi  children  smoker  region      charges\n",
       "0   19    1  27.900         0       2       4  16884.92400\n",
       "1   18    2  33.770         1       1       3   1725.55230\n",
       "2   28    2  33.000         3       1       3   4449.46200\n",
       "3   33    2  22.705         0       1       2  21984.47061\n",
       "4   32    2  28.880         0       1       2   3866.85520"
      ]
     },
     "execution_count": 49,
     "metadata": {},
     "output_type": "execute_result"
    }
   ],
   "source": [
    "#funtion implementation\n",
    "df_ins_1 = str_to_cat(df_ins)\n",
    "df_ins_2,my_table = mydf_preprocessor(df_ins_1,null_table = None)\n",
    "df_ins_2.head(5)"
   ]
  },
  {
   "cell_type": "code",
   "execution_count": 50,
   "metadata": {},
   "outputs": [
    {
     "name": "stdout",
     "output_type": "stream",
     "text": [
      "(1338, 7)\n"
     ]
    }
   ],
   "source": [
    "print(df_ins_2.shape)"
   ]
  },
  {
   "cell_type": "code",
   "execution_count": 51,
   "metadata": {},
   "outputs": [
    {
     "data": {
      "text/plain": [
       "{}"
      ]
     },
     "execution_count": 51,
     "metadata": {},
     "output_type": "execute_result"
    }
   ],
   "source": [
    "my_table"
   ]
  },
  {
   "cell_type": "code",
   "execution_count": 53,
   "metadata": {},
   "outputs": [
    {
     "name": "stdout",
     "output_type": "stream",
     "text": [
      "(1338, 6)\n",
      "(1338,)\n"
     ]
    }
   ],
   "source": [
    "#Insurance Charges is calculated\n",
    "x = df_ins_2.drop('charges', axis=1)\n",
    "y = df_ins_2['charges']\n",
    "print(x.shape)\n",
    "print(y.shape)"
   ]
  },
  {
   "cell_type": "code",
   "execution_count": 54,
   "metadata": {},
   "outputs": [
    {
     "name": "stdout",
     "output_type": "stream",
     "text": [
      "(730, 6) (608, 6) (730,) (608,)\n",
      "0    16884.92400\n",
      "1     1725.55230\n",
      "2     4449.46200\n",
      "3    21984.47061\n",
      "4     3866.85520\n",
      "Name: charges, dtype: float64\n",
      "730    19361.99880\n",
      "731    10065.41300\n",
      "732     4234.92700\n",
      "733     9447.25035\n",
      "734    14007.22200\n",
      "Name: charges, dtype: float64\n"
     ]
    }
   ],
   "source": [
    "# spliting the data to for training and validation data set\n",
    "\n",
    "x_trn,x_val = split_df(x,730)\n",
    "y_trn,y_val = split_df(y,730)\n",
    "print(x_trn.shape,x_val.shape,y_trn.shape,y_val.shape)\n",
    "print(y_trn.head(5))\n",
    "print(y_val.head(5))"
   ]
  },
  {
   "cell_type": "code",
   "execution_count": 55,
   "metadata": {},
   "outputs": [
    {
     "data": {
      "text/plain": [
       "RandomForestRegressor(max_depth=300, min_samples_leaf=25, n_estimators=20,\n",
       "                      n_jobs=-1)"
      ]
     },
     "execution_count": 55,
     "metadata": {},
     "output_type": "execute_result"
    }
   ],
   "source": [
    "#Randomforest Regressor()\n",
    "mod_ins = RandomForestRegressor(n_jobs = -1,oob_score = False,n_estimators = 20,\n",
    "                                   max_depth = 300,min_samples_leaf = 25)\n",
    "mod_ins.fit(x_trn,y_trn)\n"
   ]
  },
  {
   "cell_type": "code",
   "execution_count": 56,
   "metadata": {},
   "outputs": [
    {
     "name": "stdout",
     "output_type": "stream",
     "text": [
      "(608, 6)\n",
      "[21709.71178704 13918.81074603  5660.62997304 11303.54325051\n",
      " 14932.27697897 10688.2327686  40567.9538948   5642.50029391\n",
      " 39868.43923912 40205.75589945  8799.3829233  22478.52696448\n",
      " 43263.6646281   5508.36205997 11721.37202552 11389.02759603\n",
      "  6811.71001971  2468.23131655 10412.14849095  4649.44972095\n",
      " 21709.71178704  2645.63838958 14924.9657908  13325.086604\n",
      "  6162.31113457  6920.62476481  8119.06218396 21991.61152119\n",
      "  7066.57529474 40205.75589945  5044.62480808  4241.61307705\n",
      " 21709.71178704  4436.78573172  8845.90520089 13011.53077789\n",
      " 10248.70585233  7251.83829232 15079.51596178  7994.53863302\n",
      " 15546.91192501 13918.81074603  8172.42083455 22478.52696448\n",
      "  8205.99910877 10847.19861967  8205.99910877  8287.61501797\n",
      "  6817.5534847  12687.4083107  21709.71178704  3592.74109123\n",
      " 10905.90388327 21991.61152119  5777.12663246  7029.00792077\n",
      " 14574.76811191  3527.17310161  6905.28301153 15098.47954035\n",
      "  6502.47619035  2662.04567599  2988.00762945 21991.61152119\n",
      "  7958.95404524 22478.52696448  5694.48927047  6808.53024245\n",
      " 13327.87844072 21709.71178704  7225.28206335 15079.51596178\n",
      "  2867.24127344 40205.75589945  2512.73376594  7994.92062262\n",
      "  7660.61832867  4046.94941452  2970.81300068  4658.77845283\n",
      "  8689.63596667  7876.8268496  14101.31626112  6905.28301153\n",
      "  6954.11178665  3980.98069644  5084.9299349   4294.39739986\n",
      " 21991.61152119 40205.75589945  8201.97266983  4776.35181128\n",
      "  3980.98069644  8172.89342632 14593.73169048 15454.87908157\n",
      " 43263.6646281  21709.71178704 41343.20652592  7328.25458555\n",
      " 15142.61287365  6600.73680407  7433.40559639 13042.96007125\n",
      "  7039.7891815   7735.30331951  6219.59977702 12917.64011354\n",
      "  8119.06218396 13955.86541326  3461.20438354 13964.9798685\n",
      " 39868.43923912 22760.42669862 12904.11736834 43263.6646281\n",
      " 10953.94620665  4241.61307705  5393.83664029 12941.12757004\n",
      " 40230.63723448 15329.26484216 43600.98128843 13999.21147191\n",
      " 21991.61152119  3241.91405751 43263.6646281  21709.71178704\n",
      "  5009.69368361 13280.70998339 40567.9538948   7196.16374692\n",
      " 13987.62922717  7116.42375026 11580.30165663  7261.25765109\n",
      "  3592.74109123 14197.64653051 14943.92936937  5665.85697396\n",
      " 10871.58252557  5543.9296098   7393.68495508  7893.87294636\n",
      "  8799.3829233   3165.41470248 10999.74628061  6716.55070221\n",
      "  6916.64217213  7196.16374692  4294.39739986  3342.55984541\n",
      "  2988.00762945 43600.98128843  5237.18285243 22478.52696448\n",
      " 22760.42669862  6481.91115034  3592.74109123 13897.67357254\n",
      " 21991.61152119  7112.28971899 13094.7045491  43600.98128843\n",
      " 14919.536802   15079.51596178 21991.61152119  3165.15277238\n",
      "  4112.51740413  2988.00762945 11303.54325051 43600.98128843\n",
      "  6323.71933631 10544.47646561 14811.644158    7377.24224263\n",
      "  6665.3905218   7919.11550255 15546.91192501 21709.71178704\n",
      "  3342.55984541 39868.43923912 14709.36479258  7940.39522395\n",
      "  7872.71954126  4944.26055502 21991.61152119 21991.61152119\n",
      " 15098.47954035  6211.10243462 15098.47954035 15079.51596178\n",
      "  6608.52823573  6658.69043636  7901.40375633 11150.99558957\n",
      "  3410.69421754 14457.95522704 15079.51596178  7118.6425438\n",
      "  4944.17949737  6571.06437052  9248.97650747  7787.90064971\n",
      "  5876.56074708 14201.8559146   8967.74582147  7994.53863302\n",
      "  2895.33643643 12769.73418582  2484.63860296 10953.94620665\n",
      "  4046.94941452  2468.23131655 15142.61287365 14245.68885389\n",
      "  7735.30331951 40230.63723448  7274.8258314  22478.52696448\n",
      " 13052.87227447 43600.98128843  6289.40536498 40315.34796384\n",
      " 21709.71178704  5063.662904   43263.6646281   4414.53294761\n",
      " 43135.59499635 10685.5468345   4991.84048527  5252.11142192\n",
      " 15546.91192501  9867.8538872  12630.42700387  6285.10417568\n",
      " 21991.61152119  8109.52825874  3193.24793536  7115.02339382\n",
      " 11426.70591207  7028.65808502  2988.00762945  4112.51740413\n",
      "  4285.78865432 21709.71178704 10544.47646561  4819.68030719\n",
      "  9038.34476694  6151.30801836 14092.54485337  7083.32272422\n",
      " 21709.71178704  6374.70267043  4068.48164469  7913.83899498\n",
      "  8731.54034594  7990.68258902  6813.8501146  21709.71178704\n",
      "  5926.35047253  7869.36486989 11097.35049213  6751.03068611\n",
      " 21709.71178704  8119.06218396  7115.02339382 15079.51596178\n",
      "  8192.29010538  6496.17217283 21709.71178704 39868.43923912\n",
      "  3585.36294617 10615.41060242 10957.65019371  6735.19733978\n",
      "  7090.55207466 21991.61152119  5584.70605636 11809.60388884\n",
      " 10999.74628061 21991.61152119 15546.91192501 10581.48518162\n",
      "  6383.95179267 13964.9798685   3708.60571648  6152.30597539\n",
      " 13626.08981507  4896.9286209  10871.58252557 39868.43923912\n",
      " 43600.98128843  2867.24127344 10412.14849095  4112.51740413\n",
      " 21709.71178704  2468.23131655 12998.08804188  8119.06218396\n",
      " 21991.61152119 43600.98128843  5876.13937729 21709.71178704\n",
      " 14924.9657908  14101.31626112 40205.75589945 43263.6646281\n",
      "  2645.63838958  3395.34416822 21709.71178704  2468.23131655\n",
      " 39868.43923912  5136.54600942 13939.5869038  21991.61152119\n",
      "  8093.35662072 40205.75589945  5805.52802193 43263.6646281\n",
      "  8383.69057623 14943.92936937 10830.22680247 22760.42669862\n",
      "  5476.9244827  13165.85192659 10615.41060242  7679.6186516\n",
      "  4944.26055502  5926.42328459  3864.45341303 14385.81997799\n",
      " 43600.98128843  7503.93005159  6251.27598602  7532.57143067\n",
      " 10544.47646561  7219.06736388 15454.87908157 14043.97066953\n",
      " 40567.9538948  14943.92936937  3444.79709713 13941.30859743\n",
      " 14530.6347786   5956.1794917  10248.70585233  2496.32647953\n",
      " 39868.43923912 15546.91192501  2867.24127344  5835.87905397\n",
      "  7328.25458555  5003.14045461 15454.87908157 21709.71178704\n",
      " 13093.71667754 13026.58536638 12571.6825101  13352.84523244\n",
      " 43600.98128843 13030.61976566  3904.52331798 39868.43923912\n",
      " 10953.94620665  4896.9286209  43600.98128843  3592.74109123\n",
      " 12349.5423673   5455.09271102 21709.71178704 13767.57449009\n",
      "  5047.74820482 13342.93302922  6446.99469199 12943.12524567\n",
      " 10667.50020147 11862.34404406  4784.88112973  8218.65757177\n",
      " 13833.0897127  40892.79709054 21991.61152119  7057.78722947\n",
      "  2468.23131655 14239.55986177  8286.89342989 39868.43923912\n",
      " 40205.75589945  7433.40559639 39868.43923912  9040.75722228\n",
      " 43600.98128843  6169.30531967 40205.75589945 14880.8324575\n",
      " 13447.67209214  6937.95969299  6206.38608809  3004.41491586\n",
      "  7481.07920867  5575.00586384 12899.21423878 12492.52024196\n",
      "  4717.68870459 11646.87728784  8105.76317126  5476.9244827\n",
      "  5981.64869037 39868.43923912 10905.90388327  7262.79010236\n",
      " 12433.77574819  7095.53977734 10847.19861967 12571.72174027\n",
      " 43263.6646281   3964.57341003 14570.93487916  7108.6715387\n",
      "  3638.79854717 13027.90548275 42798.27833602  7057.6624546\n",
      " 10925.34989328  8119.06218396 40205.75589945  3708.60571648\n",
      "  3964.57341003  5539.10253498  8338.33418695  6936.23526549\n",
      "  5063.662904    3165.41470248  7129.55961342  6756.58686537\n",
      " 13199.18719675  6626.89435294  5876.56074708  7112.78528277\n",
      " 21709.71178704 21991.61152119 13184.13260826  7757.73138938\n",
      "  6735.19733978  3181.82198889 21991.61152119  6910.33269999\n",
      "  4046.94941452 22478.52696448  7881.00165017  4817.25539735\n",
      "  4757.19890179 11303.54325051 22478.52696448  8799.3829233\n",
      " 40205.75589945 14861.86887893 21991.61152119  3181.82198889\n",
      "  7242.04171375  7561.03547396 14089.46172838 10733.58915787\n",
      "  6193.0754253   3938.79711232 23312.47415638  6780.79306582\n",
      "  7396.51840677  6267.1906852   7872.71954126  9565.95221902\n",
      "  3444.79709713 11150.99558957 21709.71178704  7083.34091382\n",
      " 14937.70596777 40230.63723448 21709.71178704 14937.70596777\n",
      "  6990.21244699  7154.92076308  2468.23131655 12561.01956988\n",
      "  6034.29844489  3527.17310161  7129.44321041  5678.57457129\n",
      " 43600.98128843  8092.86780518  6808.53024245  7494.56028195\n",
      " 11580.30165663 21709.71178704  7567.3449461   6371.40601217\n",
      "  7997.2430922   7735.30331951 13199.18719675 13070.05776548\n",
      " 43600.98128843 21709.71178704 13929.81825236 13388.18351588\n",
      "  8172.89342632  4444.63602819 14880.8324575  12952.97839698\n",
      "  7997.2430922   5455.09271102 43600.98128843 43600.98128843\n",
      "  3708.60571648  5068.87977912  3514.70687043  5974.24821714\n",
      "  8146.33719734  6865.56703226  4112.51740413 39868.43923912\n",
      " 22478.52696448  2484.63860296 21709.71178704  7331.46391196\n",
      "  6085.24358874  6986.00199482 11095.01657554 13929.81825236\n",
      " 13939.5869038  12655.24684296  6724.18817779  5047.74820482\n",
      "  6910.33269999  7940.39522395 10792.254106   21991.61152119\n",
      " 13384.57518026 39868.43923912  4034.48318333  8126.37114872\n",
      "  5605.32476962  5171.34691252  8099.81491975  6338.96118822\n",
      " 21709.71178704 13352.84523244  3638.79854717  6065.51613866\n",
      " 22478.52696448  6059.13361192 10488.45713611 21991.61152119\n",
      " 21709.71178704  3405.02850205 43600.98128843 10927.04971809\n",
      "  5961.69762487  6667.76809219 40205.75589945  8201.97266983\n",
      "  8119.06218396 40205.75589945  2484.63860296  9663.62518009\n",
      " 13088.2105579   2867.24127344  2496.32647953  6251.27598602\n",
      "  7462.30825483  3736.70087946 43263.6646281  43263.6646281\n",
      "  5358.96069096 21991.61152119 21991.61152119  4627.42034498\n",
      " 21709.71178704 21709.71178704 36920.12257486  7302.68747161\n",
      "  7335.94634416  6512.97113882  6426.07065137 40205.75589945\n",
      " 21709.71178704  3342.55984541  3004.41491586  3592.74109123\n",
      "  8273.80927139  7760.33078997  6751.11203897 21991.61152119\n",
      " 15142.61287365 42070.41143399  5559.37440752 14924.9657908\n",
      "  7265.07365496 11247.95722714  3708.60571648 12571.6825101\n",
      " 14457.95522704  4112.51740413 12619.72483348 11323.90842684\n",
      "  3964.57341003  4112.51740413  3032.51007884 22760.42669862]\n"
     ]
    },
    {
     "data": {
      "text/plain": [
       "(608,)"
      ]
     },
     "execution_count": 56,
     "metadata": {},
     "output_type": "execute_result"
    }
   ],
   "source": [
    "y_val_pred = mod_ins.predict(x_val)\n",
    "print(x_val.shape)\n",
    "print(y_val_pred)\n",
    "y_val_pred.shape"
   ]
  },
  {
   "cell_type": "code",
   "execution_count": 57,
   "metadata": {},
   "outputs": [
    {
     "name": "stdout",
     "output_type": "stream",
     "text": [
      "R squared: 0.850\n"
     ]
    }
   ],
   "source": [
    "#R Squared value is calculated\n",
    "\n",
    "from sklearn.metrics import r2_score\n",
    "\n",
    "print('R squared: %.3f'% r2_score(y_val, y_val_pred))"
   ]
  },
  {
   "cell_type": "code",
   "execution_count": 58,
   "metadata": {},
   "outputs": [
    {
     "name": "stdout",
     "output_type": "stream",
     "text": [
      "4651.601275709228\n"
     ]
    }
   ],
   "source": [
    "#RMSE value is calculated\n",
    "\n",
    "from sklearn.metrics import mean_squared_error\n",
    "mean = mean_squared_error(y_val, y_val_pred) \n",
    "rmse = np.sqrt(mean_squared_error(y_val, y_val_pred))\n",
    "print(rmse)"
   ]
  },
  {
   "cell_type": "code",
   "execution_count": 59,
   "metadata": {},
   "outputs": [
    {
     "data": {
      "text/plain": [
       "<AxesSubplot:xlabel='Importance Score', ylabel='Feature'>"
      ]
     },
     "execution_count": 59,
     "metadata": {},
     "output_type": "execute_result"
    },
    {
     "data": {
      "image/png": "[encoded data removed]",
      "text/plain": [
       "<Figure size 432x432 with 1 Axes>"
      ]
     },
     "metadata": {
      "needs_background": "light"
     },
     "output_type": "display_data"
    }
   ],
   "source": [
    "# After training the data set feature importance is calculated \n",
    "\n",
    "'''Calculate feature importance scores with your model'''\n",
    "\n",
    "feat_imps = pd.DataFrame(model.feature_importances_, index = x_trn.columns,\n",
    "                                    columns=['Importance score']).sort_values('Importance score',ascending=False)\n",
    "feat_imps = feat_imps.reset_index()\n",
    "feat_imps.columns = [\"Feature\",\"Importance Score\"]\n",
    "plt.figure(figsize = (6,6))\n",
    "sns.barplot(x = \"Importance Score\",y = \"Feature\",data = feat_imps,orient = \"h\")\n"
   ]
  },
  {
   "cell_type": "code",
   "execution_count": 60,
   "metadata": {},
   "outputs": [],
   "source": [
    "''' From the feature importance scores a new data frame is formaed to calculate the accuracy on the validation dataset'''\n",
    "\n",
    "df_ins_3 = df_ins_2[['smoker','bmi','age','charges']]"
   ]
  },
  {
   "cell_type": "code",
   "execution_count": 61,
   "metadata": {},
   "outputs": [
    {
     "data": {
      "text/html": [
       "<div>\n",
       "<style scoped>\n",
       "    .dataframe tbody tr th:only-of-type {\n",
       "        vertical-align: middle;\n",
       "    }\n",
       "\n",
       "    .dataframe tbody tr th {\n",
       "        vertical-align: top;\n",
       "    }\n",
       "\n",
       "    .dataframe thead th {\n",
       "        text-align: right;\n",
       "    }\n",
       "</style>\n",
       "<table border=\"1\" class=\"dataframe\">\n",
       "  <thead>\n",
       "    <tr style=\"text-align: right;\">\n",
       "      <th></th>\n",
       "      <th>smoker</th>\n",
       "      <th>bmi</th>\n",
       "      <th>age</th>\n",
       "      <th>charges</th>\n",
       "    </tr>\n",
       "  </thead>\n",
       "  <tbody>\n",
       "    <tr>\n",
       "      <th>0</th>\n",
       "      <td>2</td>\n",
       "      <td>27.900</td>\n",
       "      <td>19</td>\n",
       "      <td>16884.92400</td>\n",
       "    </tr>\n",
       "    <tr>\n",
       "      <th>1</th>\n",
       "      <td>1</td>\n",
       "      <td>33.770</td>\n",
       "      <td>18</td>\n",
       "      <td>1725.55230</td>\n",
       "    </tr>\n",
       "    <tr>\n",
       "      <th>2</th>\n",
       "      <td>1</td>\n",
       "      <td>33.000</td>\n",
       "      <td>28</td>\n",
       "      <td>4449.46200</td>\n",
       "    </tr>\n",
       "    <tr>\n",
       "      <th>3</th>\n",
       "      <td>1</td>\n",
       "      <td>22.705</td>\n",
       "      <td>33</td>\n",
       "      <td>21984.47061</td>\n",
       "    </tr>\n",
       "    <tr>\n",
       "      <th>4</th>\n",
       "      <td>1</td>\n",
       "      <td>28.880</td>\n",
       "      <td>32</td>\n",
       "      <td>3866.85520</td>\n",
       "    </tr>\n",
       "  </tbody>\n",
       "</table>\n",
       "</div>"
      ],
      "text/plain": [
       "   smoker     bmi  age      charges\n",
       "0       2  27.900   19  16884.92400\n",
       "1       1  33.770   18   1725.55230\n",
       "2       1  33.000   28   4449.46200\n",
       "3       1  22.705   33  21984.47061\n",
       "4       1  28.880   32   3866.85520"
      ]
     },
     "execution_count": 61,
     "metadata": {},
     "output_type": "execute_result"
    }
   ],
   "source": [
    "df_ins_3.head()"
   ]
  },
  {
   "cell_type": "code",
   "execution_count": 62,
   "metadata": {},
   "outputs": [
    {
     "name": "stdout",
     "output_type": "stream",
     "text": [
      "(1338, 3)\n",
      "(1338,)\n"
     ]
    }
   ],
   "source": [
    "#Insurance Charges is calculated\n",
    "x_feat_imp = df_ins_3.drop('charges', axis=1)\n",
    "y_feat_imp = df_ins_3['charges']\n",
    "print(x_feat_imp.shape)\n",
    "print(y_feat_imp.shape)"
   ]
  },
  {
   "cell_type": "code",
   "execution_count": 63,
   "metadata": {},
   "outputs": [
    {
     "name": "stdout",
     "output_type": "stream",
     "text": [
      "(730, 3) (608, 3) (730,) (608,)\n",
      "0    16884.92400\n",
      "1     1725.55230\n",
      "2     4449.46200\n",
      "3    21984.47061\n",
      "4     3866.85520\n",
      "Name: charges, dtype: float64\n",
      "730    19361.99880\n",
      "731    10065.41300\n",
      "732     4234.92700\n",
      "733     9447.25035\n",
      "734    14007.22200\n",
      "Name: charges, dtype: float64\n"
     ]
    }
   ],
   "source": [
    "#Splitting the data to form train and validation datasets\n",
    "def split_df(df,num):\n",
    "    return df[ :num].copy(),df[num: ].copy()\n",
    "\n",
    "\n",
    "x_trn_1,x_val_1 = split_df(x_feat_imp,730)\n",
    "y_trn_1,y_val_1 = split_df(y_feat_imp,730)\n",
    "print(x_trn_1.shape,x_val_1.shape,y_trn_1.shape,y_val_1.shape)\n",
    "print(y_trn_1.head(5))\n",
    "print(y_val_1.head(5))"
   ]
  },
  {
   "cell_type": "code",
   "execution_count": 64,
   "metadata": {},
   "outputs": [
    {
     "data": {
      "text/plain": [
       "RandomForestRegressor(max_depth=300, min_samples_leaf=25, n_estimators=20,\n",
       "                      n_jobs=-1)"
      ]
     },
     "execution_count": 64,
     "metadata": {},
     "output_type": "execute_result"
    }
   ],
   "source": [
    "#RandomforestRegressor()\n",
    "\n",
    "mod_ins_1 = RandomForestRegressor(n_jobs = -1,oob_score = False,n_estimators = 20,\n",
    "                                   max_depth = 300,min_samples_leaf = 25)\n",
    "mod_ins_1.fit(x_trn_1,y_trn_1)\n"
   ]
  },
  {
   "cell_type": "code",
   "execution_count": 66,
   "metadata": {},
   "outputs": [
    {
     "name": "stdout",
     "output_type": "stream",
     "text": [
      "(608, 3)\n",
      "[21354.60537562 14073.97306082  5226.70447168 11036.86181477\n",
      " 14656.29884257 10608.04048717 40891.14296589  5844.56002294\n",
      " 40671.75042939 40671.75042939  8292.16596957 21354.60537562\n",
      " 43385.65091148  6589.36508405 12014.54721115 11390.90436511\n",
      "  7364.41164331  2259.60748204 10399.79925898  5477.98832133\n",
      " 21354.60537562  2508.98934538 15096.40210192 14055.58225785\n",
      "  4853.13756171  6540.60021392  7676.13131362 21652.99972573\n",
      "  5337.61165391 40671.75042939  4017.21253634  4037.11808563\n",
      " 21354.60537562  5480.96549957  8265.10350987 14006.04762107\n",
      " 10399.79925898  7463.68924189 15096.40210192  7676.13131362\n",
      " 15005.02296349 14073.97306082  8445.96992735 21354.60537562\n",
      "  7384.30260896 11180.58652397  7104.60609893  8445.96992735\n",
      "  6971.88668724 13872.07541917 21354.60537562  3810.61201604\n",
      " 11083.6732576  21652.99972573  6397.55131446  7321.93353616\n",
      " 14760.84571925  4037.11808563  7114.11033539 15505.91728938\n",
      "  7087.21749132  2257.04623064  2600.25650382 21652.99972573\n",
      "  6649.96779535 21354.60537562  5337.61165391  7114.11033539\n",
      " 13290.58794726 21354.60537562  7520.05896187 15005.02296349\n",
      "  2486.11355164 40671.75042939  2597.69525241  8445.96992735\n",
      "  7395.86231607  3810.61201604  3963.78921809  5091.10828489\n",
      "  9019.72522037  6804.17318799 14171.12869366  6848.96606235\n",
      "  6971.88668724  4420.09451998  5066.32797248  4037.11808563\n",
      " 21652.99972573 40671.75042939  8228.98494053  5844.56002294\n",
      "  4240.27534355  8039.4886854  15351.09101689 15446.73714479\n",
      " 43385.65091148 21354.60537562 42660.02635241  7676.13131362\n",
      " 15005.02296349  7501.31729738  6848.96606235 13110.78604987\n",
      "  6706.29667428  7734.4811386   6439.66911317 13618.54790133\n",
      "  7777.12424689 14859.00050679  4466.78141315 14762.20474838\n",
      " 40671.75042939 21652.99972573 13754.70460138 43385.65091148\n",
      " 11083.6732576   4037.11808563  5844.56002294 13303.55138283\n",
      " 40891.14296589 15446.73714479 43385.65091148 14073.97306082\n",
      " 21652.99972573  3543.96021132 43385.65091148 21354.60537562\n",
      "  5246.74903474 13853.98781202 40891.14296589  7185.47309002\n",
      " 12976.50391629  7777.12424689 12014.54721115  7014.46587273\n",
      "  3810.61201604 13202.1651883  15546.38172531  5454.70280827\n",
      " 11083.6732576   5903.01415724  7852.30578106  8071.55040417\n",
      "  8292.16596957  2597.69525241 11102.84903329  6488.67075267\n",
      "  7282.5478634   7191.16365194  4017.21253634  2597.69525241\n",
      "  2486.11355164 43385.65091148  4927.39630552 21354.60537562\n",
      " 21652.99972573  6505.12242382  4037.11808563 13152.76368239\n",
      " 21652.99972573  7027.84905916 14171.12869366 43385.65091148\n",
      " 15446.73714479 15096.40210192 21652.99972573  2257.04623064\n",
      "  3810.61201604  2259.60748204 11102.84903329 43385.65091148\n",
      "  5372.57449788 10608.04048717 14687.8728175   5756.81748654\n",
      "  5277.97673241  8228.98494053 15096.40210192 21354.60537562\n",
      "  2597.69525241 40671.75042939 14762.20474838  8133.33009147\n",
      "  7879.61912059  4903.04998407 21652.99972573 21652.99972573\n",
      " 15399.72291333  6792.64677794 15546.38172531 15005.02296349\n",
      "  6649.96779535  6804.17318799  8292.16596957 11414.4106991\n",
      "  2259.60748204 14055.58225785 15096.40210192  7384.30260896\n",
      "  5065.85925515  6740.10802155  9400.83532113  8445.96992735\n",
      "  5318.14722535 14615.5459364   8123.32664509  7676.13131362\n",
      "  2257.04623064 13872.07541917  2259.60748204 11102.07949427\n",
      "  3810.61201604  2259.60748204 15096.40210192 12879.59064993\n",
      "  7734.4811386  40891.14296589  7401.6897214  21354.60537562\n",
      " 14055.58225785 43385.65091148  6321.36562178 42382.68602996\n",
      " 21354.60537562  5337.61165391 43385.65091148  4539.02146973\n",
      " 43385.65091148 10542.05326864  3810.61201604  6753.07706342\n",
      " 15005.02296349  9427.89778083 12294.50699257  7337.60531801\n",
      " 21652.99972573  8265.10350987  2483.55230024  7087.21749132\n",
      " 11814.90827159  7803.93057219  2600.25650382  3810.61201604\n",
      "  5065.85925515 21354.60537562 10542.05326864  5756.81748654\n",
      "  8445.96992735  6505.12242382 14171.12869366  7803.93057219\n",
      " 21354.60537562  5493.4124056   4143.60839452  8123.63112975\n",
      "  8071.55040417  8117.63144271  6804.17318799 21354.60537562\n",
      "  5844.56002294  7185.47309002 11470.24152714  7185.47309002\n",
      " 21354.60537562  7676.13131362  6821.62747837 15077.99586525\n",
      "  6804.17318799  7337.60531801 21354.60537562 40671.75042939\n",
      "  4702.7334491  10564.49451199 10894.6078051   5425.68664956\n",
      "  6284.55187795 21652.99972573  5452.14155686 11814.90827159\n",
      " 11036.86181477 21652.99972573 15005.02296349 10542.05326864\n",
      "  7376.24346582 14762.20474838  2257.04623064  5045.95370586\n",
      " 12945.7951722   4355.00123789 11083.6732576  40671.75042939\n",
      " 43385.65091148  2259.60748204 10399.79925898  4017.21253634\n",
      " 21354.60537562  2600.25650382 14074.27662959  7790.56646438\n",
      " 21652.99972573 43385.65091148  6321.36562178 21354.60537562\n",
      " 15096.40210192 14171.12869366 40671.75042939 42382.68602996\n",
      "  2623.13229756  2257.04623064 21354.60537562  2259.60748204\n",
      " 40671.75042939  6485.37153898 12879.59064993 21652.99972573\n",
      "  8292.16596957 40671.75042939  5454.70280827 43385.65091148\n",
      "  8445.96992735 15546.38172531 10630.48173051 21652.99972573\n",
      "  5844.56002294 13903.32972556 10780.71435553  8138.84471434\n",
      "  4795.87696642  5445.22579229  5175.62787158 13853.98781202\n",
      " 43385.65091148  7225.01169095  6753.07706342  7825.24332136\n",
      " 10542.05326864  7087.21749132 15546.38172531 14074.27662959\n",
      " 40891.14296589 15505.91728938  4466.78141315 13969.231052\n",
      " 15351.09101689  6601.12925919 10399.79925898  2483.55230024\n",
      " 40671.75042939 15005.02296349  2259.60748204  6467.04480411\n",
      "  7676.13131362  5268.73845737 15505.91728938 21354.60537562\n",
      " 13903.02652973 14006.04762107 12440.82176484 13926.63991904\n",
      " 43385.65091148 13903.02652973  4355.00123789 39668.78554788\n",
      " 11180.58652397  4240.27534355 43385.65091148  4144.29110328\n",
      " 12780.0605482   5085.95132248 21354.60537562 13791.68429401\n",
      "  5475.09541754 13110.78604987  6797.79453798 13909.78326653\n",
      " 10630.48173051 12014.54721115  5445.3653085   8292.16596957\n",
      " 13822.91094668 40891.14296589 21652.99972573  6321.6595596\n",
      "  2600.25650382 13303.55138283  7290.42218829 40671.75042939\n",
      " 40671.75042939  7114.11033539 40671.75042939  9197.97084778\n",
      " 43385.65091148  5277.97673241 40671.75042939 15546.38172531\n",
      " 13903.02652973  6971.88668724  6362.09584011  2259.60748204\n",
      "  7676.13131362  5065.85925515 13202.1651883  13276.87071157\n",
      "  5322.21136857 11814.90827159  8292.16596957  5844.56002294\n",
      "  6531.92874912 40671.75042939 11083.6732576   7272.28630111\n",
      " 13276.87071157  6740.10802155 11414.4106991  12474.30888995\n",
      " 43385.65091148  4420.09451998 14104.92417139  7517.49615178\n",
      "  3963.78921809 13110.78604987 43385.65091148  6971.88668724\n",
      " 10837.22287521  7777.12424689 40671.75042939  2600.25650382\n",
      "  4343.15115548  5318.14722535  8445.96992735  6804.17318799\n",
      "  5337.61165391  2257.04623064  7361.30576251  7501.31729738\n",
      " 13202.1651883   7114.11033539  5318.14722535  6936.06262913\n",
      " 21354.60537562 21652.99972573 13025.9054222   6988.31045824\n",
      "  5425.68664956  2597.69525241 21652.99972573  7506.73890282\n",
      "  4037.11808563 21354.60537562  7734.4811386   4998.76380218\n",
      "  5513.98540846 11036.86181477 21354.60537562  8292.16596957\n",
      " 40671.75042939 15249.18179901 21652.99972573  2597.69525241\n",
      "  5288.20288593  7726.61066517 13534.74678278 10542.05326864\n",
      "  7114.11033539  2257.04623064 23381.7637571   7297.9525053\n",
      "  7147.84846651  6753.07706342  7790.56646438  9197.97084778\n",
      "  4466.78141315 11414.4106991  21354.60537562  7777.12424689\n",
      " 14054.38058681 40671.75042939 21354.60537562 14145.75972524\n",
      "  6505.12242382  6821.62747837  2259.60748204 12391.42025894\n",
      "  5389.75690767  3810.61201604  7676.13131362  5475.09541754\n",
      " 43385.65091148  6715.421106    7114.11033539  7676.13131362\n",
      " 12014.54721115 21354.60537562  7726.61066517  6804.17318799\n",
      "  7676.13131362  7734.4811386  12879.59064993 13897.74700413\n",
      " 43385.65091148 21354.60537562 14171.12869366 14055.58225785\n",
      "  8117.63144271  5389.75690767 15546.38172531 13908.92344587\n",
      "  7790.56646438  4978.77830484 43385.65091148 43385.65091148\n",
      "  2600.25650382  5300.75483543  3917.78503368  6848.96606235\n",
      "  8123.63112975  7130.34393286  3810.61201604 40671.75042939\n",
      " 21354.60537562  2259.60748204 21354.60537562  7147.84846651\n",
      "  7348.73986146  7734.4811386  11083.6732576  13969.53424783\n",
      " 13025.9054222  13276.87071157  7259.78951772  5195.13280163\n",
      "  7361.30576251  8071.55040417 10608.04048717 21652.99972573\n",
      " 13785.65571195 40671.75042939  4097.60421012  8133.33009147\n",
      "  5173.0322728   4958.87275554  8265.10350987  7415.78206674\n",
      " 21354.60537562 14055.58225785  4190.29528769  6405.12262828\n",
      " 21354.60537562  4927.39630552 10542.05326864 21652.99972573\n",
      " 21354.60537562  3963.78921809 43385.65091148 10894.6078051\n",
      "  6848.96606235  7501.31729738 40671.75042939  8445.96992735\n",
      "  7676.13131362 40671.75042939  2486.11355164  9400.83532113\n",
      " 14055.58225785  2439.42665848  2257.04623064  6321.6595596\n",
      "  7648.77237744  2257.04623064 42382.68602996 43385.65091148\n",
      "  5454.70280827 21652.99972573 21652.99972573  4539.02146973\n",
      " 21354.60537562 21354.60537562 39668.78554788  7272.28630111\n",
      "  7520.05896187  7440.10019171  6804.17318799 40671.75042939\n",
      " 21354.60537562  2257.04623064  2259.60748204  3810.61201604\n",
      "  6971.88668724  7298.06671709  5288.20288593 21652.99972573\n",
      " 15096.40210192 43385.65091148  6753.07706342 15005.02296349\n",
      "  7491.82994759 11508.2751829   2600.25650382 12440.82176484\n",
      " 14055.58225785  4144.29110328 12440.82176484 11390.90436511\n",
      "  4240.27534355  3810.61201604  2483.55230024 21652.99972573]\n"
     ]
    },
    {
     "data": {
      "text/plain": [
       "(608,)"
      ]
     },
     "execution_count": 66,
     "metadata": {},
     "output_type": "execute_result"
    }
   ],
   "source": [
    "y_val_pred_1 = mod_ins_1.predict(x_val_1)\n",
    "print(x_val_1.shape)\n",
    "print(y_val_pred_1)\n",
    "y_val_pred_1.shape"
   ]
  },
  {
   "cell_type": "code",
   "execution_count": 67,
   "metadata": {},
   "outputs": [
    {
     "name": "stdout",
     "output_type": "stream",
     "text": [
      "R squared: 0.841\n"
     ]
    }
   ],
   "source": [
    "#R squared value\n",
    "\n",
    "from sklearn.metrics import r2_score\n",
    "print('R squared: %.3f'% r2_score(y_val_1, y_val_pred_1))"
   ]
  },
  {
   "cell_type": "code",
   "execution_count": 69,
   "metadata": {},
   "outputs": [
    {
     "name": "stdout",
     "output_type": "stream",
     "text": [
      "4789.566064749399\n"
     ]
    }
   ],
   "source": [
    "#RMSE Value\n",
    "\n",
    "from sklearn.metrics import mean_squared_error\n",
    "mean = mean_squared_error(y_val_1, y_val_pred_1) \n",
    "rmse = np.sqrt(mean_squared_error(y_val_1, y_val_pred_1))\n",
    "print(rmse)"
   ]
  },
  {
   "cell_type": "code",
   "execution_count": 71,
   "metadata": {},
   "outputs": [
    {
     "data": {
      "text/plain": [
       "<bound method NDFrame.head of       age     sex     bmi  children smoker     region      charges\n",
       "0      19  female  27.900         0    yes  southwest  16884.92400\n",
       "1      18    male  33.770         1     no  southeast   1725.55230\n",
       "2      28    male  33.000         3     no  southeast   4449.46200\n",
       "3      33    male  22.705         0     no  northwest  21984.47061\n",
       "4      32    male  28.880         0     no  northwest   3866.85520\n",
       "...   ...     ...     ...       ...    ...        ...          ...\n",
       "1333   50    male  30.970         3     no  northwest  10600.54830\n",
       "1334   18  female  31.920         0     no  northeast   2205.98080\n",
       "1335   18  female  36.850         0     no  southeast   1629.83350\n",
       "1336   21  female  25.800         0     no  southwest   2007.94500\n",
       "1337   61  female  29.070         0    yes  northwest  29141.36030\n",
       "\n",
       "[1338 rows x 7 columns]>"
      ]
     },
     "execution_count": 71,
     "metadata": {},
     "output_type": "execute_result"
    }
   ],
   "source": [
    "'''Read in test data'''\n",
    "df_ins_test = pd.read_csv(r'C:\\Users\\Lokesh Balaji\\Desktop\\NEU Study\\INFO6105\\insurance.csv')\n",
    "df_ins_test.head\n",
    "\n"
   ]
  },
  {
   "cell_type": "code",
   "execution_count": 73,
   "metadata": {},
   "outputs": [
    {
     "data": {
      "text/html": [
       "<div>\n",
       "<style scoped>\n",
       "    .dataframe tbody tr th:only-of-type {\n",
       "        vertical-align: middle;\n",
       "    }\n",
       "\n",
       "    .dataframe tbody tr th {\n",
       "        vertical-align: top;\n",
       "    }\n",
       "\n",
       "    .dataframe thead th {\n",
       "        text-align: right;\n",
       "    }\n",
       "</style>\n",
       "<table border=\"1\" class=\"dataframe\">\n",
       "  <thead>\n",
       "    <tr style=\"text-align: right;\">\n",
       "      <th></th>\n",
       "      <th>age</th>\n",
       "      <th>sex</th>\n",
       "      <th>bmi</th>\n",
       "      <th>children</th>\n",
       "      <th>smoker</th>\n",
       "      <th>region</th>\n",
       "      <th>charges</th>\n",
       "    </tr>\n",
       "  </thead>\n",
       "  <tbody>\n",
       "    <tr>\n",
       "      <th>0</th>\n",
       "      <td>19</td>\n",
       "      <td>1</td>\n",
       "      <td>27.900</td>\n",
       "      <td>0</td>\n",
       "      <td>2</td>\n",
       "      <td>4</td>\n",
       "      <td>16884.92400</td>\n",
       "    </tr>\n",
       "    <tr>\n",
       "      <th>1</th>\n",
       "      <td>18</td>\n",
       "      <td>2</td>\n",
       "      <td>33.770</td>\n",
       "      <td>1</td>\n",
       "      <td>1</td>\n",
       "      <td>3</td>\n",
       "      <td>1725.55230</td>\n",
       "    </tr>\n",
       "    <tr>\n",
       "      <th>2</th>\n",
       "      <td>28</td>\n",
       "      <td>2</td>\n",
       "      <td>33.000</td>\n",
       "      <td>3</td>\n",
       "      <td>1</td>\n",
       "      <td>3</td>\n",
       "      <td>4449.46200</td>\n",
       "    </tr>\n",
       "    <tr>\n",
       "      <th>3</th>\n",
       "      <td>33</td>\n",
       "      <td>2</td>\n",
       "      <td>22.705</td>\n",
       "      <td>0</td>\n",
       "      <td>1</td>\n",
       "      <td>2</td>\n",
       "      <td>21984.47061</td>\n",
       "    </tr>\n",
       "    <tr>\n",
       "      <th>4</th>\n",
       "      <td>32</td>\n",
       "      <td>2</td>\n",
       "      <td>28.880</td>\n",
       "      <td>0</td>\n",
       "      <td>1</td>\n",
       "      <td>2</td>\n",
       "      <td>3866.85520</td>\n",
       "    </tr>\n",
       "  </tbody>\n",
       "</table>\n",
       "</div>"
      ],
      "text/plain": [
       "   age  sex     bmi  children  smoker  region      charges\n",
       "0   19    1  27.900         0       2       4  16884.92400\n",
       "1   18    2  33.770         1       1       3   1725.55230\n",
       "2   28    2  33.000         3       1       3   4449.46200\n",
       "3   33    2  22.705         0       1       2  21984.47061\n",
       "4   32    2  28.880         0       1       2   3866.85520"
      ]
     },
     "execution_count": 73,
     "metadata": {},
     "output_type": "execute_result"
    }
   ],
   "source": [
    "#funtion implementation\n",
    "df_ins_test_1 = str_to_cat(df_ins_test)\n",
    "df_ins_test_2,my_table = mydf_preprocessor(df_ins_test_1,null_table = None)\n",
    "df_ins_test_2.head(5)\n"
   ]
  },
  {
   "cell_type": "code",
   "execution_count": 74,
   "metadata": {},
   "outputs": [
    {
     "data": {
      "text/html": [
       "<div>\n",
       "<style scoped>\n",
       "    .dataframe tbody tr th:only-of-type {\n",
       "        vertical-align: middle;\n",
       "    }\n",
       "\n",
       "    .dataframe tbody tr th {\n",
       "        vertical-align: top;\n",
       "    }\n",
       "\n",
       "    .dataframe thead th {\n",
       "        text-align: right;\n",
       "    }\n",
       "</style>\n",
       "<table border=\"1\" class=\"dataframe\">\n",
       "  <thead>\n",
       "    <tr style=\"text-align: right;\">\n",
       "      <th></th>\n",
       "      <th>smoker</th>\n",
       "      <th>bmi</th>\n",
       "      <th>age</th>\n",
       "    </tr>\n",
       "  </thead>\n",
       "  <tbody>\n",
       "    <tr>\n",
       "      <th>0</th>\n",
       "      <td>2</td>\n",
       "      <td>27.900</td>\n",
       "      <td>19</td>\n",
       "    </tr>\n",
       "    <tr>\n",
       "      <th>1</th>\n",
       "      <td>1</td>\n",
       "      <td>33.770</td>\n",
       "      <td>18</td>\n",
       "    </tr>\n",
       "    <tr>\n",
       "      <th>2</th>\n",
       "      <td>1</td>\n",
       "      <td>33.000</td>\n",
       "      <td>28</td>\n",
       "    </tr>\n",
       "    <tr>\n",
       "      <th>3</th>\n",
       "      <td>1</td>\n",
       "      <td>22.705</td>\n",
       "      <td>33</td>\n",
       "    </tr>\n",
       "    <tr>\n",
       "      <th>4</th>\n",
       "      <td>1</td>\n",
       "      <td>28.880</td>\n",
       "      <td>32</td>\n",
       "    </tr>\n",
       "  </tbody>\n",
       "</table>\n",
       "</div>"
      ],
      "text/plain": [
       "   smoker     bmi  age\n",
       "0       2  27.900   19\n",
       "1       1  33.770   18\n",
       "2       1  33.000   28\n",
       "3       1  22.705   33\n",
       "4       1  28.880   32"
      ]
     },
     "execution_count": 74,
     "metadata": {},
     "output_type": "execute_result"
    }
   ],
   "source": [
    "''' From the feature importance scores a new data frame is formaed to calculate the accuracy on the validation dataset'''\n",
    "\n",
    "df_ins_test_3 = df_ins_test_2[['smoker','bmi','age']]\n",
    "df_ins_test_3.head()"
   ]
  },
  {
   "cell_type": "code",
   "execution_count": 75,
   "metadata": {},
   "outputs": [
    {
     "name": "stdout",
     "output_type": "stream",
     "text": [
      "[21574.36853005  3682.38683707  5565.19364072 ...  3755.21498554\n",
      "  2587.82310319 21574.36853005]\n"
     ]
    },
    {
     "data": {
      "text/plain": [
       "(1338,)"
      ]
     },
     "execution_count": 75,
     "metadata": {},
     "output_type": "execute_result"
    }
   ],
   "source": [
    "'''Predictions for the test set'''\n",
    "y_test_pred = model_1.predict(df_test_3)\n",
    "#print(df_ins_test_3)\n",
    "print(y_test_pred)\n",
    "y_test_pred.shape"
   ]
  },
  {
   "cell_type": "code",
   "execution_count": null,
   "metadata": {},
   "outputs": [],
   "source": []
  }
 ],
 "metadata": {
  "kernelspec": {
   "display_name": "Python 3",
   "language": "python",
   "name": "python3"
  },
  "language_info": {
   "codemirror_mode": {
    "name": "ipython",
    "version": 3
   },
   "file_extension": ".py",
   "mimetype": "text/x-python",
   "name": "python",
   "nbconvert_exporter": "python",
   "pygments_lexer": "ipython3",
   "version": "3.8.8"
  }
 },
 "nbformat": 4,
 "nbformat_minor": 4
}
