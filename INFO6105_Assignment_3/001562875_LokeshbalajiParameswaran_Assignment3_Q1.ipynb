{
 "cells": [
  {
   "cell_type": "markdown",
   "metadata": {},
   "source": [
    "1. Understand the problem and read in the data\n",
    "2. Pre-process data, train-test split\n",
    "3. Build and compile a deep learning model"
   ]
  },
  {
   "cell_type": "markdown",
   "metadata": {},
   "source": [
    "# Understand the problem and read in the data"
   ]
  },
  {
   "cell_type": "markdown",
   "metadata": {},
   "source": [
    "This Kaggle challenge is about predicting the onset of diabetes in 5 years or less. \n",
    "Target variable is Outcome. 1 = yes, the person became diabetic in 5 years, and 0 = No, \n",
    "the person did not. This is a binary classification problem. Please check out the Kaggle\n",
    "link here to see feature \n",
    "details - https://www.kaggle.com/uciml/pima-indians-diabetes-database/data"
   ]
  },
  {
   "cell_type": "code",
   "execution_count": 3,
   "metadata": {},
   "outputs": [
    {
     "name": "stdout",
     "output_type": "stream",
     "text": [
      "('64bit', 'WindowsPE')\n"
     ]
    }
   ],
   "source": [
    "import platform\n",
    "print(platform.architecture())"
   ]
  },
  {
   "cell_type": "code",
   "execution_count": 4,
   "metadata": {},
   "outputs": [],
   "source": [
    "'''Import necessary packages'''\n",
    "from tensorflow.keras.models import Sequential\n",
    "from tensorflow.keras.layers import Dense\n",
    "from sklearn.model_selection import train_test_split\n",
    "import seaborn as sns\n",
    "import numpy as np\n",
    "import pandas as pd\n",
    "from sklearn import preprocessing\n",
    "\n",
    "%matplotlib inline"
   ]
  },
  {
   "cell_type": "code",
   "execution_count": 5,
   "metadata": {},
   "outputs": [
    {
     "data": {
      "text/plain": [
       "'C:\\\\Users\\\\Lokesh Balaji\\\\Desktop\\\\NEU Study\\\\INFO6105'"
      ]
     },
     "execution_count": 5,
     "metadata": {},
     "output_type": "execute_result"
    }
   ],
   "source": [
    "%pwd"
   ]
  },
  {
   "cell_type": "code",
   "execution_count": 6,
   "metadata": {},
   "outputs": [
    {
     "name": "stdout",
     "output_type": "stream",
     "text": [
      "001562875_LokeshbalajiParameswaran.ipynb\n",
      "001562875_LokeshbalajiParameswaran_Assignment3_Q1.ipynb\n",
      "001562875_LokeshbalajiParameswaran_q1.ipynb\n",
      "001562875_Lokeshbalaji_Parameswaran_Q3.ipynb\n",
      "Assignement 2\n",
      "Assignment 1\n",
      "Assignment 3\n",
      "INFO6105_online_desc_syllabus.docx\n",
      "Module_III_code.ipynb\n",
      "Titanic_full.csv\n",
      "UniversalBank.csv\n",
      "aug_train.csv\n",
      "insurance.csv\n",
      "knn_model\n",
      "merged_data.csv\n",
      "pandas_I.ipynb\n",
      "pandas_II.ipynb\n",
      "pima-indians-diabetes.data\n"
     ]
    }
   ],
   "source": [
    "!ls"
   ]
  },
  {
   "cell_type": "code",
   "execution_count": 7,
   "metadata": {},
   "outputs": [],
   "source": [
    "path = 'C:\\\\Users\\\\Lokesh Balaji\\\\Desktop\\\\NEU Study\\\\INFO6105'"
   ]
  },
  {
   "cell_type": "code",
   "execution_count": 8,
   "metadata": {},
   "outputs": [
    {
     "name": "stdout",
     "output_type": "stream",
     "text": [
      "(768, 9)\n"
     ]
    },
    {
     "data": {
      "text/html": [
       "<div>\n",
       "<style scoped>\n",
       "    .dataframe tbody tr th:only-of-type {\n",
       "        vertical-align: middle;\n",
       "    }\n",
       "\n",
       "    .dataframe tbody tr th {\n",
       "        vertical-align: top;\n",
       "    }\n",
       "\n",
       "    .dataframe thead th {\n",
       "        text-align: right;\n",
       "    }\n",
       "</style>\n",
       "<table border=\"1\" class=\"dataframe\">\n",
       "  <thead>\n",
       "    <tr style=\"text-align: right;\">\n",
       "      <th></th>\n",
       "      <th>0</th>\n",
       "      <th>1</th>\n",
       "      <th>2</th>\n",
       "      <th>3</th>\n",
       "      <th>4</th>\n",
       "      <th>5</th>\n",
       "      <th>6</th>\n",
       "      <th>7</th>\n",
       "      <th>8</th>\n",
       "    </tr>\n",
       "  </thead>\n",
       "  <tbody>\n",
       "    <tr>\n",
       "      <th>0</th>\n",
       "      <td>6</td>\n",
       "      <td>148</td>\n",
       "      <td>72</td>\n",
       "      <td>35</td>\n",
       "      <td>0</td>\n",
       "      <td>33.6</td>\n",
       "      <td>0.627</td>\n",
       "      <td>50</td>\n",
       "      <td>1</td>\n",
       "    </tr>\n",
       "    <tr>\n",
       "      <th>1</th>\n",
       "      <td>1</td>\n",
       "      <td>85</td>\n",
       "      <td>66</td>\n",
       "      <td>29</td>\n",
       "      <td>0</td>\n",
       "      <td>26.6</td>\n",
       "      <td>0.351</td>\n",
       "      <td>31</td>\n",
       "      <td>0</td>\n",
       "    </tr>\n",
       "  </tbody>\n",
       "</table>\n",
       "</div>"
      ],
      "text/plain": [
       "   0    1   2   3  4     5      6   7  8\n",
       "0  6  148  72  35  0  33.6  0.627  50  1\n",
       "1  1   85  66  29  0  26.6  0.351  31  0"
      ]
     },
     "execution_count": 8,
     "metadata": {},
     "output_type": "execute_result"
    }
   ],
   "source": [
    "#Reading the data\n",
    "df = pd.read_csv(f'{path}\\\\pima-indians-diabetes.data',header = None)\n",
    "print(df.shape)\n",
    "df.head(2)"
   ]
  },
  {
   "cell_type": "markdown",
   "metadata": {},
   "source": [
    "# Pre-process data, train-test split,Scaling"
   ]
  },
  {
   "cell_type": "code",
   "execution_count": 9,
   "metadata": {},
   "outputs": [],
   "source": [
    "#Separate out X and Y\n",
    "\n",
    "X = df.iloc[:, :8]\n",
    "Y = df.iloc[:, 8:9]"
   ]
  },
  {
   "cell_type": "code",
   "execution_count": 10,
   "metadata": {},
   "outputs": [
    {
     "name": "stdout",
     "output_type": "stream",
     "text": [
      "(460, 8) (308, 8) (460, 1) (308, 1)\n"
     ]
    }
   ],
   "source": [
    "# Train- Test Split\n",
    "(X_train, X_test, Y_train, Y_test) = train_test_split(X, Y, test_size=0.40, random_state=1)\n",
    "print(X_train.shape,X_test.shape,Y_train.shape,Y_test.shape)"
   ]
  },
  {
   "cell_type": "code",
   "execution_count": 11,
   "metadata": {},
   "outputs": [
    {
     "name": "stdout",
     "output_type": "stream",
     "text": [
      "(768, 8) (768, 1)\n"
     ]
    }
   ],
   "source": [
    "print(X.shape,Y.shape)"
   ]
  },
  {
   "cell_type": "code",
   "execution_count": 12,
   "metadata": {},
   "outputs": [
    {
     "name": "stdout",
     "output_type": "stream",
     "text": [
      "(154, 8) (154, 8) (154, 1) (154, 1)\n"
     ]
    }
   ],
   "source": [
    "#Valid Test Split\n",
    "(X_Valid, X_Test, Y_Valid, Y_Test) = train_test_split(X_test, Y_test, test_size=0.50, random_state=1)\n",
    "print(X_Valid.shape,X_Test.shape,Y_Valid.shape,Y_Test.shape)"
   ]
  },
  {
   "cell_type": "code",
   "execution_count": 13,
   "metadata": {},
   "outputs": [
    {
     "name": "stdout",
     "output_type": "stream",
     "text": [
      "            0         1         2         3         4         5         6  \\\n",
      "0    0.639947  0.848324  0.149641  0.907270 -0.692891  0.204013  0.468492   \n",
      "1   -0.844885 -1.123396 -0.160546  0.530902 -0.692891 -0.684422 -0.365061   \n",
      "2    1.233880  1.943724 -0.263941 -1.288212 -0.692891 -1.103255  0.604397   \n",
      "3   -0.844885 -0.998208 -0.160546  0.154533  0.123302 -0.494043 -0.920763   \n",
      "4   -1.141852  0.504055 -1.504687  0.907270  0.765836  1.409746  5.484909   \n",
      "..        ...       ...       ...       ...       ...       ...       ...   \n",
      "763  1.827813 -0.622642  0.356432  1.722735  0.870031  0.115169 -0.908682   \n",
      "764 -0.547919  0.034598  0.046245  0.405445 -0.692891  0.610154 -0.398282   \n",
      "765  0.342981  0.003301  0.149641  0.154533  0.279594 -0.735190 -0.685193   \n",
      "766 -0.844885  0.159787 -0.470732 -1.288212 -0.692891 -0.240205 -0.371101   \n",
      "767 -0.844885 -0.873019  0.046245  0.656358 -0.692891 -0.202129 -0.473785   \n",
      "\n",
      "            7  \n",
      "0    1.425995  \n",
      "1   -0.190672  \n",
      "2   -0.105584  \n",
      "3   -1.041549  \n",
      "4   -0.020496  \n",
      "..        ...  \n",
      "763  2.532136  \n",
      "764 -0.531023  \n",
      "765 -0.275760  \n",
      "766  1.170732  \n",
      "767 -0.871374  \n",
      "\n",
      "[768 rows x 8 columns]\n"
     ]
    },
    {
     "data": {
      "text/html": [
       "<div>\n",
       "<style scoped>\n",
       "    .dataframe tbody tr th:only-of-type {\n",
       "        vertical-align: middle;\n",
       "    }\n",
       "\n",
       "    .dataframe tbody tr th {\n",
       "        vertical-align: top;\n",
       "    }\n",
       "\n",
       "    .dataframe thead th {\n",
       "        text-align: right;\n",
       "    }\n",
       "</style>\n",
       "<table border=\"1\" class=\"dataframe\">\n",
       "  <thead>\n",
       "    <tr style=\"text-align: right;\">\n",
       "      <th></th>\n",
       "      <th>0</th>\n",
       "      <th>1</th>\n",
       "      <th>2</th>\n",
       "      <th>3</th>\n",
       "      <th>4</th>\n",
       "      <th>5</th>\n",
       "      <th>6</th>\n",
       "      <th>7</th>\n",
       "    </tr>\n",
       "  </thead>\n",
       "  <tbody>\n",
       "    <tr>\n",
       "      <th>0</th>\n",
       "      <td>0.639947</td>\n",
       "      <td>0.848324</td>\n",
       "      <td>0.149641</td>\n",
       "      <td>0.907270</td>\n",
       "      <td>-0.692891</td>\n",
       "      <td>0.204013</td>\n",
       "      <td>0.468492</td>\n",
       "      <td>1.425995</td>\n",
       "    </tr>\n",
       "    <tr>\n",
       "      <th>1</th>\n",
       "      <td>-0.844885</td>\n",
       "      <td>-1.123396</td>\n",
       "      <td>-0.160546</td>\n",
       "      <td>0.530902</td>\n",
       "      <td>-0.692891</td>\n",
       "      <td>-0.684422</td>\n",
       "      <td>-0.365061</td>\n",
       "      <td>-0.190672</td>\n",
       "    </tr>\n",
       "  </tbody>\n",
       "</table>\n",
       "</div>"
      ],
      "text/plain": [
       "          0         1         2         3         4         5         6  \\\n",
       "0  0.639947  0.848324  0.149641  0.907270 -0.692891  0.204013  0.468492   \n",
       "1 -0.844885 -1.123396 -0.160546  0.530902 -0.692891 -0.684422 -0.365061   \n",
       "\n",
       "          7  \n",
       "0  1.425995  \n",
       "1 -0.190672  "
      ]
     },
     "execution_count": 13,
     "metadata": {},
     "output_type": "execute_result"
    }
   ],
   "source": [
    "#Scaling the data\n",
    "scaler = preprocessing.StandardScaler().fit(X)\n",
    "X_sc = pd.DataFrame(scaler.transform(X))\n",
    "#X_con_sc.columns = [\"Age\",\"Fare\"]\n",
    "print(X_sc)\n",
    "X_sc.head(2)"
   ]
  },
  {
   "cell_type": "code",
   "execution_count": null,
   "metadata": {},
   "outputs": [],
   "source": []
  },
  {
   "cell_type": "code",
   "execution_count": null,
   "metadata": {},
   "outputs": [],
   "source": []
  },
  {
   "cell_type": "markdown",
   "metadata": {},
   "source": [
    "# Build and compile a deep learning model"
   ]
  },
  {
   "cell_type": "code",
   "execution_count": 14,
   "metadata": {},
   "outputs": [],
   "source": [
    "# Build the deep neural network\n",
    "model = Sequential()\n",
    "model.add(Dense(10, input_dim=8, kernel_initializer='glorot_uniform', activation='relu'))\n",
    "model.add(Dense(7, kernel_initializer='glorot_uniform', activation='relu'))\n",
    "model.add(Dense(1, kernel_initializer='glorot_uniform', activation='sigmoid'))"
   ]
  },
  {
   "cell_type": "code",
   "execution_count": 15,
   "metadata": {},
   "outputs": [],
   "source": [
    "# Compile the DNN\n",
    "\n",
    "model.compile(loss='binary_crossentropy', optimizer='adam', metrics=['accuracy'])"
   ]
  },
  {
   "cell_type": "code",
   "execution_count": 17,
   "metadata": {},
   "outputs": [
    {
     "name": "stdout",
     "output_type": "stream",
     "text": [
      "Epoch 1/150\n",
      "92/92 [==============================] - 1s 5ms/step - loss: 6.6885 - accuracy: 0.3633 - val_loss: 2.3863 - val_accuracy: 0.4675\n",
      "Epoch 2/150\n",
      "92/92 [==============================] - 0s 2ms/step - loss: 1.6145 - accuracy: 0.4629 - val_loss: 1.4488 - val_accuracy: 0.5130\n",
      "Epoch 3/150\n",
      "92/92 [==============================] - 0s 2ms/step - loss: 1.3332 - accuracy: 0.4295 - val_loss: 1.1860 - val_accuracy: 0.5455\n",
      "Epoch 4/150\n",
      "92/92 [==============================] - 0s 1ms/step - loss: 0.9653 - accuracy: 0.4340 - val_loss: 0.8582 - val_accuracy: 0.5974\n",
      "Epoch 5/150\n",
      "92/92 [==============================] - 0s 2ms/step - loss: 0.8765 - accuracy: 0.4981 - val_loss: 0.8252 - val_accuracy: 0.5649\n",
      "Epoch 6/150\n",
      "92/92 [==============================] - 0s 2ms/step - loss: 0.7116 - accuracy: 0.5611 - val_loss: 0.7785 - val_accuracy: 0.6234\n",
      "Epoch 7/150\n",
      "92/92 [==============================] - 0s 2ms/step - loss: 0.6934 - accuracy: 0.6154 - val_loss: 0.7460 - val_accuracy: 0.5584\n",
      "Epoch 8/150\n",
      "92/92 [==============================] - 0s 2ms/step - loss: 0.6955 - accuracy: 0.6359 - val_loss: 0.8352 - val_accuracy: 0.4805\n",
      "Epoch 9/150\n",
      "92/92 [==============================] - 0s 2ms/step - loss: 0.6956 - accuracy: 0.6604 - val_loss: 0.8363 - val_accuracy: 0.5000\n",
      "Epoch 10/150\n",
      "92/92 [==============================] - 0s 2ms/step - loss: 0.6840 - accuracy: 0.7072 - val_loss: 0.8497 - val_accuracy: 0.5584\n",
      "Epoch 11/150\n",
      "92/92 [==============================] - 0s 1ms/step - loss: 0.6554 - accuracy: 0.6568 - val_loss: 0.8697 - val_accuracy: 0.5519\n",
      "Epoch 12/150\n",
      "92/92 [==============================] - 0s 2ms/step - loss: 0.6238 - accuracy: 0.6732 - val_loss: 0.7846 - val_accuracy: 0.5390\n",
      "Epoch 13/150\n",
      "92/92 [==============================] - 0s 2ms/step - loss: 0.6324 - accuracy: 0.6712 - val_loss: 0.8389 - val_accuracy: 0.5455\n",
      "Epoch 14/150\n",
      "92/92 [==============================] - 0s 2ms/step - loss: 0.6283 - accuracy: 0.6775 - val_loss: 0.7572 - val_accuracy: 0.5519\n",
      "Epoch 15/150\n",
      "92/92 [==============================] - 0s 2ms/step - loss: 0.6367 - accuracy: 0.6740 - val_loss: 0.8017 - val_accuracy: 0.5519\n",
      "Epoch 16/150\n",
      "92/92 [==============================] - 0s 1ms/step - loss: 0.5990 - accuracy: 0.6767 - val_loss: 0.7090 - val_accuracy: 0.5844\n",
      "Epoch 17/150\n",
      "92/92 [==============================] - 0s 2ms/step - loss: 0.6101 - accuracy: 0.6892 - val_loss: 0.7067 - val_accuracy: 0.5844\n",
      "Epoch 18/150\n",
      "92/92 [==============================] - 0s 2ms/step - loss: 0.6573 - accuracy: 0.6600 - val_loss: 0.7007 - val_accuracy: 0.6039\n",
      "Epoch 19/150\n",
      "92/92 [==============================] - 0s 2ms/step - loss: 0.6109 - accuracy: 0.7049 - val_loss: 0.7775 - val_accuracy: 0.5714\n",
      "Epoch 20/150\n",
      "92/92 [==============================] - 0s 2ms/step - loss: 0.5821 - accuracy: 0.7135 - val_loss: 0.7903 - val_accuracy: 0.5779\n",
      "Epoch 21/150\n",
      "92/92 [==============================] - 0s 2ms/step - loss: 0.5786 - accuracy: 0.7148 - val_loss: 0.7283 - val_accuracy: 0.6364\n",
      "Epoch 22/150\n",
      "92/92 [==============================] - 0s 2ms/step - loss: 0.6851 - accuracy: 0.7054 - val_loss: 0.6920 - val_accuracy: 0.6234\n",
      "Epoch 23/150\n",
      "92/92 [==============================] - 0s 2ms/step - loss: 0.5810 - accuracy: 0.7433 - val_loss: 0.6885 - val_accuracy: 0.6429\n",
      "Epoch 24/150\n",
      "92/92 [==============================] - 0s 2ms/step - loss: 0.5943 - accuracy: 0.7258 - val_loss: 0.7030 - val_accuracy: 0.5779\n",
      "Epoch 25/150\n",
      "92/92 [==============================] - 0s 2ms/step - loss: 0.5600 - accuracy: 0.7449 - val_loss: 0.7041 - val_accuracy: 0.5844\n",
      "Epoch 26/150\n",
      "92/92 [==============================] - 0s 2ms/step - loss: 0.5571 - accuracy: 0.7309 - val_loss: 0.6968 - val_accuracy: 0.6364\n",
      "Epoch 27/150\n",
      "92/92 [==============================] - 0s 2ms/step - loss: 0.5970 - accuracy: 0.6957 - val_loss: 0.6909 - val_accuracy: 0.6364\n",
      "Epoch 28/150\n",
      "92/92 [==============================] - 0s 2ms/step - loss: 0.5807 - accuracy: 0.7188 - val_loss: 0.7153 - val_accuracy: 0.5844\n",
      "Epoch 29/150\n",
      "92/92 [==============================] - 0s 2ms/step - loss: 0.5846 - accuracy: 0.7203 - val_loss: 0.6792 - val_accuracy: 0.6104\n",
      "Epoch 30/150\n",
      "92/92 [==============================] - 0s 2ms/step - loss: 0.5743 - accuracy: 0.7394 - val_loss: 0.7021 - val_accuracy: 0.6169\n",
      "Epoch 31/150\n",
      "92/92 [==============================] - 0s 2ms/step - loss: 0.6098 - accuracy: 0.7208 - val_loss: 0.6940 - val_accuracy: 0.6104\n",
      "Epoch 32/150\n",
      "92/92 [==============================] - 0s 2ms/step - loss: 0.5855 - accuracy: 0.7316 - val_loss: 0.6777 - val_accuracy: 0.6039\n",
      "Epoch 33/150\n",
      "92/92 [==============================] - 0s 2ms/step - loss: 0.5790 - accuracy: 0.7493 - val_loss: 0.6743 - val_accuracy: 0.6299\n",
      "Epoch 34/150\n",
      "92/92 [==============================] - 0s 2ms/step - loss: 0.6026 - accuracy: 0.7044 - val_loss: 0.7246 - val_accuracy: 0.5909\n",
      "Epoch 35/150\n",
      "92/92 [==============================] - 0s 2ms/step - loss: 0.5872 - accuracy: 0.7072 - val_loss: 0.7005 - val_accuracy: 0.5909\n",
      "Epoch 36/150\n",
      "92/92 [==============================] - 0s 2ms/step - loss: 0.5753 - accuracy: 0.7189 - val_loss: 0.7090 - val_accuracy: 0.5714\n",
      "Epoch 37/150\n",
      "92/92 [==============================] - 0s 1ms/step - loss: 0.5630 - accuracy: 0.7248 - val_loss: 0.7129 - val_accuracy: 0.5909\n",
      "Epoch 38/150\n",
      "92/92 [==============================] - 0s 1ms/step - loss: 0.5424 - accuracy: 0.7348 - val_loss: 0.6850 - val_accuracy: 0.6039\n",
      "Epoch 39/150\n",
      "92/92 [==============================] - 0s 1ms/step - loss: 0.5709 - accuracy: 0.7097 - val_loss: 0.7044 - val_accuracy: 0.5844\n",
      "Epoch 40/150\n",
      "92/92 [==============================] - 0s 1ms/step - loss: 0.5613 - accuracy: 0.7324 - val_loss: 0.7567 - val_accuracy: 0.5974\n",
      "Epoch 41/150\n",
      "92/92 [==============================] - 0s 1ms/step - loss: 0.5428 - accuracy: 0.7562 - val_loss: 0.6758 - val_accuracy: 0.6299\n",
      "Epoch 42/150\n",
      "92/92 [==============================] - 0s 1ms/step - loss: 0.5497 - accuracy: 0.7143 - val_loss: 0.7012 - val_accuracy: 0.5974\n",
      "Epoch 43/150\n",
      "92/92 [==============================] - 0s 1ms/step - loss: 0.5336 - accuracy: 0.7601 - val_loss: 0.6773 - val_accuracy: 0.6169\n",
      "Epoch 44/150\n",
      "92/92 [==============================] - 0s 1ms/step - loss: 0.5538 - accuracy: 0.7219 - val_loss: 0.7266 - val_accuracy: 0.5909\n",
      "Epoch 45/150\n",
      "92/92 [==============================] - 0s 1ms/step - loss: 0.5625 - accuracy: 0.7216 - val_loss: 0.6806 - val_accuracy: 0.6234\n",
      "Epoch 46/150\n",
      "92/92 [==============================] - 0s 1ms/step - loss: 0.5966 - accuracy: 0.7106 - val_loss: 0.6708 - val_accuracy: 0.6299\n",
      "Epoch 47/150\n",
      "92/92 [==============================] - 0s 1ms/step - loss: 0.5219 - accuracy: 0.7702 - val_loss: 0.6910 - val_accuracy: 0.5974\n",
      "Epoch 48/150\n",
      "92/92 [==============================] - 0s 2ms/step - loss: 0.5634 - accuracy: 0.7291 - val_loss: 0.6892 - val_accuracy: 0.6364\n",
      "Epoch 49/150\n",
      "92/92 [==============================] - 0s 2ms/step - loss: 0.5163 - accuracy: 0.7584 - val_loss: 0.7180 - val_accuracy: 0.5909\n",
      "Epoch 50/150\n",
      "92/92 [==============================] - 0s 2ms/step - loss: 0.5152 - accuracy: 0.7760 - val_loss: 0.6859 - val_accuracy: 0.6169\n",
      "Epoch 51/150\n",
      "92/92 [==============================] - 0s 2ms/step - loss: 0.5259 - accuracy: 0.7451 - val_loss: 0.6764 - val_accuracy: 0.5974\n",
      "Epoch 52/150\n",
      "92/92 [==============================] - 0s 2ms/step - loss: 0.5464 - accuracy: 0.7538 - val_loss: 0.6868 - val_accuracy: 0.6039\n",
      "Epoch 53/150\n",
      "92/92 [==============================] - 0s 1ms/step - loss: 0.5358 - accuracy: 0.7529 - val_loss: 0.7453 - val_accuracy: 0.6104\n",
      "Epoch 54/150\n",
      "92/92 [==============================] - 0s 2ms/step - loss: 0.6050 - accuracy: 0.7172 - val_loss: 0.6925 - val_accuracy: 0.6299\n",
      "Epoch 55/150\n",
      "92/92 [==============================] - 0s 2ms/step - loss: 0.5045 - accuracy: 0.7689 - val_loss: 0.7167 - val_accuracy: 0.5909\n",
      "Epoch 56/150\n",
      "92/92 [==============================] - 0s 1ms/step - loss: 0.5679 - accuracy: 0.7120 - val_loss: 0.6709 - val_accuracy: 0.6429\n",
      "Epoch 57/150\n",
      "92/92 [==============================] - 0s 2ms/step - loss: 0.5357 - accuracy: 0.7677 - val_loss: 0.6648 - val_accuracy: 0.6299\n",
      "Epoch 58/150\n",
      "92/92 [==============================] - 0s 2ms/step - loss: 0.5039 - accuracy: 0.7803 - val_loss: 0.6610 - val_accuracy: 0.6299\n"
     ]
    },
    {
     "name": "stdout",
     "output_type": "stream",
     "text": [
      "Epoch 59/150\n",
      "92/92 [==============================] - 0s 1ms/step - loss: 0.5244 - accuracy: 0.7516 - val_loss: 0.6552 - val_accuracy: 0.6364\n",
      "Epoch 60/150\n",
      "92/92 [==============================] - 0s 1ms/step - loss: 0.5368 - accuracy: 0.7538 - val_loss: 0.7132 - val_accuracy: 0.5974\n",
      "Epoch 61/150\n",
      "92/92 [==============================] - 0s 2ms/step - loss: 0.5443 - accuracy: 0.7247 - val_loss: 0.7383 - val_accuracy: 0.5909\n",
      "Epoch 62/150\n",
      "92/92 [==============================] - 0s 1ms/step - loss: 0.5480 - accuracy: 0.7118 - val_loss: 0.6828 - val_accuracy: 0.6234\n",
      "Epoch 63/150\n",
      "92/92 [==============================] - 0s 2ms/step - loss: 0.5348 - accuracy: 0.7523 - val_loss: 0.6911 - val_accuracy: 0.6234\n",
      "Epoch 64/150\n",
      "92/92 [==============================] - 0s 1ms/step - loss: 0.5223 - accuracy: 0.7441 - val_loss: 0.6439 - val_accuracy: 0.6429\n",
      "Epoch 65/150\n",
      "92/92 [==============================] - 0s 1ms/step - loss: 0.5318 - accuracy: 0.7469 - val_loss: 0.6757 - val_accuracy: 0.6234\n",
      "Epoch 66/150\n",
      "92/92 [==============================] - 0s 2ms/step - loss: 0.5282 - accuracy: 0.7352 - val_loss: 0.6631 - val_accuracy: 0.6429\n",
      "Epoch 67/150\n",
      "92/92 [==============================] - 0s 1ms/step - loss: 0.5620 - accuracy: 0.7172 - val_loss: 0.6958 - val_accuracy: 0.6234\n",
      "Epoch 68/150\n",
      "92/92 [==============================] - 0s 2ms/step - loss: 0.4837 - accuracy: 0.7666 - val_loss: 0.6540 - val_accuracy: 0.6299\n",
      "Epoch 69/150\n",
      "92/92 [==============================] - 0s 2ms/step - loss: 0.5332 - accuracy: 0.7188 - val_loss: 0.6784 - val_accuracy: 0.6429\n",
      "Epoch 70/150\n",
      "92/92 [==============================] - 0s 1ms/step - loss: 0.5290 - accuracy: 0.7438 - val_loss: 0.6806 - val_accuracy: 0.6169\n",
      "Epoch 71/150\n",
      "92/92 [==============================] - 0s 1ms/step - loss: 0.5135 - accuracy: 0.7593 - val_loss: 0.6827 - val_accuracy: 0.6234\n",
      "Epoch 72/150\n",
      "92/92 [==============================] - 0s 2ms/step - loss: 0.4972 - accuracy: 0.7529 - val_loss: 0.6557 - val_accuracy: 0.6429\n",
      "Epoch 73/150\n",
      "92/92 [==============================] - 0s 1ms/step - loss: 0.5280 - accuracy: 0.7099 - val_loss: 0.7199 - val_accuracy: 0.6039\n",
      "Epoch 74/150\n",
      "92/92 [==============================] - 0s 1ms/step - loss: 0.4947 - accuracy: 0.7755 - val_loss: 0.7894 - val_accuracy: 0.6234\n",
      "Epoch 75/150\n",
      "92/92 [==============================] - 0s 1ms/step - loss: 0.5352 - accuracy: 0.7362 - val_loss: 0.6724 - val_accuracy: 0.6494\n",
      "Epoch 76/150\n",
      "92/92 [==============================] - 0s 1ms/step - loss: 0.5141 - accuracy: 0.7537 - val_loss: 0.6595 - val_accuracy: 0.6494\n",
      "Epoch 77/150\n",
      "92/92 [==============================] - 0s 2ms/step - loss: 0.5423 - accuracy: 0.7303 - val_loss: 0.6744 - val_accuracy: 0.6429\n",
      "Epoch 78/150\n",
      "92/92 [==============================] - 0s 1ms/step - loss: 0.4803 - accuracy: 0.7817 - val_loss: 0.6761 - val_accuracy: 0.6429\n",
      "Epoch 79/150\n",
      "92/92 [==============================] - 0s 1ms/step - loss: 0.5188 - accuracy: 0.7568 - val_loss: 0.6960 - val_accuracy: 0.6429\n",
      "Epoch 80/150\n",
      "92/92 [==============================] - 0s 1ms/step - loss: 0.5366 - accuracy: 0.7234 - val_loss: 0.6576 - val_accuracy: 0.6494\n",
      "Epoch 81/150\n",
      "92/92 [==============================] - 0s 1ms/step - loss: 0.5121 - accuracy: 0.7490 - val_loss: 0.6559 - val_accuracy: 0.6429\n",
      "Epoch 82/150\n",
      "92/92 [==============================] - 0s 1ms/step - loss: 0.5160 - accuracy: 0.7676 - val_loss: 0.6792 - val_accuracy: 0.6429\n",
      "Epoch 83/150\n",
      "92/92 [==============================] - 0s 1ms/step - loss: 0.5370 - accuracy: 0.7428 - val_loss: 0.6683 - val_accuracy: 0.6494\n",
      "Epoch 84/150\n",
      "92/92 [==============================] - 0s 1ms/step - loss: 0.5292 - accuracy: 0.7333 - val_loss: 0.6784 - val_accuracy: 0.6169\n",
      "Epoch 85/150\n",
      "92/92 [==============================] - 0s 1ms/step - loss: 0.5056 - accuracy: 0.7604 - val_loss: 0.6751 - val_accuracy: 0.6364\n",
      "Epoch 86/150\n",
      "92/92 [==============================] - 0s 1ms/step - loss: 0.5027 - accuracy: 0.7626 - val_loss: 0.6527 - val_accuracy: 0.6429\n",
      "Epoch 87/150\n",
      "92/92 [==============================] - 0s 1ms/step - loss: 0.4977 - accuracy: 0.7742 - val_loss: 0.6801 - val_accuracy: 0.6494\n",
      "Epoch 88/150\n",
      "92/92 [==============================] - 0s 1ms/step - loss: 0.5328 - accuracy: 0.7345 - val_loss: 0.6961 - val_accuracy: 0.6234\n",
      "Epoch 89/150\n",
      "92/92 [==============================] - 0s 1ms/step - loss: 0.5696 - accuracy: 0.7012 - val_loss: 0.7126 - val_accuracy: 0.6429\n",
      "Epoch 90/150\n",
      "92/92 [==============================] - 0s 1ms/step - loss: 0.4942 - accuracy: 0.7500 - val_loss: 0.6800 - val_accuracy: 0.6364\n",
      "Epoch 91/150\n",
      "92/92 [==============================] - 0s 2ms/step - loss: 0.4957 - accuracy: 0.7776 - val_loss: 0.6789 - val_accuracy: 0.6558\n",
      "Epoch 92/150\n",
      "92/92 [==============================] - 0s 1ms/step - loss: 0.4881 - accuracy: 0.7410 - val_loss: 0.6552 - val_accuracy: 0.6558\n",
      "Epoch 93/150\n",
      "92/92 [==============================] - 0s 1ms/step - loss: 0.5351 - accuracy: 0.7415 - val_loss: 0.7324 - val_accuracy: 0.6169\n",
      "Epoch 94/150\n",
      "92/92 [==============================] - 0s 1ms/step - loss: 0.4688 - accuracy: 0.7851 - val_loss: 0.6514 - val_accuracy: 0.6623\n",
      "Epoch 95/150\n",
      "92/92 [==============================] - 0s 1ms/step - loss: 0.4813 - accuracy: 0.7626 - val_loss: 0.6440 - val_accuracy: 0.6364\n",
      "Epoch 96/150\n",
      "92/92 [==============================] - 0s 1ms/step - loss: 0.5157 - accuracy: 0.7597 - val_loss: 0.6321 - val_accuracy: 0.6494\n",
      "Epoch 97/150\n",
      "92/92 [==============================] - 0s 1ms/step - loss: 0.4740 - accuracy: 0.7598 - val_loss: 0.6690 - val_accuracy: 0.6494\n",
      "Epoch 98/150\n",
      "92/92 [==============================] - 0s 1ms/step - loss: 0.4991 - accuracy: 0.7682 - val_loss: 0.7664 - val_accuracy: 0.5909\n",
      "Epoch 99/150\n",
      "92/92 [==============================] - 0s 1ms/step - loss: 0.5352 - accuracy: 0.7429 - val_loss: 0.6951 - val_accuracy: 0.6299\n",
      "Epoch 100/150\n",
      "92/92 [==============================] - 0s 1ms/step - loss: 0.5028 - accuracy: 0.7749 - val_loss: 0.7041 - val_accuracy: 0.6299\n",
      "Epoch 101/150\n",
      "92/92 [==============================] - 0s 1ms/step - loss: 0.5387 - accuracy: 0.7393 - val_loss: 0.7079 - val_accuracy: 0.6299\n",
      "Epoch 102/150\n",
      "92/92 [==============================] - 0s 1ms/step - loss: 0.5129 - accuracy: 0.7592 - val_loss: 0.6676 - val_accuracy: 0.6494\n",
      "Epoch 103/150\n",
      "92/92 [==============================] - 0s 1ms/step - loss: 0.4752 - accuracy: 0.7817 - val_loss: 0.6528 - val_accuracy: 0.6494\n",
      "Epoch 104/150\n",
      "92/92 [==============================] - 0s 1ms/step - loss: 0.4846 - accuracy: 0.7517 - val_loss: 0.6544 - val_accuracy: 0.6558\n",
      "Epoch 105/150\n",
      "92/92 [==============================] - 0s 2ms/step - loss: 0.4938 - accuracy: 0.7603 - val_loss: 0.6316 - val_accuracy: 0.6494\n",
      "Epoch 106/150\n",
      "92/92 [==============================] - 0s 1ms/step - loss: 0.4887 - accuracy: 0.7878 - val_loss: 0.6964 - val_accuracy: 0.6623\n",
      "Epoch 107/150\n",
      "92/92 [==============================] - 0s 1ms/step - loss: 0.5158 - accuracy: 0.7564 - val_loss: 0.6792 - val_accuracy: 0.6364\n",
      "Epoch 108/150\n",
      "92/92 [==============================] - 0s 1ms/step - loss: 0.4838 - accuracy: 0.7746 - val_loss: 0.6464 - val_accuracy: 0.6688\n",
      "Epoch 109/150\n",
      "92/92 [==============================] - 0s 1ms/step - loss: 0.4760 - accuracy: 0.7731 - val_loss: 0.6738 - val_accuracy: 0.6494\n",
      "Epoch 110/150\n",
      "92/92 [==============================] - 0s 2ms/step - loss: 0.5181 - accuracy: 0.7417 - val_loss: 0.7058 - val_accuracy: 0.6688\n",
      "Epoch 111/150\n",
      "92/92 [==============================] - 0s 1ms/step - loss: 0.5513 - accuracy: 0.7355 - val_loss: 0.6481 - val_accuracy: 0.6494\n",
      "Epoch 112/150\n",
      "92/92 [==============================] - 0s 1ms/step - loss: 0.4848 - accuracy: 0.7713 - val_loss: 0.6788 - val_accuracy: 0.6429\n",
      "Epoch 113/150\n",
      "92/92 [==============================] - 0s 1ms/step - loss: 0.5060 - accuracy: 0.7546 - val_loss: 0.6821 - val_accuracy: 0.6494\n",
      "Epoch 114/150\n",
      "92/92 [==============================] - 0s 1ms/step - loss: 0.4759 - accuracy: 0.7586 - val_loss: 0.6613 - val_accuracy: 0.6818\n",
      "Epoch 115/150\n",
      "92/92 [==============================] - 0s 1ms/step - loss: 0.4972 - accuracy: 0.7641 - val_loss: 0.7346 - val_accuracy: 0.6364\n",
      "Epoch 116/150\n",
      "92/92 [==============================] - 0s 1ms/step - loss: 0.5136 - accuracy: 0.7390 - val_loss: 0.6340 - val_accuracy: 0.6688\n",
      "Epoch 117/150\n",
      "92/92 [==============================] - 0s 1ms/step - loss: 0.4802 - accuracy: 0.7554 - val_loss: 0.6503 - val_accuracy: 0.6688\n",
      "Epoch 118/150\n",
      "92/92 [==============================] - 0s 1ms/step - loss: 0.4880 - accuracy: 0.7696 - val_loss: 0.6513 - val_accuracy: 0.6688\n",
      "Epoch 119/150\n",
      "92/92 [==============================] - 0s 2ms/step - loss: 0.5009 - accuracy: 0.7620 - val_loss: 0.6805 - val_accuracy: 0.6623\n",
      "Epoch 120/150\n",
      "92/92 [==============================] - 0s 1ms/step - loss: 0.4697 - accuracy: 0.7528 - val_loss: 0.6847 - val_accuracy: 0.6753\n",
      "Epoch 121/150\n",
      "92/92 [==============================] - 0s 1ms/step - loss: 0.5029 - accuracy: 0.7434 - val_loss: 0.7140 - val_accuracy: 0.6494\n",
      "Epoch 122/150\n",
      "92/92 [==============================] - 0s 1ms/step - loss: 0.4976 - accuracy: 0.7672 - val_loss: 0.6732 - val_accuracy: 0.6558\n",
      "Epoch 123/150\n",
      "92/92 [==============================] - 0s 1ms/step - loss: 0.4953 - accuracy: 0.7663 - val_loss: 0.6910 - val_accuracy: 0.6818\n",
      "Epoch 124/150\n",
      "92/92 [==============================] - 0s 1ms/step - loss: 0.5460 - accuracy: 0.7430 - val_loss: 0.7101 - val_accuracy: 0.6558\n",
      "Epoch 125/150\n",
      "92/92 [==============================] - 0s 1ms/step - loss: 0.4608 - accuracy: 0.7857 - val_loss: 0.6634 - val_accuracy: 0.6688\n",
      "Epoch 126/150\n",
      "92/92 [==============================] - 0s 1ms/step - loss: 0.4929 - accuracy: 0.7633 - val_loss: 0.6371 - val_accuracy: 0.6753\n",
      "Epoch 127/150\n",
      "92/92 [==============================] - 0s 1ms/step - loss: 0.4893 - accuracy: 0.7732 - val_loss: 0.6587 - val_accuracy: 0.6753\n",
      "Epoch 128/150\n",
      "92/92 [==============================] - 0s 1ms/step - loss: 0.4645 - accuracy: 0.7899 - val_loss: 0.6599 - val_accuracy: 0.6818\n",
      "Epoch 129/150\n",
      "92/92 [==============================] - 0s 1ms/step - loss: 0.5196 - accuracy: 0.7602 - val_loss: 0.7105 - val_accuracy: 0.6818\n",
      "Epoch 130/150\n",
      "92/92 [==============================] - 0s 1ms/step - loss: 0.5065 - accuracy: 0.7559 - val_loss: 0.6800 - val_accuracy: 0.6753\n",
      "Epoch 131/150\n",
      "92/92 [==============================] - 0s 1ms/step - loss: 0.4789 - accuracy: 0.7463 - val_loss: 0.6340 - val_accuracy: 0.6948\n",
      "Epoch 132/150\n",
      "92/92 [==============================] - 0s 2ms/step - loss: 0.5064 - accuracy: 0.7676 - val_loss: 0.6679 - val_accuracy: 0.6558\n",
      "Epoch 133/150\n",
      "92/92 [==============================] - 0s 1ms/step - loss: 0.4916 - accuracy: 0.7596 - val_loss: 0.6663 - val_accuracy: 0.6818\n",
      "Epoch 134/150\n",
      "92/92 [==============================] - 0s 2ms/step - loss: 0.4469 - accuracy: 0.7971 - val_loss: 0.6465 - val_accuracy: 0.6753\n",
      "Epoch 135/150\n",
      "92/92 [==============================] - 0s 2ms/step - loss: 0.4795 - accuracy: 0.7905 - val_loss: 0.6602 - val_accuracy: 0.6948\n",
      "Epoch 136/150\n",
      "92/92 [==============================] - 0s 2ms/step - loss: 0.4770 - accuracy: 0.7673 - val_loss: 0.6589 - val_accuracy: 0.6883\n",
      "Epoch 137/150\n",
      "92/92 [==============================] - 0s 1ms/step - loss: 0.4906 - accuracy: 0.7519 - val_loss: 0.7413 - val_accuracy: 0.6364\n",
      "Epoch 138/150\n",
      "92/92 [==============================] - 0s 2ms/step - loss: 0.4845 - accuracy: 0.7661 - val_loss: 0.6650 - val_accuracy: 0.6753\n",
      "Epoch 139/150\n",
      "92/92 [==============================] - 0s 1ms/step - loss: 0.4974 - accuracy: 0.7430 - val_loss: 0.6416 - val_accuracy: 0.6688\n",
      "Epoch 140/150\n",
      "92/92 [==============================] - 0s 2ms/step - loss: 0.4580 - accuracy: 0.7926 - val_loss: 0.6430 - val_accuracy: 0.6753\n",
      "Epoch 141/150\n",
      "92/92 [==============================] - 0s 1ms/step - loss: 0.4692 - accuracy: 0.7898 - val_loss: 0.6943 - val_accuracy: 0.6688\n",
      "Epoch 142/150\n",
      "92/92 [==============================] - 0s 1ms/step - loss: 0.4506 - accuracy: 0.7756 - val_loss: 0.6446 - val_accuracy: 0.6688\n",
      "Epoch 143/150\n",
      "92/92 [==============================] - 0s 2ms/step - loss: 0.4954 - accuracy: 0.7332 - val_loss: 0.6277 - val_accuracy: 0.6948\n",
      "Epoch 144/150\n",
      "92/92 [==============================] - 0s 1ms/step - loss: 0.4783 - accuracy: 0.7495 - val_loss: 0.7004 - val_accuracy: 0.6883\n",
      "Epoch 145/150\n",
      "92/92 [==============================] - 0s 1ms/step - loss: 0.4965 - accuracy: 0.7339 - val_loss: 0.6452 - val_accuracy: 0.7013\n",
      "Epoch 146/150\n",
      "92/92 [==============================] - 0s 1ms/step - loss: 0.4668 - accuracy: 0.7565 - val_loss: 0.7521 - val_accuracy: 0.6688\n",
      "Epoch 147/150\n",
      "92/92 [==============================] - 0s 1ms/step - loss: 0.5236 - accuracy: 0.7284 - val_loss: 0.6983 - val_accuracy: 0.6623\n",
      "Epoch 148/150\n",
      "92/92 [==============================] - 0s 2ms/step - loss: 0.5212 - accuracy: 0.7358 - val_loss: 0.6830 - val_accuracy: 0.6688\n",
      "Epoch 149/150\n",
      "92/92 [==============================] - 0s 2ms/step - loss: 0.4711 - accuracy: 0.7808 - val_loss: 0.6913 - val_accuracy: 0.6753\n",
      "Epoch 150/150\n",
      "92/92 [==============================] - 0s 2ms/step - loss: 0.4753 - accuracy: 0.7686 - val_loss: 0.6379 - val_accuracy: 0.6948\n"
     ]
    }
   ],
   "source": [
    "# Fit the DNN with your train data\n",
    "\n",
    "DNN_model= model.fit(X_train, Y_train, validation_data=(X_Valid, Y_Valid), epochs=150, batch_size=5)"
   ]
  },
  {
   "cell_type": "markdown",
   "metadata": {},
   "source": [
    "# Epoch vs Train set"
   ]
  },
  {
   "cell_type": "code",
   "execution_count": 18,
   "metadata": {},
   "outputs": [
    {
     "data": {
      "image/png": "[encoded data removed]",
      "text/plain": [
       "<Figure size 432x288 with 1 Axes>"
      ]
     },
     "metadata": {
      "needs_background": "light"
     },
     "output_type": "display_data"
    }
   ],
   "source": [
    "#epoch vs loss\n",
    "import matplotlib.pyplot as plt\n",
    "\n",
    "train_loss = DNN_model.history['loss']\n",
    "test_loss = DNN_model.history['val_loss']\n",
    "\n",
    "epoch_counter = range(1, len(train_loss)+1)\n",
    "\n",
    "plt.plot(epoch_counter,train_loss,'r--')\n",
    "plt.plot(epoch_counter,test_loss,'b-')\n",
    "plt.legend(['train_loss','test_loss'])\n",
    "plt.xlabel('epoch')\n",
    "plt.ylabel('loss')\n",
    "plt.show();\n",
    "\n",
    "\n"
   ]
  },
  {
   "cell_type": "markdown",
   "metadata": {},
   "source": [
    "# EPOCH vs Accuracy"
   ]
  },
  {
   "cell_type": "code",
   "execution_count": 20,
   "metadata": {},
   "outputs": [
    {
     "data": {
      "image/png": "[encoded data removed]",
      "text/plain": [
       "<Figure size 432x288 with 1 Axes>"
      ]
     },
     "metadata": {
      "needs_background": "light"
     },
     "output_type": "display_data"
    }
   ],
   "source": [
    "#epoch vs accuracy\n",
    "import matplotlib.pyplot as plt\n",
    "\n",
    "train_loss = DNN_model.history['accuracy']\n",
    "test_loss = DNN_model.history['val_accuracy']\n",
    "\n",
    "epoch_counter = range(1, len(train_loss)+1)\n",
    "\n",
    "plt.plot(epoch_counter,train_loss,'r--')\n",
    "plt.plot(epoch_counter,test_loss,'b-')\n",
    "plt.legend(['Training_accuracy','val_accuracy'])\n",
    "plt.xlabel('epoch')\n",
    "plt.ylabel('Accuracy')\n",
    "plt.show();"
   ]
  },
  {
   "cell_type": "code",
   "execution_count": null,
   "metadata": {},
   "outputs": [],
   "source": [
    "Y_Test.shape"
   ]
  },
  {
   "cell_type": "code",
   "execution_count": 21,
   "metadata": {},
   "outputs": [
    {
     "name": "stdout",
     "output_type": "stream",
     "text": [
      "            0         1         2         3         4         5         6  \\\n",
      "0   -0.515548 -1.977856 -0.711910  0.339286 -0.355700 -0.897775 -0.446953   \n",
      "1   -0.850545 -0.304109  0.970724 -0.237001 -0.764082 -0.555700 -0.245408   \n",
      "2   -0.850545 -0.851295 -0.817074  0.147190  0.143435 -0.779818 -0.737416   \n",
      "3    0.824441  0.951202  0.550065 -1.453606 -0.764082 -0.272603 -0.903395   \n",
      "4    0.489444  0.854639  0.655230  0.211222  1.822342  0.022289 -0.091284   \n",
      "..        ...       ...       ...       ...       ...       ...       ...   \n",
      "149  0.489444 -1.044420  0.234572 -0.044905 -0.764082 -0.331582  2.196851   \n",
      "150 -0.515548  0.307453 -1.237733 -0.108937  2.276100  0.305386 -0.909323   \n",
      "151  1.829433  0.886827  0.970724  0.723477  0.733321 -0.178238  0.854202   \n",
      "152 -0.850545 -0.722546 -0.501580 -0.301033 -0.237722 -0.933162 -0.660355   \n",
      "153  1.159438  0.500578  0.760395 -1.453606 -0.764082  0.989536  0.631909   \n",
      "\n",
      "            7  \n",
      "0   -0.927691  \n",
      "1   -0.755357  \n",
      "2   -0.841524  \n",
      "3    1.484977  \n",
      "4    2.174310  \n",
      "..        ...  \n",
      "149 -0.066024  \n",
      "150 -0.927691  \n",
      "151  1.743477  \n",
      "152 -0.927691  \n",
      "153  0.364810  \n",
      "\n",
      "[154 rows x 8 columns]\n"
     ]
    },
    {
     "data": {
      "text/html": [
       "<div>\n",
       "<style scoped>\n",
       "    .dataframe tbody tr th:only-of-type {\n",
       "        vertical-align: middle;\n",
       "    }\n",
       "\n",
       "    .dataframe tbody tr th {\n",
       "        vertical-align: top;\n",
       "    }\n",
       "\n",
       "    .dataframe thead th {\n",
       "        text-align: right;\n",
       "    }\n",
       "</style>\n",
       "<table border=\"1\" class=\"dataframe\">\n",
       "  <thead>\n",
       "    <tr style=\"text-align: right;\">\n",
       "      <th></th>\n",
       "      <th>0</th>\n",
       "      <th>1</th>\n",
       "      <th>2</th>\n",
       "      <th>3</th>\n",
       "      <th>4</th>\n",
       "      <th>5</th>\n",
       "      <th>6</th>\n",
       "      <th>7</th>\n",
       "    </tr>\n",
       "  </thead>\n",
       "  <tbody>\n",
       "    <tr>\n",
       "      <th>0</th>\n",
       "      <td>-0.515548</td>\n",
       "      <td>-1.977856</td>\n",
       "      <td>-0.711910</td>\n",
       "      <td>0.339286</td>\n",
       "      <td>-0.355700</td>\n",
       "      <td>-0.897775</td>\n",
       "      <td>-0.446953</td>\n",
       "      <td>-0.927691</td>\n",
       "    </tr>\n",
       "    <tr>\n",
       "      <th>1</th>\n",
       "      <td>-0.850545</td>\n",
       "      <td>-0.304109</td>\n",
       "      <td>0.970724</td>\n",
       "      <td>-0.237001</td>\n",
       "      <td>-0.764082</td>\n",
       "      <td>-0.555700</td>\n",
       "      <td>-0.245408</td>\n",
       "      <td>-0.755357</td>\n",
       "    </tr>\n",
       "  </tbody>\n",
       "</table>\n",
       "</div>"
      ],
      "text/plain": [
       "          0         1         2         3         4         5         6  \\\n",
       "0 -0.515548 -1.977856 -0.711910  0.339286 -0.355700 -0.897775 -0.446953   \n",
       "1 -0.850545 -0.304109  0.970724 -0.237001 -0.764082 -0.555700 -0.245408   \n",
       "\n",
       "          7  \n",
       "0 -0.927691  \n",
       "1 -0.755357  "
      ]
     },
     "execution_count": 21,
     "metadata": {},
     "output_type": "execute_result"
    }
   ],
   "source": [
    "#Scaling the data\n",
    "scaler = preprocessing.StandardScaler().fit(X_Test)\n",
    "X_stest = pd.DataFrame(scaler.transform(X_Test))\n",
    "#X_con_sc.columns = [\"Age\",\"Fare\"]\n",
    "print(X_stest)\n",
    "X_stest.head(2)"
   ]
  },
  {
   "cell_type": "code",
   "execution_count": 22,
   "metadata": {},
   "outputs": [
    {
     "name": "stdout",
     "output_type": "stream",
     "text": [
      "5/5 [==============================] - 0s 1ms/step - loss: 0.8926 - accuracy: 0.6818\n",
      "Accuracy: 68.18%\n"
     ]
    }
   ],
   "source": [
    "# Evaluate the model\n",
    "scores = model.evaluate(X_stest, Y_Test)\n",
    "print (\"Accuracy: %.2f%%\" %(scores[1]*100))"
   ]
  },
  {
   "cell_type": "markdown",
   "metadata": {},
   "source": [
    "# ROC Curve"
   ]
  },
  {
   "cell_type": "code",
   "execution_count": 26,
   "metadata": {},
   "outputs": [],
   "source": [
    "from sklearn.metrics import classification_report,roc_curve,roc_auc_score\n",
    "DNN_pred = model.predict(X_stest).ravel()\n",
    "rec, fall_out, thresholds = roc_curve(Y_Test,DNN_pred)"
   ]
  },
  {
   "cell_type": "code",
   "execution_count": null,
   "metadata": {},
   "outputs": [],
   "source": []
  },
  {
   "cell_type": "code",
   "execution_count": 27,
   "metadata": {},
   "outputs": [
    {
     "data": {
      "image/png": "[encoded data removed]",
      "text/plain": [
       "<Figure size 432x288 with 1 Axes>"
      ]
     },
     "metadata": {
      "needs_background": "light"
     },
     "output_type": "display_data"
    }
   ],
   "source": [
    "from sklearn.metrics import classification_report,roc_curve,roc_auc_score\n",
    "rec, fall_out, thresholds = roc_curve(Y_Test,DNN_pred)\n",
    "plt.plot([0,1],[0,1],'k--')\n",
    "plt.plot(rec,fall_out, label='Knn')\n",
    "plt.xlabel('Output')\n",
    "plt.ylabel('Accuracy')\n",
    "plt.title('Deep Learning ROC curve')\n",
    "plt.show()"
   ]
  },
  {
   "cell_type": "markdown",
   "metadata": {},
   "source": [
    "# AUC score"
   ]
  },
  {
   "cell_type": "code",
   "execution_count": 28,
   "metadata": {},
   "outputs": [
    {
     "data": {
      "text/plain": [
       "0.4511538461538462"
      ]
     },
     "execution_count": 28,
     "metadata": {},
     "output_type": "execute_result"
    }
   ],
   "source": [
    "#AUC Score\n",
    "roc_auc_score(Y_Test,DNN_pred)"
   ]
  },
  {
   "cell_type": "markdown",
   "metadata": {},
   "source": [
    "# Increase Dataset Size method 1"
   ]
  },
  {
   "cell_type": "code",
   "execution_count": 29,
   "metadata": {},
   "outputs": [
    {
     "name": "stdout",
     "output_type": "stream",
     "text": [
      "(768, 9)\n"
     ]
    },
    {
     "data": {
      "text/html": [
       "<div>\n",
       "<style scoped>\n",
       "    .dataframe tbody tr th:only-of-type {\n",
       "        vertical-align: middle;\n",
       "    }\n",
       "\n",
       "    .dataframe tbody tr th {\n",
       "        vertical-align: top;\n",
       "    }\n",
       "\n",
       "    .dataframe thead th {\n",
       "        text-align: right;\n",
       "    }\n",
       "</style>\n",
       "<table border=\"1\" class=\"dataframe\">\n",
       "  <thead>\n",
       "    <tr style=\"text-align: right;\">\n",
       "      <th></th>\n",
       "      <th>0</th>\n",
       "      <th>1</th>\n",
       "      <th>2</th>\n",
       "      <th>3</th>\n",
       "      <th>4</th>\n",
       "      <th>5</th>\n",
       "      <th>6</th>\n",
       "      <th>7</th>\n",
       "      <th>8</th>\n",
       "    </tr>\n",
       "  </thead>\n",
       "  <tbody>\n",
       "    <tr>\n",
       "      <th>0</th>\n",
       "      <td>6</td>\n",
       "      <td>148</td>\n",
       "      <td>72</td>\n",
       "      <td>35</td>\n",
       "      <td>0</td>\n",
       "      <td>33.6</td>\n",
       "      <td>0.627</td>\n",
       "      <td>50</td>\n",
       "      <td>1</td>\n",
       "    </tr>\n",
       "    <tr>\n",
       "      <th>1</th>\n",
       "      <td>1</td>\n",
       "      <td>85</td>\n",
       "      <td>66</td>\n",
       "      <td>29</td>\n",
       "      <td>0</td>\n",
       "      <td>26.6</td>\n",
       "      <td>0.351</td>\n",
       "      <td>31</td>\n",
       "      <td>0</td>\n",
       "    </tr>\n",
       "  </tbody>\n",
       "</table>\n",
       "</div>"
      ],
      "text/plain": [
       "   0    1   2   3  4     5      6   7  8\n",
       "0  6  148  72  35  0  33.6  0.627  50  1\n",
       "1  1   85  66  29  0  26.6  0.351  31  0"
      ]
     },
     "execution_count": 29,
     "metadata": {},
     "output_type": "execute_result"
    }
   ],
   "source": [
    "df_nor = pd.read_csv(f'{path}\\\\pima-indians-diabetes.data',header = None)\n",
    "print(df_nor.shape)\n",
    "df_nor.head(2)"
   ]
  },
  {
   "cell_type": "code",
   "execution_count": 30,
   "metadata": {},
   "outputs": [
    {
     "data": {
      "text/html": [
       "<div>\n",
       "<style scoped>\n",
       "    .dataframe tbody tr th:only-of-type {\n",
       "        vertical-align: middle;\n",
       "    }\n",
       "\n",
       "    .dataframe tbody tr th {\n",
       "        vertical-align: top;\n",
       "    }\n",
       "\n",
       "    .dataframe thead th {\n",
       "        text-align: right;\n",
       "    }\n",
       "</style>\n",
       "<table border=\"1\" class=\"dataframe\">\n",
       "  <thead>\n",
       "    <tr style=\"text-align: right;\">\n",
       "      <th></th>\n",
       "      <th>0</th>\n",
       "      <th>1</th>\n",
       "      <th>2</th>\n",
       "      <th>3</th>\n",
       "      <th>4</th>\n",
       "      <th>5</th>\n",
       "      <th>6</th>\n",
       "      <th>7</th>\n",
       "      <th>8</th>\n",
       "    </tr>\n",
       "  </thead>\n",
       "  <tbody>\n",
       "    <tr>\n",
       "      <th>2299</th>\n",
       "      <td>8.0</td>\n",
       "      <td>148.0</td>\n",
       "      <td>50.0</td>\n",
       "      <td>45.0</td>\n",
       "      <td>0.0</td>\n",
       "      <td>37.6</td>\n",
       "      <td>0.587</td>\n",
       "      <td>29.0</td>\n",
       "      <td>1.0</td>\n",
       "    </tr>\n",
       "    <tr>\n",
       "      <th>2300</th>\n",
       "      <td>4.0</td>\n",
       "      <td>168.0</td>\n",
       "      <td>92.0</td>\n",
       "      <td>0.0</td>\n",
       "      <td>0.0</td>\n",
       "      <td>26.6</td>\n",
       "      <td>0.351</td>\n",
       "      <td>26.0</td>\n",
       "      <td>0.0</td>\n",
       "    </tr>\n",
       "    <tr>\n",
       "      <th>2301</th>\n",
       "      <td>2.0</td>\n",
       "      <td>137.0</td>\n",
       "      <td>72.0</td>\n",
       "      <td>0.0</td>\n",
       "      <td>175.0</td>\n",
       "      <td>31.0</td>\n",
       "      <td>0.134</td>\n",
       "      <td>26.0</td>\n",
       "      <td>0.0</td>\n",
       "    </tr>\n",
       "    <tr>\n",
       "      <th>2302</th>\n",
       "      <td>10.0</td>\n",
       "      <td>116.0</td>\n",
       "      <td>50.0</td>\n",
       "      <td>0.0</td>\n",
       "      <td>94.0</td>\n",
       "      <td>25.6</td>\n",
       "      <td>0.248</td>\n",
       "      <td>30.0</td>\n",
       "      <td>1.0</td>\n",
       "    </tr>\n",
       "    <tr>\n",
       "      <th>2303</th>\n",
       "      <td>2.0</td>\n",
       "      <td>189.0</td>\n",
       "      <td>72.0</td>\n",
       "      <td>32.0</td>\n",
       "      <td>0.0</td>\n",
       "      <td>31.0</td>\n",
       "      <td>0.537</td>\n",
       "      <td>33.0</td>\n",
       "      <td>1.0</td>\n",
       "    </tr>\n",
       "  </tbody>\n",
       "</table>\n",
       "</div>"
      ],
      "text/plain": [
       "         0      1     2     3      4     5      6     7    8\n",
       "2299   8.0  148.0  50.0  45.0    0.0  37.6  0.587  29.0  1.0\n",
       "2300   4.0  168.0  92.0   0.0    0.0  26.6  0.351  26.0  0.0\n",
       "2301   2.0  137.0  72.0   0.0  175.0  31.0  0.134  26.0  0.0\n",
       "2302  10.0  116.0  50.0   0.0   94.0  25.6  0.248  30.0  1.0\n",
       "2303   2.0  189.0  72.0  32.0    0.0  31.0  0.537  33.0  1.0"
      ]
     },
     "execution_count": 30,
     "metadata": {},
     "output_type": "execute_result"
    }
   ],
   "source": [
    "#Normal generation method\n",
    "\n",
    "columns = df_nor.columns.to_numpy()\n",
    "iteration_count = 2\n",
    "new_df = pd.DataFrame(columns=columns)\n",
    "\n",
    "for i in range(iteration_count):\n",
    "    for k in df.iterrows():\n",
    "        data_obj = {}\n",
    "        for j in range(columns.size):\n",
    "            random_index = np.random.randint(0,15, dtype='int')\n",
    "            data_obj[columns[j]] = df.loc[random_index][columns[j]]\n",
    "        new_df = new_df.append(data_obj, ignore_index=True)\n",
    "\n",
    "df_nor = df_nor.append(new_df, ignore_index=True)\n",
    "df_nor.shape\n",
    "df_nor.tail()"
   ]
  },
  {
   "cell_type": "code",
   "execution_count": 33,
   "metadata": {},
   "outputs": [],
   "source": [
    "#Separate out X and Y in method 1\n",
    "\n",
    "X_normal = df_nor.iloc[:, :8]\n",
    "Y_normal = df_nor.iloc[:, 8:9]\n"
   ]
  },
  {
   "cell_type": "code",
   "execution_count": 34,
   "metadata": {},
   "outputs": [
    {
     "name": "stdout",
     "output_type": "stream",
     "text": [
      "             0         1         2         3         4         5         6  \\\n",
      "0     0.392496  0.475222  0.269681  1.077898 -0.539064  0.387613  0.211129   \n",
      "1    -1.032514 -1.245522 -0.004947  0.708800 -0.539064 -0.424176 -0.343445   \n",
      "2     0.962500  1.431192 -0.096489 -1.075175 -0.539064 -0.806876  0.301549   \n",
      "3    -1.032514 -1.136268 -0.004947  0.339702 -0.078589 -0.250221 -0.713160   \n",
      "4    -1.317516  0.174775 -1.194999  1.077898  0.283912  1.489327  3.548618   \n",
      "...        ...       ...       ...       ...       ...       ...       ...   \n",
      "2299  0.962500  0.475222 -0.737286  1.693062 -0.539064  0.851492  0.130756   \n",
      "2300 -0.177508  1.021491  1.185106 -1.075175 -0.539064 -0.424176 -0.343445   \n",
      "2301 -0.747512  0.174775  0.269681 -1.075175  0.318203  0.086092 -0.779468   \n",
      "2302  1.532505 -0.398807 -0.737286 -1.075175 -0.078589 -0.540146 -0.550405   \n",
      "2303 -0.747512  1.595072  0.269681  0.893349 -0.539064  0.086092  0.030290   \n",
      "\n",
      "             7  \n",
      "0     1.007877  \n",
      "1    -0.500527  \n",
      "2    -0.421138  \n",
      "3    -1.294424  \n",
      "4    -0.341748  \n",
      "...        ...  \n",
      "2299 -0.659307  \n",
      "2300 -0.897476  \n",
      "2301 -0.897476  \n",
      "2302 -0.579917  \n",
      "2303 -0.341748  \n",
      "\n",
      "[2304 rows x 8 columns]\n"
     ]
    },
    {
     "data": {
      "text/html": [
       "<div>\n",
       "<style scoped>\n",
       "    .dataframe tbody tr th:only-of-type {\n",
       "        vertical-align: middle;\n",
       "    }\n",
       "\n",
       "    .dataframe tbody tr th {\n",
       "        vertical-align: top;\n",
       "    }\n",
       "\n",
       "    .dataframe thead th {\n",
       "        text-align: right;\n",
       "    }\n",
       "</style>\n",
       "<table border=\"1\" class=\"dataframe\">\n",
       "  <thead>\n",
       "    <tr style=\"text-align: right;\">\n",
       "      <th></th>\n",
       "      <th>0</th>\n",
       "      <th>1</th>\n",
       "      <th>2</th>\n",
       "      <th>3</th>\n",
       "      <th>4</th>\n",
       "      <th>5</th>\n",
       "      <th>6</th>\n",
       "      <th>7</th>\n",
       "    </tr>\n",
       "  </thead>\n",
       "  <tbody>\n",
       "    <tr>\n",
       "      <th>0</th>\n",
       "      <td>0.392496</td>\n",
       "      <td>0.475222</td>\n",
       "      <td>0.269681</td>\n",
       "      <td>1.077898</td>\n",
       "      <td>-0.539064</td>\n",
       "      <td>0.387613</td>\n",
       "      <td>0.211129</td>\n",
       "      <td>1.007877</td>\n",
       "    </tr>\n",
       "    <tr>\n",
       "      <th>1</th>\n",
       "      <td>-1.032514</td>\n",
       "      <td>-1.245522</td>\n",
       "      <td>-0.004947</td>\n",
       "      <td>0.708800</td>\n",
       "      <td>-0.539064</td>\n",
       "      <td>-0.424176</td>\n",
       "      <td>-0.343445</td>\n",
       "      <td>-0.500527</td>\n",
       "    </tr>\n",
       "  </tbody>\n",
       "</table>\n",
       "</div>"
      ],
      "text/plain": [
       "          0         1         2         3         4         5         6  \\\n",
       "0  0.392496  0.475222  0.269681  1.077898 -0.539064  0.387613  0.211129   \n",
       "1 -1.032514 -1.245522 -0.004947  0.708800 -0.539064 -0.424176 -0.343445   \n",
       "\n",
       "          7  \n",
       "0  1.007877  \n",
       "1 -0.500527  "
      ]
     },
     "execution_count": 34,
     "metadata": {},
     "output_type": "execute_result"
    }
   ],
   "source": [
    "# Scaling the data\n",
    "scaler = preprocessing.StandardScaler().fit(X_normal)\n",
    "X_stest_n = pd.DataFrame(scaler.transform(X_normal))\n",
    "#X_con_sc.columns = [\"Age\",\"Fare\"]\n",
    "print(X_stest_n)\n",
    "X_stest_n.head(2)"
   ]
  },
  {
   "cell_type": "code",
   "execution_count": 35,
   "metadata": {},
   "outputs": [
    {
     "name": "stdout",
     "output_type": "stream",
     "text": [
      "(1382, 8) (922, 8) (1382, 1) (922, 1)\n"
     ]
    }
   ],
   "source": [
    "# Train- Test Split\n",
    "(X_train_n, X_test_n, Y_train_n, Y_test_n) = train_test_split(X_normal, Y_normal, test_size=0.40, random_state=1)\n",
    "print(X_train_n.shape,X_test_n.shape,Y_train_n.shape,Y_test_n.shape)"
   ]
  },
  {
   "cell_type": "code",
   "execution_count": 36,
   "metadata": {},
   "outputs": [
    {
     "name": "stdout",
     "output_type": "stream",
     "text": [
      "(461, 8) (461, 8) (461, 1) (461, 1)\n"
     ]
    }
   ],
   "source": [
    "(X_Valid_n, X_Test_n, Y_Valid_n, Y_Test_n) = train_test_split(X_test_n, Y_test_n, test_size=0.50, random_state=1)\n",
    "print(X_Valid_n.shape,X_Test_n.shape,Y_Valid_n.shape,Y_Test_n.shape)"
   ]
  },
  {
   "cell_type": "code",
   "execution_count": 37,
   "metadata": {},
   "outputs": [],
   "source": [
    "# Build the deep neural network\n",
    "model_nor = Sequential()\n",
    "model_nor.add(Dense(10, input_dim=8, kernel_initializer='glorot_uniform', activation='relu'))\n",
    "model_nor.add(Dense(7, kernel_initializer='glorot_uniform', activation='relu'))\n",
    "model_nor.add(Dense(1, kernel_initializer='glorot_uniform', activation='sigmoid'))"
   ]
  },
  {
   "cell_type": "code",
   "execution_count": 38,
   "metadata": {},
   "outputs": [],
   "source": [
    "# Compile the DNN\n",
    "\n",
    "model_nor.compile(loss='binary_crossentropy', optimizer='adam', metrics=['accuracy'])"
   ]
  },
  {
   "cell_type": "code",
   "execution_count": 40,
   "metadata": {},
   "outputs": [
    {
     "name": "stdout",
     "output_type": "stream",
     "text": [
      "Epoch 1/150\n",
      "277/277 [==============================] - 1s 2ms/step - loss: 3.8437 - accuracy: 0.4825 - val_loss: 1.5663 - val_accuracy: 0.4751\n",
      "Epoch 2/150\n",
      "277/277 [==============================] - 0s 1ms/step - loss: 1.2728 - accuracy: 0.5140 - val_loss: 0.9462 - val_accuracy: 0.5466\n",
      "Epoch 3/150\n",
      "277/277 [==============================] - 0s 1ms/step - loss: 0.9540 - accuracy: 0.4891 - val_loss: 0.8286 - val_accuracy: 0.5401\n",
      "Epoch 4/150\n",
      "277/277 [==============================] - 0s 1ms/step - loss: 0.8747 - accuracy: 0.5431 - val_loss: 0.7674 - val_accuracy: 0.5315\n",
      "Epoch 5/150\n",
      "277/277 [==============================] - 0s 1ms/step - loss: 0.7465 - accuracy: 0.5634 - val_loss: 0.7461 - val_accuracy: 0.5358\n",
      "Epoch 6/150\n",
      "277/277 [==============================] - 0s 1ms/step - loss: 0.7068 - accuracy: 0.5783 - val_loss: 0.7204 - val_accuracy: 0.5380\n",
      "Epoch 7/150\n",
      "277/277 [==============================] - 0s 1ms/step - loss: 0.7050 - accuracy: 0.5772 - val_loss: 0.7042 - val_accuracy: 0.5445\n",
      "Epoch 8/150\n",
      "277/277 [==============================] - 0s 1ms/step - loss: 0.7162 - accuracy: 0.5654 - val_loss: 0.7001 - val_accuracy: 0.5423\n",
      "Epoch 9/150\n",
      "277/277 [==============================] - 0s 1ms/step - loss: 0.7121 - accuracy: 0.5321 - val_loss: 0.7324 - val_accuracy: 0.5228\n",
      "Epoch 10/150\n",
      "277/277 [==============================] - 0s 1ms/step - loss: 0.7647 - accuracy: 0.5378 - val_loss: 0.8332 - val_accuracy: 0.5315\n",
      "Epoch 11/150\n",
      "277/277 [==============================] - 0s 1ms/step - loss: 0.7056 - accuracy: 0.5572 - val_loss: 0.7052 - val_accuracy: 0.5336\n",
      "Epoch 12/150\n",
      "277/277 [==============================] - 0s 2ms/step - loss: 0.7313 - accuracy: 0.5626 - val_loss: 0.6933 - val_accuracy: 0.5466\n",
      "Epoch 13/150\n",
      "277/277 [==============================] - 0s 1ms/step - loss: 0.7291 - accuracy: 0.5645 - val_loss: 0.6923 - val_accuracy: 0.5705\n",
      "Epoch 14/150\n",
      "277/277 [==============================] - 0s 2ms/step - loss: 0.6964 - accuracy: 0.5697 - val_loss: 0.6900 - val_accuracy: 0.5683\n",
      "Epoch 15/150\n",
      "277/277 [==============================] - 0s 1ms/step - loss: 0.7076 - accuracy: 0.5638 - val_loss: 0.7165 - val_accuracy: 0.5683\n",
      "Epoch 16/150\n",
      "277/277 [==============================] - 0s 1ms/step - loss: 0.7271 - accuracy: 0.5593 - val_loss: 0.6856 - val_accuracy: 0.5727\n",
      "Epoch 17/150\n",
      "277/277 [==============================] - 0s 1ms/step - loss: 0.7066 - accuracy: 0.5785 - val_loss: 0.7509 - val_accuracy: 0.5748\n",
      "Epoch 18/150\n",
      "277/277 [==============================] - 0s 2ms/step - loss: 0.6942 - accuracy: 0.5707 - val_loss: 0.6845 - val_accuracy: 0.5510\n",
      "Epoch 19/150\n",
      "277/277 [==============================] - 1s 2ms/step - loss: 0.7184 - accuracy: 0.5570 - val_loss: 0.6847 - val_accuracy: 0.5770\n",
      "Epoch 20/150\n",
      "277/277 [==============================] - 0s 1ms/step - loss: 0.7068 - accuracy: 0.5702 - val_loss: 0.7083 - val_accuracy: 0.5553\n",
      "Epoch 21/150\n",
      "277/277 [==============================] - 1s 2ms/step - loss: 0.7106 - accuracy: 0.5599 - val_loss: 0.7406 - val_accuracy: 0.4794\n",
      "Epoch 22/150\n",
      "277/277 [==============================] - 0s 2ms/step - loss: 0.6862 - accuracy: 0.5896 - val_loss: 0.7349 - val_accuracy: 0.5358\n",
      "Epoch 23/150\n",
      "277/277 [==============================] - 0s 1ms/step - loss: 0.7108 - accuracy: 0.5710 - val_loss: 0.7535 - val_accuracy: 0.5770\n",
      "Epoch 24/150\n",
      "277/277 [==============================] - 0s 2ms/step - loss: 0.6975 - accuracy: 0.5589 - val_loss: 0.6826 - val_accuracy: 0.5727\n",
      "Epoch 25/150\n",
      "277/277 [==============================] - 1s 2ms/step - loss: 0.7186 - accuracy: 0.5544 - val_loss: 0.6855 - val_accuracy: 0.5792\n",
      "Epoch 26/150\n",
      "277/277 [==============================] - 0s 1ms/step - loss: 0.7040 - accuracy: 0.5816 - val_loss: 0.7025 - val_accuracy: 0.5401\n",
      "Epoch 27/150\n",
      "277/277 [==============================] - 0s 1ms/step - loss: 0.7006 - accuracy: 0.5597 - val_loss: 0.6762 - val_accuracy: 0.6052\n",
      "Epoch 28/150\n",
      "277/277 [==============================] - 0s 1ms/step - loss: 0.6801 - accuracy: 0.5999 - val_loss: 0.6919 - val_accuracy: 0.5575\n",
      "Epoch 29/150\n",
      "277/277 [==============================] - 0s 1ms/step - loss: 0.6993 - accuracy: 0.5774 - val_loss: 0.7063 - val_accuracy: 0.5597\n",
      "Epoch 30/150\n",
      "277/277 [==============================] - 0s 1ms/step - loss: 0.7098 - accuracy: 0.5797 - val_loss: 0.7077 - val_accuracy: 0.5618\n",
      "Epoch 31/150\n",
      "277/277 [==============================] - 0s 1ms/step - loss: 0.6816 - accuracy: 0.5817 - val_loss: 0.6776 - val_accuracy: 0.5922\n",
      "Epoch 32/150\n",
      "277/277 [==============================] - 0s 1ms/step - loss: 0.6948 - accuracy: 0.5987 - val_loss: 0.7573 - val_accuracy: 0.5293\n",
      "Epoch 33/150\n",
      "277/277 [==============================] - 0s 1ms/step - loss: 0.7176 - accuracy: 0.5527 - val_loss: 0.6970 - val_accuracy: 0.5792\n",
      "Epoch 34/150\n",
      "277/277 [==============================] - 0s 1ms/step - loss: 0.6695 - accuracy: 0.6189 - val_loss: 0.6873 - val_accuracy: 0.5662\n",
      "Epoch 35/150\n",
      "277/277 [==============================] - 0s 1ms/step - loss: 0.7124 - accuracy: 0.5574 - val_loss: 0.7451 - val_accuracy: 0.5553\n",
      "Epoch 36/150\n",
      "277/277 [==============================] - 0s 1ms/step - loss: 0.6807 - accuracy: 0.5925 - val_loss: 0.6945 - val_accuracy: 0.5488\n",
      "Epoch 37/150\n",
      "277/277 [==============================] - 0s 1ms/step - loss: 0.6930 - accuracy: 0.5562 - val_loss: 0.6723 - val_accuracy: 0.5900\n",
      "Epoch 38/150\n",
      "277/277 [==============================] - 0s 1ms/step - loss: 0.6948 - accuracy: 0.5852 - val_loss: 0.6829 - val_accuracy: 0.5857\n",
      "Epoch 39/150\n",
      "277/277 [==============================] - 0s 1ms/step - loss: 0.6808 - accuracy: 0.5838 - val_loss: 0.6727 - val_accuracy: 0.6052\n",
      "Epoch 40/150\n",
      "277/277 [==============================] - 0s 1ms/step - loss: 0.6815 - accuracy: 0.5940 - val_loss: 0.7130 - val_accuracy: 0.4946\n",
      "Epoch 41/150\n",
      "277/277 [==============================] - 0s 1ms/step - loss: 0.6858 - accuracy: 0.5912 - val_loss: 0.7147 - val_accuracy: 0.5857\n",
      "Epoch 42/150\n",
      "277/277 [==============================] - 0s 2ms/step - loss: 0.7085 - accuracy: 0.5612 - val_loss: 0.6767 - val_accuracy: 0.6009\n",
      "Epoch 43/150\n",
      "277/277 [==============================] - 0s 1ms/step - loss: 0.7031 - accuracy: 0.5745 - val_loss: 0.7256 - val_accuracy: 0.4989\n",
      "Epoch 44/150\n",
      "277/277 [==============================] - 0s 1ms/step - loss: 0.7032 - accuracy: 0.5553 - val_loss: 0.8052 - val_accuracy: 0.5011\n",
      "Epoch 45/150\n",
      "277/277 [==============================] - 0s 1ms/step - loss: 0.6948 - accuracy: 0.5783 - val_loss: 0.7228 - val_accuracy: 0.5488\n",
      "Epoch 46/150\n",
      "277/277 [==============================] - 0s 1ms/step - loss: 0.6822 - accuracy: 0.5854 - val_loss: 0.6886 - val_accuracy: 0.6074\n",
      "Epoch 47/150\n",
      "277/277 [==============================] - 0s 1ms/step - loss: 0.7058 - accuracy: 0.5929 - val_loss: 0.6729 - val_accuracy: 0.5987\n",
      "Epoch 48/150\n",
      "277/277 [==============================] - 0s 1ms/step - loss: 0.6836 - accuracy: 0.5923 - val_loss: 0.6796 - val_accuracy: 0.6030\n",
      "Epoch 49/150\n",
      "277/277 [==============================] - 0s 1ms/step - loss: 0.7007 - accuracy: 0.5850 - val_loss: 0.6917 - val_accuracy: 0.5553\n",
      "Epoch 50/150\n",
      "277/277 [==============================] - 0s 1ms/step - loss: 0.6971 - accuracy: 0.5755 - val_loss: 0.6771 - val_accuracy: 0.6117\n",
      "Epoch 51/150\n",
      "277/277 [==============================] - 0s 1ms/step - loss: 0.6879 - accuracy: 0.5611 - val_loss: 0.6889 - val_accuracy: 0.5857\n",
      "Epoch 52/150\n",
      "277/277 [==============================] - 0s 1ms/step - loss: 0.6723 - accuracy: 0.6160 - val_loss: 0.7548 - val_accuracy: 0.5054\n",
      "Epoch 53/150\n",
      "277/277 [==============================] - 0s 1ms/step - loss: 0.6829 - accuracy: 0.6117 - val_loss: 0.6769 - val_accuracy: 0.5965\n",
      "Epoch 54/150\n",
      "277/277 [==============================] - 0s 1ms/step - loss: 0.6770 - accuracy: 0.5920 - val_loss: 0.6707 - val_accuracy: 0.5965\n",
      "Epoch 55/150\n",
      "277/277 [==============================] - 0s 1ms/step - loss: 0.6644 - accuracy: 0.6162 - val_loss: 0.6719 - val_accuracy: 0.5987\n",
      "Epoch 56/150\n",
      "277/277 [==============================] - 0s 1ms/step - loss: 0.6694 - accuracy: 0.5728 - val_loss: 0.6743 - val_accuracy: 0.6052\n",
      "Epoch 57/150\n",
      "277/277 [==============================] - 0s 1ms/step - loss: 0.6775 - accuracy: 0.5977 - val_loss: 0.7039 - val_accuracy: 0.5965\n"
     ]
    },
    {
     "name": "stdout",
     "output_type": "stream",
     "text": [
      "Epoch 58/150\n",
      "277/277 [==============================] - 0s 1ms/step - loss: 0.6622 - accuracy: 0.6143 - val_loss: 0.7547 - val_accuracy: 0.5510\n",
      "Epoch 59/150\n",
      "277/277 [==============================] - 0s 1ms/step - loss: 0.6798 - accuracy: 0.5924 - val_loss: 0.6993 - val_accuracy: 0.5336\n",
      "Epoch 60/150\n",
      "277/277 [==============================] - 0s 1ms/step - loss: 0.7019 - accuracy: 0.5789 - val_loss: 0.6894 - val_accuracy: 0.5922\n",
      "Epoch 61/150\n",
      "277/277 [==============================] - 0s 1ms/step - loss: 0.6572 - accuracy: 0.6220 - val_loss: 0.6739 - val_accuracy: 0.6030\n",
      "Epoch 62/150\n",
      "277/277 [==============================] - 0s 1ms/step - loss: 0.6690 - accuracy: 0.6156 - val_loss: 0.6743 - val_accuracy: 0.5683\n",
      "Epoch 63/150\n",
      "277/277 [==============================] - 0s 1ms/step - loss: 0.6842 - accuracy: 0.5643 - val_loss: 0.6741 - val_accuracy: 0.5922\n",
      "Epoch 64/150\n",
      "277/277 [==============================] - 0s 1ms/step - loss: 0.6724 - accuracy: 0.6060 - val_loss: 0.7200 - val_accuracy: 0.5835\n",
      "Epoch 65/150\n",
      "277/277 [==============================] - 0s 1ms/step - loss: 0.6984 - accuracy: 0.5843 - val_loss: 0.6711 - val_accuracy: 0.5813\n",
      "Epoch 66/150\n",
      "277/277 [==============================] - 0s 1ms/step - loss: 0.6741 - accuracy: 0.5975 - val_loss: 0.6712 - val_accuracy: 0.5770\n",
      "Epoch 67/150\n",
      "277/277 [==============================] - 0s 1ms/step - loss: 0.6677 - accuracy: 0.6139 - val_loss: 0.6771 - val_accuracy: 0.5683\n",
      "Epoch 68/150\n",
      "277/277 [==============================] - 0s 1ms/step - loss: 0.6663 - accuracy: 0.6132 - val_loss: 0.6757 - val_accuracy: 0.5662\n",
      "Epoch 69/150\n",
      "277/277 [==============================] - 0s 1ms/step - loss: 0.6641 - accuracy: 0.6041 - val_loss: 0.6739 - val_accuracy: 0.5792\n",
      "Epoch 70/150\n",
      "277/277 [==============================] - 0s 1ms/step - loss: 0.6966 - accuracy: 0.5709 - val_loss: 0.6809 - val_accuracy: 0.5705\n",
      "Epoch 71/150\n",
      "277/277 [==============================] - 0s 1ms/step - loss: 0.6741 - accuracy: 0.6190 - val_loss: 0.6737 - val_accuracy: 0.5857\n",
      "Epoch 72/150\n",
      "277/277 [==============================] - 0s 1ms/step - loss: 0.6800 - accuracy: 0.5940 - val_loss: 0.6797 - val_accuracy: 0.5683\n",
      "Epoch 73/150\n",
      "277/277 [==============================] - 0s 1ms/step - loss: 0.6706 - accuracy: 0.5901 - val_loss: 0.6859 - val_accuracy: 0.5618\n",
      "Epoch 74/150\n",
      "277/277 [==============================] - 0s 1ms/step - loss: 0.6757 - accuracy: 0.5827 - val_loss: 0.6834 - val_accuracy: 0.6074\n",
      "Epoch 75/150\n",
      "277/277 [==============================] - 0s 1ms/step - loss: 0.6700 - accuracy: 0.5941 - val_loss: 0.6714 - val_accuracy: 0.5922\n",
      "Epoch 76/150\n",
      "277/277 [==============================] - 0s 1ms/step - loss: 0.6546 - accuracy: 0.6220 - val_loss: 0.6729 - val_accuracy: 0.5879\n",
      "Epoch 77/150\n",
      "277/277 [==============================] - 0s 1ms/step - loss: 0.6741 - accuracy: 0.5959 - val_loss: 0.6936 - val_accuracy: 0.5792\n",
      "Epoch 78/150\n",
      "277/277 [==============================] - 0s 1ms/step - loss: 0.6594 - accuracy: 0.6219 - val_loss: 0.6744 - val_accuracy: 0.5727\n",
      "Epoch 79/150\n",
      "277/277 [==============================] - 0s 1ms/step - loss: 0.6693 - accuracy: 0.5919 - val_loss: 0.6769 - val_accuracy: 0.5727\n",
      "Epoch 80/150\n",
      "277/277 [==============================] - 0s 1ms/step - loss: 0.6761 - accuracy: 0.6118 - val_loss: 0.6795 - val_accuracy: 0.5575\n",
      "Epoch 81/150\n",
      "277/277 [==============================] - 0s 1ms/step - loss: 0.6695 - accuracy: 0.6036 - val_loss: 0.6790 - val_accuracy: 0.5770\n",
      "Epoch 82/150\n",
      "277/277 [==============================] - 0s 1ms/step - loss: 0.6642 - accuracy: 0.5897 - val_loss: 0.6702 - val_accuracy: 0.6009\n",
      "Epoch 83/150\n",
      "277/277 [==============================] - 0s 1ms/step - loss: 0.6705 - accuracy: 0.5871 - val_loss: 0.6873 - val_accuracy: 0.5662\n",
      "Epoch 84/150\n",
      "277/277 [==============================] - 0s 1ms/step - loss: 0.6667 - accuracy: 0.5874 - val_loss: 0.6795 - val_accuracy: 0.5879\n",
      "Epoch 85/150\n",
      "277/277 [==============================] - 0s 1ms/step - loss: 0.6606 - accuracy: 0.5934 - val_loss: 0.6737 - val_accuracy: 0.5922\n",
      "Epoch 86/150\n",
      "277/277 [==============================] - 0s 1ms/step - loss: 0.6709 - accuracy: 0.6249 - val_loss: 0.6880 - val_accuracy: 0.5662\n",
      "Epoch 87/150\n",
      "277/277 [==============================] - 0s 2ms/step - loss: 0.6635 - accuracy: 0.6111 - val_loss: 0.6837 - val_accuracy: 0.5705\n",
      "Epoch 88/150\n",
      "277/277 [==============================] - 0s 1ms/step - loss: 0.6711 - accuracy: 0.6007 - val_loss: 0.6804 - val_accuracy: 0.5727\n",
      "Epoch 89/150\n",
      "277/277 [==============================] - 0s 2ms/step - loss: 0.6655 - accuracy: 0.6182 - val_loss: 0.6803 - val_accuracy: 0.5813\n",
      "Epoch 90/150\n",
      "277/277 [==============================] - 0s 1ms/step - loss: 0.6679 - accuracy: 0.5923 - val_loss: 0.6745 - val_accuracy: 0.5944\n",
      "Epoch 91/150\n",
      "277/277 [==============================] - 0s 1ms/step - loss: 0.6658 - accuracy: 0.6090 - val_loss: 0.6793 - val_accuracy: 0.6009\n",
      "Epoch 92/150\n",
      "277/277 [==============================] - 0s 1ms/step - loss: 0.6492 - accuracy: 0.5982 - val_loss: 0.6761 - val_accuracy: 0.5770\n",
      "Epoch 93/150\n",
      "277/277 [==============================] - 0s 1ms/step - loss: 0.6808 - accuracy: 0.5783 - val_loss: 0.7015 - val_accuracy: 0.5401\n",
      "Epoch 94/150\n",
      "277/277 [==============================] - 0s 1ms/step - loss: 0.6707 - accuracy: 0.6079 - val_loss: 0.6824 - val_accuracy: 0.5987\n",
      "Epoch 95/150\n",
      "277/277 [==============================] - 0s 1ms/step - loss: 0.6666 - accuracy: 0.6034 - val_loss: 0.6904 - val_accuracy: 0.6074\n",
      "Epoch 96/150\n",
      "277/277 [==============================] - 0s 1ms/step - loss: 0.6638 - accuracy: 0.6197 - val_loss: 0.6819 - val_accuracy: 0.5857\n",
      "Epoch 97/150\n",
      "277/277 [==============================] - 0s 1ms/step - loss: 0.6638 - accuracy: 0.5945 - val_loss: 0.6939 - val_accuracy: 0.5531\n",
      "Epoch 98/150\n",
      "277/277 [==============================] - 0s 1ms/step - loss: 0.6645 - accuracy: 0.6125 - val_loss: 0.6795 - val_accuracy: 0.5640\n",
      "Epoch 99/150\n",
      "277/277 [==============================] - 0s 1ms/step - loss: 0.6678 - accuracy: 0.6190 - val_loss: 0.6971 - val_accuracy: 0.6030\n",
      "Epoch 100/150\n",
      "277/277 [==============================] - 0s 1ms/step - loss: 0.6529 - accuracy: 0.6177 - val_loss: 0.6821 - val_accuracy: 0.5683\n",
      "Epoch 101/150\n",
      "277/277 [==============================] - 0s 1ms/step - loss: 0.6697 - accuracy: 0.5896 - val_loss: 0.6766 - val_accuracy: 0.5922\n",
      "Epoch 102/150\n",
      "277/277 [==============================] - 0s 1ms/step - loss: 0.6701 - accuracy: 0.5978 - val_loss: 0.6843 - val_accuracy: 0.5835\n",
      "Epoch 103/150\n",
      "277/277 [==============================] - 0s 1ms/step - loss: 0.6644 - accuracy: 0.5941 - val_loss: 0.6752 - val_accuracy: 0.5813\n",
      "Epoch 104/150\n",
      "277/277 [==============================] - 0s 1ms/step - loss: 0.6527 - accuracy: 0.6288 - val_loss: 0.6910 - val_accuracy: 0.6009\n",
      "Epoch 105/150\n",
      "277/277 [==============================] - 0s 1ms/step - loss: 0.6662 - accuracy: 0.6074 - val_loss: 0.6847 - val_accuracy: 0.6030\n",
      "Epoch 106/150\n",
      "277/277 [==============================] - 0s 2ms/step - loss: 0.6567 - accuracy: 0.5982 - val_loss: 0.6830 - val_accuracy: 0.5705\n",
      "Epoch 107/150\n",
      "277/277 [==============================] - 0s 2ms/step - loss: 0.6506 - accuracy: 0.6261 - val_loss: 0.6774 - val_accuracy: 0.5922\n",
      "Epoch 108/150\n",
      "277/277 [==============================] - 0s 2ms/step - loss: 0.6567 - accuracy: 0.5964 - val_loss: 0.6796 - val_accuracy: 0.5879\n",
      "Epoch 109/150\n",
      "277/277 [==============================] - 0s 2ms/step - loss: 0.6701 - accuracy: 0.5826 - val_loss: 0.6771 - val_accuracy: 0.5900\n",
      "Epoch 110/150\n",
      "277/277 [==============================] - 0s 1ms/step - loss: 0.6695 - accuracy: 0.5845 - val_loss: 0.6889 - val_accuracy: 0.5987\n",
      "Epoch 111/150\n",
      "277/277 [==============================] - 0s 1ms/step - loss: 0.6565 - accuracy: 0.6184 - val_loss: 0.6788 - val_accuracy: 0.5879\n",
      "Epoch 112/150\n",
      "277/277 [==============================] - 0s 1ms/step - loss: 0.6624 - accuracy: 0.6219 - val_loss: 0.6804 - val_accuracy: 0.5770\n",
      "Epoch 113/150\n",
      "277/277 [==============================] - 0s 1ms/step - loss: 0.6607 - accuracy: 0.6053 - val_loss: 0.6824 - val_accuracy: 0.5835\n",
      "Epoch 114/150\n",
      "277/277 [==============================] - 0s 1ms/step - loss: 0.6608 - accuracy: 0.6013 - val_loss: 0.6799 - val_accuracy: 0.5835\n"
     ]
    },
    {
     "name": "stdout",
     "output_type": "stream",
     "text": [
      "Epoch 115/150\n",
      "277/277 [==============================] - 0s 1ms/step - loss: 0.6617 - accuracy: 0.5933 - val_loss: 0.6819 - val_accuracy: 0.5987\n",
      "Epoch 116/150\n",
      "277/277 [==============================] - 0s 1ms/step - loss: 0.6551 - accuracy: 0.6174 - val_loss: 0.6865 - val_accuracy: 0.5922\n",
      "Epoch 117/150\n",
      "277/277 [==============================] - 0s 1ms/step - loss: 0.6730 - accuracy: 0.5712 - val_loss: 0.6852 - val_accuracy: 0.5965\n",
      "Epoch 118/150\n",
      "277/277 [==============================] - 0s 1ms/step - loss: 0.6719 - accuracy: 0.5974 - val_loss: 0.6767 - val_accuracy: 0.5922\n",
      "Epoch 119/150\n",
      "277/277 [==============================] - 0s 1ms/step - loss: 0.6633 - accuracy: 0.6079 - val_loss: 0.6801 - val_accuracy: 0.5748\n",
      "Epoch 120/150\n",
      "277/277 [==============================] - 0s 1ms/step - loss: 0.6565 - accuracy: 0.6236 - val_loss: 0.6861 - val_accuracy: 0.6009\n",
      "Epoch 121/150\n",
      "277/277 [==============================] - 0s 1ms/step - loss: 0.6673 - accuracy: 0.6025 - val_loss: 0.6831 - val_accuracy: 0.5683\n",
      "Epoch 122/150\n",
      "277/277 [==============================] - 0s 1ms/step - loss: 0.6458 - accuracy: 0.6153 - val_loss: 0.6790 - val_accuracy: 0.5748\n",
      "Epoch 123/150\n",
      "277/277 [==============================] - 0s 1ms/step - loss: 0.6555 - accuracy: 0.6075 - val_loss: 0.6819 - val_accuracy: 0.5857\n",
      "Epoch 124/150\n",
      "277/277 [==============================] - 0s 1ms/step - loss: 0.6615 - accuracy: 0.6006 - val_loss: 0.6836 - val_accuracy: 0.5727\n",
      "Epoch 125/150\n",
      "277/277 [==============================] - 0s 1ms/step - loss: 0.6553 - accuracy: 0.6128 - val_loss: 0.6871 - val_accuracy: 0.5683\n",
      "Epoch 126/150\n",
      "277/277 [==============================] - 0s 1ms/step - loss: 0.6564 - accuracy: 0.6133 - val_loss: 0.6859 - val_accuracy: 0.6009\n",
      "Epoch 127/150\n",
      "277/277 [==============================] - 0s 1ms/step - loss: 0.6444 - accuracy: 0.6172 - val_loss: 0.6878 - val_accuracy: 0.5748\n",
      "Epoch 128/150\n",
      "277/277 [==============================] - 0s 1ms/step - loss: 0.6588 - accuracy: 0.6115 - val_loss: 0.7056 - val_accuracy: 0.5293\n",
      "Epoch 129/150\n",
      "277/277 [==============================] - 0s 1ms/step - loss: 0.6468 - accuracy: 0.6346 - val_loss: 0.6968 - val_accuracy: 0.5944\n",
      "Epoch 130/150\n",
      "277/277 [==============================] - 0s 1ms/step - loss: 0.6458 - accuracy: 0.6439 - val_loss: 0.6767 - val_accuracy: 0.5879\n",
      "Epoch 131/150\n",
      "277/277 [==============================] - 0s 1ms/step - loss: 0.6671 - accuracy: 0.6100 - val_loss: 0.6818 - val_accuracy: 0.5987\n",
      "Epoch 132/150\n",
      "277/277 [==============================] - 0s 1ms/step - loss: 0.6675 - accuracy: 0.6153 - val_loss: 0.6785 - val_accuracy: 0.5748\n",
      "Epoch 133/150\n",
      "277/277 [==============================] - 0s 1ms/step - loss: 0.6553 - accuracy: 0.6323 - val_loss: 0.6841 - val_accuracy: 0.5965\n",
      "Epoch 134/150\n",
      "277/277 [==============================] - 0s 1ms/step - loss: 0.6603 - accuracy: 0.6149 - val_loss: 0.6905 - val_accuracy: 0.5618\n",
      "Epoch 135/150\n",
      "277/277 [==============================] - 0s 1ms/step - loss: 0.6589 - accuracy: 0.6199 - val_loss: 0.6929 - val_accuracy: 0.5900\n",
      "Epoch 136/150\n",
      "277/277 [==============================] - 0s 1ms/step - loss: 0.6669 - accuracy: 0.6077 - val_loss: 0.6856 - val_accuracy: 0.5770\n",
      "Epoch 137/150\n",
      "277/277 [==============================] - 0s 1ms/step - loss: 0.6559 - accuracy: 0.6213 - val_loss: 0.6825 - val_accuracy: 0.5705\n",
      "Epoch 138/150\n",
      "277/277 [==============================] - 0s 1ms/step - loss: 0.6622 - accuracy: 0.6144 - val_loss: 0.6852 - val_accuracy: 0.5857\n",
      "Epoch 139/150\n",
      "277/277 [==============================] - 0s 1ms/step - loss: 0.6614 - accuracy: 0.6152 - val_loss: 0.6822 - val_accuracy: 0.5835\n",
      "Epoch 140/150\n",
      "277/277 [==============================] - 0s 1ms/step - loss: 0.6525 - accuracy: 0.6375 - val_loss: 0.6866 - val_accuracy: 0.5770\n",
      "Epoch 141/150\n",
      "277/277 [==============================] - 0s 1ms/step - loss: 0.6510 - accuracy: 0.6197 - val_loss: 0.6777 - val_accuracy: 0.5965\n",
      "Epoch 142/150\n",
      "277/277 [==============================] - 0s 1ms/step - loss: 0.6553 - accuracy: 0.6198 - val_loss: 0.6774 - val_accuracy: 0.5922\n",
      "Epoch 143/150\n",
      "277/277 [==============================] - 0s 1ms/step - loss: 0.6604 - accuracy: 0.6128 - val_loss: 0.7055 - val_accuracy: 0.5271\n",
      "Epoch 144/150\n",
      "277/277 [==============================] - 0s 1ms/step - loss: 0.6590 - accuracy: 0.6114 - val_loss: 0.6829 - val_accuracy: 0.5748\n",
      "Epoch 145/150\n",
      "277/277 [==============================] - 0s 1ms/step - loss: 0.6603 - accuracy: 0.6164 - val_loss: 0.6831 - val_accuracy: 0.5770\n",
      "Epoch 146/150\n",
      "277/277 [==============================] - 0s 1ms/step - loss: 0.6666 - accuracy: 0.6096 - val_loss: 0.6818 - val_accuracy: 0.5922\n",
      "Epoch 147/150\n",
      "277/277 [==============================] - 0s 1ms/step - loss: 0.6575 - accuracy: 0.6030 - val_loss: 0.6869 - val_accuracy: 0.5792\n",
      "Epoch 148/150\n",
      "277/277 [==============================] - 0s 1ms/step - loss: 0.6613 - accuracy: 0.5981 - val_loss: 0.6864 - val_accuracy: 0.5813\n",
      "Epoch 149/150\n",
      "277/277 [==============================] - 0s 1ms/step - loss: 0.6565 - accuracy: 0.6133 - val_loss: 0.6864 - val_accuracy: 0.5683\n",
      "Epoch 150/150\n",
      "277/277 [==============================] - 0s 1ms/step - loss: 0.6591 - accuracy: 0.6269 - val_loss: 0.6877 - val_accuracy: 0.5705\n"
     ]
    }
   ],
   "source": [
    "# Fit the DNN with your train data\n",
    "\n",
    "DNN_model_nor= model_nor.fit(X_train_n, Y_train_n, validation_data=(X_Valid_n, Y_Valid_n), epochs=150, batch_size=5)"
   ]
  },
  {
   "cell_type": "code",
   "execution_count": 41,
   "metadata": {},
   "outputs": [
    {
     "data": {
      "image/png": "[encoded data removed]",
      "text/plain": [
       "<Figure size 432x288 with 1 Axes>"
      ]
     },
     "metadata": {
      "needs_background": "light"
     },
     "output_type": "display_data"
    }
   ],
   "source": [
    "\n",
    "#EPOCH VS LOSS\n",
    "import matplotlib.pyplot as plt\n",
    "\n",
    "train_loss = DNN_model_nor.history['loss']\n",
    "test_loss = DNN_model_nor.history['val_loss']\n",
    "\n",
    "epoch_counter = range(1, len(train_loss)+1)\n",
    "\n",
    "plt.plot(epoch_counter,train_loss,'r--')\n",
    "plt.plot(epoch_counter,test_loss,'b-')\n",
    "plt.legend(['train_loss','test_loss'])\n",
    "plt.xlabel('epoch')\n",
    "plt.ylabel('loss')\n",
    "plt.show();"
   ]
  },
  {
   "cell_type": "code",
   "execution_count": 43,
   "metadata": {},
   "outputs": [
    {
     "data": {
      "image/png": "[encoded data removed]",
      "text/plain": [
       "<Figure size 432x288 with 1 Axes>"
      ]
     },
     "metadata": {
      "needs_background": "light"
     },
     "output_type": "display_data"
    }
   ],
   "source": [
    "#EPOCH VS ACCURACY\n",
    "\n",
    "import matplotlib.pyplot as plt\n",
    "\n",
    "train_loss = DNN_model_nor.history['accuracy']\n",
    "test_loss = DNN_model_nor.history['val_accuracy']\n",
    "\n",
    "epoch_counter = range(1, len(train_loss)+1)\n",
    "\n",
    "plt.plot(epoch_counter,train_loss,'r--')\n",
    "plt.plot(epoch_counter,test_loss,'b-')\n",
    "plt.legend(['Training_accuracy','val_accuracy'])\n",
    "plt.xlabel('epoch')\n",
    "plt.ylabel('Accuracy')\n",
    "plt.show();"
   ]
  },
  {
   "cell_type": "code",
   "execution_count": 44,
   "metadata": {},
   "outputs": [
    {
     "name": "stdout",
     "output_type": "stream",
     "text": [
      "15/15 [==============================] - 0s 989us/step - loss: 0.6671 - accuracy: 0.5770\n",
      "Accuracy: 57.70%\n"
     ]
    }
   ],
   "source": [
    "# Evaluate the model\n",
    "scores = model_nor.evaluate(X_Test_n, Y_Test_n)\n",
    "print (\"Accuracy: %.2f%%\" %(scores[1]*100))"
   ]
  },
  {
   "cell_type": "markdown",
   "metadata": {},
   "source": [
    "# ROC_CURVE"
   ]
  },
  {
   "cell_type": "code",
   "execution_count": 45,
   "metadata": {},
   "outputs": [],
   "source": [
    "from sklearn.metrics import classification_report,roc_curve,roc_auc_score\n",
    "DNN_pred_nor = model_nor.predict(X_Test_n).ravel()\n",
    "rec, fall_out, thresholds = roc_curve(Y_Test_n,DNN_pred_nor)"
   ]
  },
  {
   "cell_type": "code",
   "execution_count": 46,
   "metadata": {},
   "outputs": [
    {
     "data": {
      "image/png": "[encoded data removed]",
      "text/plain": [
       "<Figure size 432x288 with 1 Axes>"
      ]
     },
     "metadata": {
      "needs_background": "light"
     },
     "output_type": "display_data"
    }
   ],
   "source": [
    "from sklearn.metrics import classification_report,roc_curve,roc_auc_score\n",
    "rec, fall_out, thresholds = roc_curve(Y_Test_n,DNN_pred_nor)\n",
    "plt.plot([0,1],[0,1],'k--')\n",
    "plt.plot(rec,fall_out, label='Knn')\n",
    "plt.xlabel('Output')\n",
    "plt.ylabel('Accuracy')\n",
    "plt.title('Deep Learning ROC curve')\n",
    "plt.show()"
   ]
  },
  {
   "cell_type": "code",
   "execution_count": 47,
   "metadata": {},
   "outputs": [
    {
     "data": {
      "text/plain": [
       "0.6484443179662304"
      ]
     },
     "execution_count": 47,
     "metadata": {},
     "output_type": "execute_result"
    }
   ],
   "source": [
    "#AUC Score\n",
    "roc_auc_score(Y_Test_n,DNN_pred_nor)"
   ]
  },
  {
   "cell_type": "markdown",
   "metadata": {},
   "source": [
    "# Increase dataset size method 2"
   ]
  },
  {
   "cell_type": "code",
   "execution_count": 48,
   "metadata": {},
   "outputs": [
    {
     "name": "stdout",
     "output_type": "stream",
     "text": [
      "(768, 9)\n"
     ]
    },
    {
     "data": {
      "text/html": [
       "<div>\n",
       "<style scoped>\n",
       "    .dataframe tbody tr th:only-of-type {\n",
       "        vertical-align: middle;\n",
       "    }\n",
       "\n",
       "    .dataframe tbody tr th {\n",
       "        vertical-align: top;\n",
       "    }\n",
       "\n",
       "    .dataframe thead th {\n",
       "        text-align: right;\n",
       "    }\n",
       "</style>\n",
       "<table border=\"1\" class=\"dataframe\">\n",
       "  <thead>\n",
       "    <tr style=\"text-align: right;\">\n",
       "      <th></th>\n",
       "      <th>0</th>\n",
       "      <th>1</th>\n",
       "      <th>2</th>\n",
       "      <th>3</th>\n",
       "      <th>4</th>\n",
       "      <th>5</th>\n",
       "      <th>6</th>\n",
       "      <th>7</th>\n",
       "      <th>8</th>\n",
       "    </tr>\n",
       "  </thead>\n",
       "  <tbody>\n",
       "    <tr>\n",
       "      <th>0</th>\n",
       "      <td>6</td>\n",
       "      <td>148</td>\n",
       "      <td>72</td>\n",
       "      <td>35</td>\n",
       "      <td>0</td>\n",
       "      <td>33.6</td>\n",
       "      <td>0.627</td>\n",
       "      <td>50</td>\n",
       "      <td>1</td>\n",
       "    </tr>\n",
       "    <tr>\n",
       "      <th>1</th>\n",
       "      <td>1</td>\n",
       "      <td>85</td>\n",
       "      <td>66</td>\n",
       "      <td>29</td>\n",
       "      <td>0</td>\n",
       "      <td>26.6</td>\n",
       "      <td>0.351</td>\n",
       "      <td>31</td>\n",
       "      <td>0</td>\n",
       "    </tr>\n",
       "  </tbody>\n",
       "</table>\n",
       "</div>"
      ],
      "text/plain": [
       "   0    1   2   3  4     5      6   7  8\n",
       "0  6  148  72  35  0  33.6  0.627  50  1\n",
       "1  1   85  66  29  0  26.6  0.351  31  0"
      ]
     },
     "execution_count": 48,
     "metadata": {},
     "output_type": "execute_result"
    }
   ],
   "source": [
    "df_uni = pd.read_csv(f'{path}\\\\pima-indians-diabetes.data',header = None)\n",
    "print(df_uni.shape)\n",
    "df_uni.head(2)"
   ]
  },
  {
   "cell_type": "code",
   "execution_count": 49,
   "metadata": {},
   "outputs": [
    {
     "data": {
      "text/html": [
       "<div>\n",
       "<style scoped>\n",
       "    .dataframe tbody tr th:only-of-type {\n",
       "        vertical-align: middle;\n",
       "    }\n",
       "\n",
       "    .dataframe tbody tr th {\n",
       "        vertical-align: top;\n",
       "    }\n",
       "\n",
       "    .dataframe thead th {\n",
       "        text-align: right;\n",
       "    }\n",
       "</style>\n",
       "<table border=\"1\" class=\"dataframe\">\n",
       "  <thead>\n",
       "    <tr style=\"text-align: right;\">\n",
       "      <th></th>\n",
       "      <th>0</th>\n",
       "      <th>1</th>\n",
       "      <th>2</th>\n",
       "      <th>3</th>\n",
       "      <th>4</th>\n",
       "      <th>5</th>\n",
       "      <th>6</th>\n",
       "      <th>7</th>\n",
       "      <th>8</th>\n",
       "    </tr>\n",
       "  </thead>\n",
       "  <tbody>\n",
       "    <tr>\n",
       "      <th>2299</th>\n",
       "      <td>8.0</td>\n",
       "      <td>89.0</td>\n",
       "      <td>40.0</td>\n",
       "      <td>0.0</td>\n",
       "      <td>0.0</td>\n",
       "      <td>28.1</td>\n",
       "      <td>0.351</td>\n",
       "      <td>54.0</td>\n",
       "      <td>0.0</td>\n",
       "    </tr>\n",
       "    <tr>\n",
       "      <th>2300</th>\n",
       "      <td>8.0</td>\n",
       "      <td>148.0</td>\n",
       "      <td>96.0</td>\n",
       "      <td>0.0</td>\n",
       "      <td>94.0</td>\n",
       "      <td>26.6</td>\n",
       "      <td>1.441</td>\n",
       "      <td>33.0</td>\n",
       "      <td>0.0</td>\n",
       "    </tr>\n",
       "    <tr>\n",
       "      <th>2301</th>\n",
       "      <td>6.0</td>\n",
       "      <td>197.0</td>\n",
       "      <td>74.0</td>\n",
       "      <td>0.0</td>\n",
       "      <td>543.0</td>\n",
       "      <td>26.6</td>\n",
       "      <td>0.201</td>\n",
       "      <td>33.0</td>\n",
       "      <td>1.0</td>\n",
       "    </tr>\n",
       "    <tr>\n",
       "      <th>2302</th>\n",
       "      <td>1.0</td>\n",
       "      <td>139.0</td>\n",
       "      <td>66.0</td>\n",
       "      <td>35.0</td>\n",
       "      <td>0.0</td>\n",
       "      <td>25.8</td>\n",
       "      <td>0.351</td>\n",
       "      <td>33.0</td>\n",
       "      <td>1.0</td>\n",
       "    </tr>\n",
       "    <tr>\n",
       "      <th>2303</th>\n",
       "      <td>6.0</td>\n",
       "      <td>139.0</td>\n",
       "      <td>70.0</td>\n",
       "      <td>45.0</td>\n",
       "      <td>0.0</td>\n",
       "      <td>28.1</td>\n",
       "      <td>0.351</td>\n",
       "      <td>31.0</td>\n",
       "      <td>0.0</td>\n",
       "    </tr>\n",
       "  </tbody>\n",
       "</table>\n",
       "</div>"
      ],
      "text/plain": [
       "        0      1     2     3      4     5      6     7    8\n",
       "2299  8.0   89.0  40.0   0.0    0.0  28.1  0.351  54.0  0.0\n",
       "2300  8.0  148.0  96.0   0.0   94.0  26.6  1.441  33.0  0.0\n",
       "2301  6.0  197.0  74.0   0.0  543.0  26.6  0.201  33.0  1.0\n",
       "2302  1.0  139.0  66.0  35.0    0.0  25.8  0.351  33.0  1.0\n",
       "2303  6.0  139.0  70.0  45.0    0.0  28.1  0.351  31.0  0.0"
      ]
     },
     "execution_count": 49,
     "metadata": {},
     "output_type": "execute_result"
    }
   ],
   "source": [
    "#Uniform Generation\n",
    "columns = df_uni.columns.to_numpy()\n",
    "iteration_count = 2\n",
    "new_df = pd.DataFrame(columns=columns)\n",
    "\n",
    "for i in range(iteration_count):\n",
    "    for k in df.iterrows():\n",
    "        data_obj = {}\n",
    "        for j in range(columns.size):\n",
    "            random_index_1 = np.random.randint(0,15)\n",
    "            data_obj[columns[j]] = df.loc[random_index_1][columns[j]]\n",
    "            \n",
    "        new_df = new_df.append(data_obj, ignore_index=True)\n",
    "\n",
    "df_uni = df_uni.append(new_df, ignore_index=True)\n",
    "df_uni.shape\n",
    "df_uni.tail()"
   ]
  },
  {
   "cell_type": "code",
   "execution_count": 50,
   "metadata": {},
   "outputs": [],
   "source": [
    "#Separate out X and Y in method 1\n",
    "\n",
    "X_uniform = df_uni.iloc[:, :8]\n",
    "Y_uniform = df_uni.iloc[:, 8:9]"
   ]
  },
  {
   "cell_type": "code",
   "execution_count": 51,
   "metadata": {},
   "outputs": [
    {
     "name": "stdout",
     "output_type": "stream",
     "text": [
      "             0         1         2         3         4         5         6  \\\n",
      "0     0.389905  0.437174  0.242876  1.086957 -0.536778  0.399546  0.198921   \n",
      "1    -1.047441 -1.285133 -0.051566  0.716144 -0.536778 -0.392591 -0.339826   \n",
      "2     0.964844  1.394012 -0.149713 -1.076120 -0.536778 -0.766027  0.286760   \n",
      "3    -1.047441 -1.175780 -0.051566  0.345331 -0.078865 -0.222847 -0.698991   \n",
      "4    -1.334910  0.136454 -1.327481  1.086957  0.281621  1.474589  3.441163   \n",
      "...        ...       ...       ...       ...       ...       ...       ...   \n",
      "2299  0.964844 -1.175780 -1.327481 -1.076120 -0.536778 -0.222847 -0.339826   \n",
      "2300  0.964844  0.437174  1.420645 -1.076120 -0.078865 -0.392591  1.787834   \n",
      "2301  0.389905  1.776747  0.341024 -1.076120  2.108403 -0.392591 -0.632623   \n",
      "2302 -1.047441  0.191130 -0.051566  1.086957 -0.536778 -0.483121 -0.339826   \n",
      "2303  0.389905  0.191130  0.144729  1.704979 -0.536778 -0.222847 -0.339826   \n",
      "\n",
      "             7  \n",
      "0     0.994688  \n",
      "1    -0.509508  \n",
      "2    -0.430340  \n",
      "3    -1.301190  \n",
      "4    -0.351171  \n",
      "...        ...  \n",
      "2299  1.311361  \n",
      "2300 -0.351171  \n",
      "2301 -0.351171  \n",
      "2302 -0.351171  \n",
      "2303 -0.509508  \n",
      "\n",
      "[2304 rows x 8 columns]\n"
     ]
    },
    {
     "data": {
      "text/html": [
       "<div>\n",
       "<style scoped>\n",
       "    .dataframe tbody tr th:only-of-type {\n",
       "        vertical-align: middle;\n",
       "    }\n",
       "\n",
       "    .dataframe tbody tr th {\n",
       "        vertical-align: top;\n",
       "    }\n",
       "\n",
       "    .dataframe thead th {\n",
       "        text-align: right;\n",
       "    }\n",
       "</style>\n",
       "<table border=\"1\" class=\"dataframe\">\n",
       "  <thead>\n",
       "    <tr style=\"text-align: right;\">\n",
       "      <th></th>\n",
       "      <th>0</th>\n",
       "      <th>1</th>\n",
       "      <th>2</th>\n",
       "      <th>3</th>\n",
       "      <th>4</th>\n",
       "      <th>5</th>\n",
       "      <th>6</th>\n",
       "      <th>7</th>\n",
       "    </tr>\n",
       "  </thead>\n",
       "  <tbody>\n",
       "    <tr>\n",
       "      <th>0</th>\n",
       "      <td>0.389905</td>\n",
       "      <td>0.437174</td>\n",
       "      <td>0.242876</td>\n",
       "      <td>1.086957</td>\n",
       "      <td>-0.536778</td>\n",
       "      <td>0.399546</td>\n",
       "      <td>0.198921</td>\n",
       "      <td>0.994688</td>\n",
       "    </tr>\n",
       "    <tr>\n",
       "      <th>1</th>\n",
       "      <td>-1.047441</td>\n",
       "      <td>-1.285133</td>\n",
       "      <td>-0.051566</td>\n",
       "      <td>0.716144</td>\n",
       "      <td>-0.536778</td>\n",
       "      <td>-0.392591</td>\n",
       "      <td>-0.339826</td>\n",
       "      <td>-0.509508</td>\n",
       "    </tr>\n",
       "  </tbody>\n",
       "</table>\n",
       "</div>"
      ],
      "text/plain": [
       "          0         1         2         3         4         5         6  \\\n",
       "0  0.389905  0.437174  0.242876  1.086957 -0.536778  0.399546  0.198921   \n",
       "1 -1.047441 -1.285133 -0.051566  0.716144 -0.536778 -0.392591 -0.339826   \n",
       "\n",
       "          7  \n",
       "0  0.994688  \n",
       "1 -0.509508  "
      ]
     },
     "execution_count": 51,
     "metadata": {},
     "output_type": "execute_result"
    }
   ],
   "source": [
    "# Scaling the data\n",
    "scaler = preprocessing.StandardScaler().fit(X_uniform)\n",
    "X_stest_u = pd.DataFrame(scaler.transform(X_uniform))\n",
    "#X_con_sc.columns = [\"Age\",\"Fare\"]\n",
    "print(X_stest_u)\n",
    "X_stest_u.head(2)"
   ]
  },
  {
   "cell_type": "code",
   "execution_count": 52,
   "metadata": {},
   "outputs": [
    {
     "name": "stdout",
     "output_type": "stream",
     "text": [
      "(1382, 8) (922, 8) (1382, 1) (922, 1)\n"
     ]
    }
   ],
   "source": [
    "# Train- Test Split\n",
    "(X_train_u, X_test_u, Y_train_u, Y_test_u) = train_test_split(X_stest_u, Y_uniform, test_size=0.40, random_state=1)\n",
    "print(X_train_u.shape,X_test_u.shape,Y_train_u.shape,Y_test_u.shape)"
   ]
  },
  {
   "cell_type": "code",
   "execution_count": 53,
   "metadata": {},
   "outputs": [
    {
     "name": "stdout",
     "output_type": "stream",
     "text": [
      "(461, 8) (461, 8) (461, 1) (461, 1)\n"
     ]
    }
   ],
   "source": [
    "(X_Valid_u, X_Test_u, Y_Valid_u, Y_Test_u) = train_test_split(X_test_u, Y_test_u, test_size=0.50, random_state=1)\n",
    "print(X_Valid_u.shape,X_Test_u.shape,Y_Valid_u.shape,Y_Test_u.shape)"
   ]
  },
  {
   "cell_type": "code",
   "execution_count": 54,
   "metadata": {},
   "outputs": [],
   "source": [
    "# Build the deep neural network\n",
    "model_uni = Sequential()\n",
    "model_uni.add(Dense(10, input_dim=8, kernel_initializer='glorot_uniform', activation='relu'))\n",
    "model_uni.add(Dense(7, kernel_initializer='glorot_uniform', activation='relu'))\n",
    "model_uni.add(Dense(1, kernel_initializer='glorot_uniform', activation='sigmoid'))"
   ]
  },
  {
   "cell_type": "code",
   "execution_count": 55,
   "metadata": {},
   "outputs": [],
   "source": [
    "# Compile the DNN\n",
    "\n",
    "model_uni.compile(loss='binary_crossentropy', optimizer='adam', metrics=['accuracy'])"
   ]
  },
  {
   "cell_type": "code",
   "execution_count": 57,
   "metadata": {},
   "outputs": [
    {
     "name": "stdout",
     "output_type": "stream",
     "text": [
      "Epoch 1/150\n",
      "277/277 [==============================] - 1s 2ms/step - loss: 0.7052 - accuracy: 0.5041 - val_loss: 0.6864 - val_accuracy: 0.5748\n",
      "Epoch 2/150\n",
      "277/277 [==============================] - 0s 1ms/step - loss: 0.6854 - accuracy: 0.5607 - val_loss: 0.6786 - val_accuracy: 0.6009\n",
      "Epoch 3/150\n",
      "277/277 [==============================] - 0s 1ms/step - loss: 0.6767 - accuracy: 0.5934 - val_loss: 0.6751 - val_accuracy: 0.6052\n",
      "Epoch 4/150\n",
      "277/277 [==============================] - 0s 1ms/step - loss: 0.6645 - accuracy: 0.6228 - val_loss: 0.6732 - val_accuracy: 0.6030\n",
      "Epoch 5/150\n",
      "277/277 [==============================] - 0s 1ms/step - loss: 0.6625 - accuracy: 0.6413 - val_loss: 0.6695 - val_accuracy: 0.5944\n",
      "Epoch 6/150\n",
      "277/277 [==============================] - ETA: 0s - loss: 0.6568 - accuracy: 0.64 - 0s 1ms/step - loss: 0.6570 - accuracy: 0.6456 - val_loss: 0.6665 - val_accuracy: 0.5900\n",
      "Epoch 7/150\n",
      "277/277 [==============================] - 0s 1ms/step - loss: 0.6521 - accuracy: 0.6230 - val_loss: 0.6631 - val_accuracy: 0.6030\n",
      "Epoch 8/150\n",
      "277/277 [==============================] - 0s 1ms/step - loss: 0.6540 - accuracy: 0.6086 - val_loss: 0.6583 - val_accuracy: 0.6074\n",
      "Epoch 9/150\n",
      "277/277 [==============================] - 0s 1ms/step - loss: 0.6498 - accuracy: 0.6317 - val_loss: 0.6541 - val_accuracy: 0.6074\n",
      "Epoch 10/150\n",
      "277/277 [==============================] - 0s 1ms/step - loss: 0.6346 - accuracy: 0.6394 - val_loss: 0.6527 - val_accuracy: 0.6030\n",
      "Epoch 11/150\n",
      "277/277 [==============================] - 0s 1ms/step - loss: 0.6439 - accuracy: 0.6177 - val_loss: 0.6492 - val_accuracy: 0.5987\n",
      "Epoch 12/150\n",
      "277/277 [==============================] - 0s 1ms/step - loss: 0.6442 - accuracy: 0.6304 - val_loss: 0.6482 - val_accuracy: 0.5987\n",
      "Epoch 13/150\n",
      "277/277 [==============================] - 0s 1ms/step - loss: 0.6328 - accuracy: 0.6424 - val_loss: 0.6482 - val_accuracy: 0.5987\n",
      "Epoch 14/150\n",
      "277/277 [==============================] - 0s 1ms/step - loss: 0.6342 - accuracy: 0.6383 - val_loss: 0.6484 - val_accuracy: 0.6009\n",
      "Epoch 15/150\n",
      "277/277 [==============================] - 0s 1ms/step - loss: 0.6396 - accuracy: 0.6159 - val_loss: 0.6482 - val_accuracy: 0.6030\n",
      "Epoch 16/150\n",
      "277/277 [==============================] - 0s 1ms/step - loss: 0.6299 - accuracy: 0.6200 - val_loss: 0.6470 - val_accuracy: 0.6030\n",
      "Epoch 17/150\n",
      "277/277 [==============================] - 0s 1ms/step - loss: 0.6292 - accuracy: 0.6324 - val_loss: 0.6480 - val_accuracy: 0.5965\n",
      "Epoch 18/150\n",
      "277/277 [==============================] - 0s 1ms/step - loss: 0.6310 - accuracy: 0.6427 - val_loss: 0.6493 - val_accuracy: 0.6052\n",
      "Epoch 19/150\n",
      "277/277 [==============================] - 0s 1ms/step - loss: 0.6336 - accuracy: 0.6422 - val_loss: 0.6495 - val_accuracy: 0.6095\n",
      "Epoch 20/150\n",
      "277/277 [==============================] - 0s 1ms/step - loss: 0.6292 - accuracy: 0.6135 - val_loss: 0.6496 - val_accuracy: 0.6139\n",
      "Epoch 21/150\n",
      "277/277 [==============================] - 0s 1ms/step - loss: 0.6354 - accuracy: 0.6441 - val_loss: 0.6508 - val_accuracy: 0.6161\n",
      "Epoch 22/150\n",
      "277/277 [==============================] - 0s 1ms/step - loss: 0.6295 - accuracy: 0.6194 - val_loss: 0.6496 - val_accuracy: 0.6052\n",
      "Epoch 23/150\n",
      "277/277 [==============================] - 0s 1ms/step - loss: 0.6239 - accuracy: 0.6473 - val_loss: 0.6517 - val_accuracy: 0.6161\n",
      "Epoch 24/150\n",
      "277/277 [==============================] - 0s 1ms/step - loss: 0.6381 - accuracy: 0.6021 - val_loss: 0.6504 - val_accuracy: 0.6074\n",
      "Epoch 25/150\n",
      "277/277 [==============================] - 0s 1ms/step - loss: 0.6210 - accuracy: 0.6489 - val_loss: 0.6507 - val_accuracy: 0.6052\n",
      "Epoch 26/150\n",
      "277/277 [==============================] - 0s 1ms/step - loss: 0.6245 - accuracy: 0.6472 - val_loss: 0.6527 - val_accuracy: 0.6117\n",
      "Epoch 27/150\n",
      "277/277 [==============================] - 0s 1ms/step - loss: 0.6179 - accuracy: 0.6503 - val_loss: 0.6515 - val_accuracy: 0.6095\n",
      "Epoch 28/150\n",
      "277/277 [==============================] - 0s 1ms/step - loss: 0.6247 - accuracy: 0.6438 - val_loss: 0.6528 - val_accuracy: 0.6117\n",
      "Epoch 29/150\n",
      "277/277 [==============================] - 0s 1ms/step - loss: 0.6181 - accuracy: 0.6642 - val_loss: 0.6527 - val_accuracy: 0.6204\n",
      "Epoch 30/150\n",
      "277/277 [==============================] - 0s 1ms/step - loss: 0.6224 - accuracy: 0.6337 - val_loss: 0.6557 - val_accuracy: 0.6226\n",
      "Epoch 31/150\n",
      "277/277 [==============================] - 0s 1ms/step - loss: 0.6094 - accuracy: 0.6564 - val_loss: 0.6528 - val_accuracy: 0.6095\n",
      "Epoch 32/150\n",
      "277/277 [==============================] - 0s 1ms/step - loss: 0.6108 - accuracy: 0.6729 - val_loss: 0.6547 - val_accuracy: 0.6204\n",
      "Epoch 33/150\n",
      "277/277 [==============================] - 0s 1ms/step - loss: 0.6157 - accuracy: 0.6483 - val_loss: 0.6549 - val_accuracy: 0.6204\n",
      "Epoch 34/150\n",
      "277/277 [==============================] - 0s 1ms/step - loss: 0.6048 - accuracy: 0.6580 - val_loss: 0.6561 - val_accuracy: 0.6204\n",
      "Epoch 35/150\n",
      "277/277 [==============================] - 0s 1ms/step - loss: 0.6228 - accuracy: 0.6545 - val_loss: 0.6542 - val_accuracy: 0.6204\n",
      "Epoch 36/150\n",
      "277/277 [==============================] - 0s 1ms/step - loss: 0.6085 - accuracy: 0.6423 - val_loss: 0.6554 - val_accuracy: 0.6074\n",
      "Epoch 37/150\n",
      "277/277 [==============================] - 0s 1ms/step - loss: 0.6183 - accuracy: 0.6649 - val_loss: 0.6559 - val_accuracy: 0.6095\n",
      "Epoch 38/150\n",
      "277/277 [==============================] - 0s 1ms/step - loss: 0.6054 - accuracy: 0.6545 - val_loss: 0.6564 - val_accuracy: 0.6139\n",
      "Epoch 39/150\n",
      "277/277 [==============================] - 0s 1ms/step - loss: 0.6029 - accuracy: 0.6542 - val_loss: 0.6564 - val_accuracy: 0.6095\n",
      "Epoch 40/150\n",
      "277/277 [==============================] - 0s 1ms/step - loss: 0.6028 - accuracy: 0.6665 - val_loss: 0.6562 - val_accuracy: 0.6117\n",
      "Epoch 41/150\n",
      "277/277 [==============================] - 0s 1ms/step - loss: 0.6026 - accuracy: 0.6573 - val_loss: 0.6576 - val_accuracy: 0.6182\n",
      "Epoch 42/150\n",
      "277/277 [==============================] - 0s 1ms/step - loss: 0.6011 - accuracy: 0.6703 - val_loss: 0.6581 - val_accuracy: 0.5987\n",
      "Epoch 43/150\n",
      "277/277 [==============================] - 0s 1ms/step - loss: 0.5973 - accuracy: 0.6715 - val_loss: 0.6594 - val_accuracy: 0.6095\n",
      "Epoch 44/150\n",
      "277/277 [==============================] - 0s 1ms/step - loss: 0.5970 - accuracy: 0.6789 - val_loss: 0.6607 - val_accuracy: 0.6117\n",
      "Epoch 45/150\n",
      "277/277 [==============================] - 0s 1ms/step - loss: 0.6016 - accuracy: 0.6689 - val_loss: 0.6620 - val_accuracy: 0.6117\n",
      "Epoch 46/150\n",
      "277/277 [==============================] - 0s 1ms/step - loss: 0.6071 - accuracy: 0.6737 - val_loss: 0.6636 - val_accuracy: 0.6030\n",
      "Epoch 47/150\n",
      "277/277 [==============================] - 0s 1ms/step - loss: 0.5980 - accuracy: 0.6619 - val_loss: 0.6641 - val_accuracy: 0.6139\n",
      "Epoch 48/150\n",
      "277/277 [==============================] - 0s 1ms/step - loss: 0.5997 - accuracy: 0.6821 - val_loss: 0.6638 - val_accuracy: 0.6074\n",
      "Epoch 49/150\n",
      "277/277 [==============================] - 0s 1ms/step - loss: 0.6084 - accuracy: 0.6633 - val_loss: 0.6636 - val_accuracy: 0.6052\n",
      "Epoch 50/150\n",
      "277/277 [==============================] - 0s 1ms/step - loss: 0.5806 - accuracy: 0.6879 - val_loss: 0.6652 - val_accuracy: 0.5922\n",
      "Epoch 51/150\n",
      "277/277 [==============================] - 0s 1ms/step - loss: 0.6106 - accuracy: 0.6623 - val_loss: 0.6661 - val_accuracy: 0.5965\n",
      "Epoch 52/150\n",
      "277/277 [==============================] - 0s 1ms/step - loss: 0.5943 - accuracy: 0.6722 - val_loss: 0.6664 - val_accuracy: 0.6095\n",
      "Epoch 53/150\n",
      "277/277 [==============================] - 0s 1ms/step - loss: 0.5921 - accuracy: 0.6746 - val_loss: 0.6662 - val_accuracy: 0.5835\n",
      "Epoch 54/150\n",
      "277/277 [==============================] - 0s 1ms/step - loss: 0.5947 - accuracy: 0.6757 - val_loss: 0.6662 - val_accuracy: 0.6009\n",
      "Epoch 55/150\n",
      "277/277 [==============================] - 0s 1ms/step - loss: 0.6043 - accuracy: 0.6586 - val_loss: 0.6679 - val_accuracy: 0.5987\n",
      "Epoch 56/150\n",
      "277/277 [==============================] - 0s 1ms/step - loss: 0.5882 - accuracy: 0.6824 - val_loss: 0.6701 - val_accuracy: 0.5900\n",
      "Epoch 57/150\n",
      "277/277 [==============================] - 0s 1ms/step - loss: 0.5903 - accuracy: 0.6951 - val_loss: 0.6720 - val_accuracy: 0.5857\n",
      "Epoch 58/150\n",
      "277/277 [==============================] - 0s 1ms/step - loss: 0.5943 - accuracy: 0.6703 - val_loss: 0.6722 - val_accuracy: 0.6117\n",
      "Epoch 59/150\n",
      "277/277 [==============================] - 0s 1ms/step - loss: 0.5967 - accuracy: 0.6878 - val_loss: 0.6704 - val_accuracy: 0.6009\n",
      "Epoch 60/150\n",
      "277/277 [==============================] - 0s 1ms/step - loss: 0.5943 - accuracy: 0.6864 - val_loss: 0.6705 - val_accuracy: 0.5900\n",
      "Epoch 61/150\n",
      "277/277 [==============================] - 0s 1ms/step - loss: 0.5970 - accuracy: 0.6793 - val_loss: 0.6726 - val_accuracy: 0.5922\n",
      "Epoch 62/150\n",
      "277/277 [==============================] - 0s 1ms/step - loss: 0.5887 - accuracy: 0.6943 - val_loss: 0.6710 - val_accuracy: 0.6030\n",
      "Epoch 63/150\n",
      "277/277 [==============================] - 0s 1ms/step - loss: 0.5805 - accuracy: 0.6955 - val_loss: 0.6715 - val_accuracy: 0.5944\n",
      "Epoch 64/150\n",
      "277/277 [==============================] - 0s 1ms/step - loss: 0.5891 - accuracy: 0.6784 - val_loss: 0.6728 - val_accuracy: 0.5944\n",
      "Epoch 65/150\n",
      "277/277 [==============================] - 0s 1ms/step - loss: 0.5879 - accuracy: 0.6975 - val_loss: 0.6737 - val_accuracy: 0.5965\n",
      "Epoch 66/150\n",
      "277/277 [==============================] - 0s 1ms/step - loss: 0.5802 - accuracy: 0.7068 - val_loss: 0.6759 - val_accuracy: 0.5987\n",
      "Epoch 67/150\n",
      "277/277 [==============================] - 0s 1ms/step - loss: 0.5902 - accuracy: 0.6772 - val_loss: 0.6768 - val_accuracy: 0.5813\n",
      "Epoch 68/150\n",
      "277/277 [==============================] - 0s 1ms/step - loss: 0.5873 - accuracy: 0.6723 - val_loss: 0.6766 - val_accuracy: 0.5835\n",
      "Epoch 69/150\n",
      "277/277 [==============================] - 0s 1ms/step - loss: 0.5958 - accuracy: 0.6818 - val_loss: 0.6749 - val_accuracy: 0.5922\n",
      "Epoch 70/150\n",
      "277/277 [==============================] - 0s 1ms/step - loss: 0.5857 - accuracy: 0.6828 - val_loss: 0.6774 - val_accuracy: 0.5705\n",
      "Epoch 71/150\n",
      "277/277 [==============================] - 0s 1ms/step - loss: 0.5853 - accuracy: 0.7054 - val_loss: 0.6773 - val_accuracy: 0.5879\n",
      "Epoch 72/150\n",
      "277/277 [==============================] - 0s 1ms/step - loss: 0.5863 - accuracy: 0.7085 - val_loss: 0.6802 - val_accuracy: 0.5965\n",
      "Epoch 73/150\n",
      "277/277 [==============================] - 0s 1ms/step - loss: 0.5906 - accuracy: 0.6922 - val_loss: 0.6802 - val_accuracy: 0.5792\n",
      "Epoch 74/150\n",
      "277/277 [==============================] - 0s 1ms/step - loss: 0.5943 - accuracy: 0.6847 - val_loss: 0.6799 - val_accuracy: 0.5835\n",
      "Epoch 75/150\n",
      "277/277 [==============================] - 0s 1ms/step - loss: 0.5998 - accuracy: 0.6745 - val_loss: 0.6802 - val_accuracy: 0.5813\n",
      "Epoch 76/150\n",
      "277/277 [==============================] - 0s 1ms/step - loss: 0.5852 - accuracy: 0.6772 - val_loss: 0.6795 - val_accuracy: 0.5922\n",
      "Epoch 77/150\n",
      "277/277 [==============================] - 0s 1ms/step - loss: 0.5856 - accuracy: 0.7016 - val_loss: 0.6799 - val_accuracy: 0.5900\n",
      "Epoch 78/150\n",
      "277/277 [==============================] - 0s 1ms/step - loss: 0.5882 - accuracy: 0.6801 - val_loss: 0.6803 - val_accuracy: 0.5770\n",
      "Epoch 79/150\n",
      "277/277 [==============================] - 0s 1ms/step - loss: 0.5878 - accuracy: 0.6829 - val_loss: 0.6814 - val_accuracy: 0.5879\n",
      "Epoch 80/150\n",
      "277/277 [==============================] - 0s 1ms/step - loss: 0.5896 - accuracy: 0.6873 - val_loss: 0.6839 - val_accuracy: 0.5770\n",
      "Epoch 81/150\n",
      "277/277 [==============================] - 0s 1ms/step - loss: 0.5894 - accuracy: 0.6928 - val_loss: 0.6833 - val_accuracy: 0.5770\n",
      "Epoch 82/150\n",
      "277/277 [==============================] - 0s 1ms/step - loss: 0.5689 - accuracy: 0.6977 - val_loss: 0.6836 - val_accuracy: 0.5857\n",
      "Epoch 83/150\n",
      "277/277 [==============================] - 0s 1ms/step - loss: 0.5935 - accuracy: 0.6742 - val_loss: 0.6848 - val_accuracy: 0.5748\n",
      "Epoch 84/150\n",
      "277/277 [==============================] - 0s 1ms/step - loss: 0.5841 - accuracy: 0.6893 - val_loss: 0.6865 - val_accuracy: 0.5770\n",
      "Epoch 85/150\n",
      "277/277 [==============================] - 0s 1ms/step - loss: 0.5898 - accuracy: 0.6834 - val_loss: 0.6843 - val_accuracy: 0.5813\n",
      "Epoch 86/150\n",
      "277/277 [==============================] - 0s 1ms/step - loss: 0.5771 - accuracy: 0.7069 - val_loss: 0.6868 - val_accuracy: 0.5813\n",
      "Epoch 87/150\n",
      "277/277 [==============================] - 0s 1ms/step - loss: 0.5958 - accuracy: 0.6776 - val_loss: 0.6841 - val_accuracy: 0.5835\n",
      "Epoch 88/150\n",
      "277/277 [==============================] - 0s 1ms/step - loss: 0.5744 - accuracy: 0.7011 - val_loss: 0.6837 - val_accuracy: 0.5900\n",
      "Epoch 89/150\n",
      "277/277 [==============================] - 0s 1ms/step - loss: 0.6049 - accuracy: 0.6584 - val_loss: 0.6833 - val_accuracy: 0.5727\n",
      "Epoch 90/150\n",
      "277/277 [==============================] - 0s 1ms/step - loss: 0.5873 - accuracy: 0.6854 - val_loss: 0.6858 - val_accuracy: 0.5813\n",
      "Epoch 91/150\n",
      "277/277 [==============================] - 0s 1ms/step - loss: 0.5703 - accuracy: 0.6913 - val_loss: 0.6853 - val_accuracy: 0.5879\n",
      "Epoch 92/150\n",
      "277/277 [==============================] - 0s 1ms/step - loss: 0.5650 - accuracy: 0.7175 - val_loss: 0.6851 - val_accuracy: 0.5857\n",
      "Epoch 93/150\n",
      "277/277 [==============================] - 0s 1ms/step - loss: 0.6010 - accuracy: 0.6655 - val_loss: 0.6860 - val_accuracy: 0.5879\n",
      "Epoch 94/150\n",
      "277/277 [==============================] - 0s 1ms/step - loss: 0.5985 - accuracy: 0.6712 - val_loss: 0.6868 - val_accuracy: 0.5944\n",
      "Epoch 95/150\n",
      "277/277 [==============================] - 0s 1ms/step - loss: 0.5824 - accuracy: 0.6988 - val_loss: 0.6872 - val_accuracy: 0.5922\n",
      "Epoch 96/150\n",
      "277/277 [==============================] - 0s 1ms/step - loss: 0.5857 - accuracy: 0.6961 - val_loss: 0.6852 - val_accuracy: 0.5770\n",
      "Epoch 97/150\n",
      "277/277 [==============================] - 0s 1ms/step - loss: 0.5794 - accuracy: 0.7062 - val_loss: 0.6875 - val_accuracy: 0.5987\n",
      "Epoch 98/150\n",
      "277/277 [==============================] - 0s 1ms/step - loss: 0.5811 - accuracy: 0.6906 - val_loss: 0.6869 - val_accuracy: 0.5879\n",
      "Epoch 99/150\n",
      "277/277 [==============================] - 0s 1ms/step - loss: 0.5634 - accuracy: 0.7139 - val_loss: 0.6856 - val_accuracy: 0.5879\n",
      "Epoch 100/150\n",
      "277/277 [==============================] - 0s 1ms/step - loss: 0.5844 - accuracy: 0.6888 - val_loss: 0.6874 - val_accuracy: 0.5922\n",
      "Epoch 101/150\n",
      "277/277 [==============================] - 0s 1ms/step - loss: 0.5780 - accuracy: 0.6930 - val_loss: 0.6881 - val_accuracy: 0.5987\n",
      "Epoch 102/150\n",
      "277/277 [==============================] - 0s 1ms/step - loss: 0.5837 - accuracy: 0.6958 - val_loss: 0.6899 - val_accuracy: 0.5965\n",
      "Epoch 103/150\n",
      "277/277 [==============================] - 0s 1ms/step - loss: 0.5809 - accuracy: 0.7013 - val_loss: 0.6891 - val_accuracy: 0.5944\n",
      "Epoch 104/150\n",
      "277/277 [==============================] - 0s 1ms/step - loss: 0.5737 - accuracy: 0.7071 - val_loss: 0.6890 - val_accuracy: 0.5987\n",
      "Epoch 105/150\n",
      "277/277 [==============================] - 0s 1ms/step - loss: 0.5751 - accuracy: 0.7121 - val_loss: 0.6894 - val_accuracy: 0.5922\n",
      "Epoch 106/150\n",
      "277/277 [==============================] - 0s 1ms/step - loss: 0.5784 - accuracy: 0.7007 - val_loss: 0.6879 - val_accuracy: 0.5965\n",
      "Epoch 107/150\n",
      "277/277 [==============================] - 0s 1ms/step - loss: 0.5831 - accuracy: 0.6967 - val_loss: 0.6907 - val_accuracy: 0.5857\n",
      "Epoch 108/150\n",
      "277/277 [==============================] - 0s 1ms/step - loss: 0.5954 - accuracy: 0.6707 - val_loss: 0.6938 - val_accuracy: 0.5922\n",
      "Epoch 109/150\n",
      "277/277 [==============================] - 0s 1ms/step - loss: 0.5835 - accuracy: 0.6870 - val_loss: 0.6885 - val_accuracy: 0.5987\n",
      "Epoch 110/150\n",
      "277/277 [==============================] - 0s 1ms/step - loss: 0.5719 - accuracy: 0.6950 - val_loss: 0.6885 - val_accuracy: 0.5987\n",
      "Epoch 111/150\n",
      "277/277 [==============================] - 0s 1ms/step - loss: 0.5658 - accuracy: 0.7151 - val_loss: 0.6884 - val_accuracy: 0.6030\n",
      "Epoch 112/150\n",
      "277/277 [==============================] - 0s 1ms/step - loss: 0.5730 - accuracy: 0.6895 - val_loss: 0.6923 - val_accuracy: 0.5987\n",
      "Epoch 113/150\n",
      "277/277 [==============================] - 0s 1ms/step - loss: 0.5693 - accuracy: 0.7002 - val_loss: 0.6914 - val_accuracy: 0.5922\n"
     ]
    },
    {
     "name": "stdout",
     "output_type": "stream",
     "text": [
      "Epoch 114/150\n",
      "277/277 [==============================] - 0s 1ms/step - loss: 0.5645 - accuracy: 0.7173 - val_loss: 0.6964 - val_accuracy: 0.5987\n",
      "Epoch 115/150\n",
      "277/277 [==============================] - 0s 1ms/step - loss: 0.5860 - accuracy: 0.6961 - val_loss: 0.6908 - val_accuracy: 0.5965\n",
      "Epoch 116/150\n",
      "277/277 [==============================] - 0s 1ms/step - loss: 0.5782 - accuracy: 0.6998 - val_loss: 0.6895 - val_accuracy: 0.5965\n",
      "Epoch 117/150\n",
      "277/277 [==============================] - 0s 1ms/step - loss: 0.5743 - accuracy: 0.6964 - val_loss: 0.6904 - val_accuracy: 0.5965\n",
      "Epoch 118/150\n",
      "277/277 [==============================] - 0s 1ms/step - loss: 0.5615 - accuracy: 0.7258 - val_loss: 0.6927 - val_accuracy: 0.5879\n",
      "Epoch 119/150\n",
      "277/277 [==============================] - 0s 1ms/step - loss: 0.5710 - accuracy: 0.6839 - val_loss: 0.6950 - val_accuracy: 0.5857\n",
      "Epoch 120/150\n",
      "277/277 [==============================] - 0s 1ms/step - loss: 0.5670 - accuracy: 0.7075 - val_loss: 0.6935 - val_accuracy: 0.5987\n",
      "Epoch 121/150\n",
      "277/277 [==============================] - 0s 1ms/step - loss: 0.5687 - accuracy: 0.6932 - val_loss: 0.6945 - val_accuracy: 0.5813\n",
      "Epoch 122/150\n",
      "277/277 [==============================] - 0s 1ms/step - loss: 0.5742 - accuracy: 0.6919 - val_loss: 0.6931 - val_accuracy: 0.5922\n",
      "Epoch 123/150\n",
      "277/277 [==============================] - 0s 1ms/step - loss: 0.5647 - accuracy: 0.7071 - val_loss: 0.6945 - val_accuracy: 0.6030\n",
      "Epoch 124/150\n",
      "277/277 [==============================] - 0s 1ms/step - loss: 0.5736 - accuracy: 0.7091 - val_loss: 0.6937 - val_accuracy: 0.6052\n",
      "Epoch 125/150\n",
      "277/277 [==============================] - 0s 1ms/step - loss: 0.5597 - accuracy: 0.7250 - val_loss: 0.6934 - val_accuracy: 0.5922\n",
      "Epoch 126/150\n",
      "277/277 [==============================] - 0s 1ms/step - loss: 0.5838 - accuracy: 0.6892 - val_loss: 0.6969 - val_accuracy: 0.6009\n",
      "Epoch 127/150\n",
      "277/277 [==============================] - 0s 1ms/step - loss: 0.5846 - accuracy: 0.6804 - val_loss: 0.6964 - val_accuracy: 0.5965\n",
      "Epoch 128/150\n",
      "277/277 [==============================] - 0s 1ms/step - loss: 0.5537 - accuracy: 0.7271 - val_loss: 0.6942 - val_accuracy: 0.5987\n",
      "Epoch 129/150\n",
      "277/277 [==============================] - 0s 1ms/step - loss: 0.5829 - accuracy: 0.6952 - val_loss: 0.6946 - val_accuracy: 0.5965\n",
      "Epoch 130/150\n",
      "277/277 [==============================] - 0s 1ms/step - loss: 0.5733 - accuracy: 0.6915 - val_loss: 0.6944 - val_accuracy: 0.6052\n",
      "Epoch 131/150\n",
      "277/277 [==============================] - 0s 1ms/step - loss: 0.5566 - accuracy: 0.7094 - val_loss: 0.6974 - val_accuracy: 0.5900\n",
      "Epoch 132/150\n",
      "277/277 [==============================] - 0s 1ms/step - loss: 0.5731 - accuracy: 0.7005 - val_loss: 0.6924 - val_accuracy: 0.6009\n",
      "Epoch 133/150\n",
      "277/277 [==============================] - 1s 2ms/step - loss: 0.5913 - accuracy: 0.6944 - val_loss: 0.6949 - val_accuracy: 0.6074\n",
      "Epoch 134/150\n",
      "277/277 [==============================] - 1s 3ms/step - loss: 0.6105 - accuracy: 0.6692 - val_loss: 0.6990 - val_accuracy: 0.6074\n",
      "Epoch 135/150\n",
      "277/277 [==============================] - 1s 2ms/step - loss: 0.5963 - accuracy: 0.6789 - val_loss: 0.6946 - val_accuracy: 0.6009\n",
      "Epoch 136/150\n",
      "277/277 [==============================] - 1s 2ms/step - loss: 0.5877 - accuracy: 0.6821 - val_loss: 0.6972 - val_accuracy: 0.5965\n",
      "Epoch 137/150\n",
      "277/277 [==============================] - 1s 2ms/step - loss: 0.5657 - accuracy: 0.6995 - val_loss: 0.6996 - val_accuracy: 0.5813\n",
      "Epoch 138/150\n",
      "277/277 [==============================] - 1s 2ms/step - loss: 0.5612 - accuracy: 0.7142 - val_loss: 0.6999 - val_accuracy: 0.6009\n",
      "Epoch 139/150\n",
      "277/277 [==============================] - 1s 3ms/step - loss: 0.5805 - accuracy: 0.6894 - val_loss: 0.6981 - val_accuracy: 0.6030\n",
      "Epoch 140/150\n",
      "277/277 [==============================] - 1s 2ms/step - loss: 0.5581 - accuracy: 0.7099 - val_loss: 0.6983 - val_accuracy: 0.5922\n",
      "Epoch 141/150\n",
      "277/277 [==============================] - 1s 2ms/step - loss: 0.5742 - accuracy: 0.7111 - val_loss: 0.6989 - val_accuracy: 0.5965\n",
      "Epoch 142/150\n",
      "277/277 [==============================] - 1s 2ms/step - loss: 0.5490 - accuracy: 0.7358 - val_loss: 0.6960 - val_accuracy: 0.5944\n",
      "Epoch 143/150\n",
      "277/277 [==============================] - 0s 1ms/step - loss: 0.5601 - accuracy: 0.7163 - val_loss: 0.6965 - val_accuracy: 0.5879\n",
      "Epoch 144/150\n",
      "277/277 [==============================] - 0s 1ms/step - loss: 0.5439 - accuracy: 0.7270 - val_loss: 0.6970 - val_accuracy: 0.5879\n",
      "Epoch 145/150\n",
      "277/277 [==============================] - 0s 1ms/step - loss: 0.5612 - accuracy: 0.7296 - val_loss: 0.6932 - val_accuracy: 0.5944\n",
      "Epoch 146/150\n",
      "277/277 [==============================] - 0s 1ms/step - loss: 0.5644 - accuracy: 0.6923 - val_loss: 0.6967 - val_accuracy: 0.5922\n",
      "Epoch 147/150\n",
      "277/277 [==============================] - 0s 1ms/step - loss: 0.5637 - accuracy: 0.7159 - val_loss: 0.6982 - val_accuracy: 0.5944\n",
      "Epoch 148/150\n",
      "277/277 [==============================] - 0s 1ms/step - loss: 0.5731 - accuracy: 0.6848 - val_loss: 0.6997 - val_accuracy: 0.5857\n",
      "Epoch 149/150\n",
      "277/277 [==============================] - 0s 1ms/step - loss: 0.5577 - accuracy: 0.7201 - val_loss: 0.7034 - val_accuracy: 0.5944\n",
      "Epoch 150/150\n",
      "277/277 [==============================] - 0s 1ms/step - loss: 0.5421 - accuracy: 0.7207 - val_loss: 0.7001 - val_accuracy: 0.5922\n"
     ]
    }
   ],
   "source": [
    "# Fit the DNN with your train data\n",
    "\n",
    "DNN_model_uni= model_uni.fit(X_train_u, Y_train_u, validation_data=(X_Valid_u, Y_Valid_u), epochs=150, batch_size=5)"
   ]
  },
  {
   "cell_type": "code",
   "execution_count": 58,
   "metadata": {},
   "outputs": [
    {
     "data": {
      "image/png": "[encoded data removed]",
      "text/plain": [
       "<Figure size 432x288 with 1 Axes>"
      ]
     },
     "metadata": {
      "needs_background": "light"
     },
     "output_type": "display_data"
    }
   ],
   "source": [
    "#EPOCH VS LOSS\n",
    "\n",
    "import matplotlib.pyplot as plt\n",
    "\n",
    "train_loss = DNN_model_uni.history['loss']\n",
    "test_loss = DNN_model_uni.history['val_loss']\n",
    "\n",
    "epoch_counter = range(1, len(train_loss)+1)\n",
    "\n",
    "plt.plot(epoch_counter,train_loss,'r--')\n",
    "plt.plot(epoch_counter,test_loss,'b-')\n",
    "plt.legend(['train_loss','test_loss'])\n",
    "plt.xlabel('epoch')\n",
    "plt.ylabel('loss')\n",
    "plt.show();"
   ]
  },
  {
   "cell_type": "code",
   "execution_count": 60,
   "metadata": {},
   "outputs": [
    {
     "data": {
      "text/plain": [
       "<function matplotlib.pyplot.show(close=None, block=None)>"
      ]
     },
     "execution_count": 60,
     "metadata": {},
     "output_type": "execute_result"
    },
    {
     "data": {
      "image/png": "[encoded data removed]",
      "text/plain": [
       "<Figure size 432x288 with 1 Axes>"
      ]
     },
     "metadata": {
      "needs_background": "light"
     },
     "output_type": "display_data"
    }
   ],
   "source": [
    "#EPOCH VS ACCURACY\n",
    "import matplotlib.pyplot as plt\n",
    "\n",
    "train_loss = DNN_model_uni.history['accuracy']\n",
    "test_loss = DNN_model_uni.history['val_accuracy']\n",
    "\n",
    "epoch_counter = range(1, len(train_loss)+1)\n",
    "\n",
    "plt.plot(epoch_counter,train_loss,'r--')\n",
    "plt.plot(epoch_counter,test_loss,'b-')\n",
    "plt.legend(['Training_accuracy','val_accuracy'])\n",
    "plt.xlabel('epoch')\n",
    "plt.ylabel('Accuracy')\n",
    "plt.show"
   ]
  },
  {
   "cell_type": "code",
   "execution_count": 61,
   "metadata": {},
   "outputs": [
    {
     "name": "stdout",
     "output_type": "stream",
     "text": [
      "15/15 [==============================] - 0s 926us/step - loss: 0.7750 - accuracy: 0.5466\n",
      "Accuracy: 54.66%\n"
     ]
    }
   ],
   "source": [
    "# Evaluate the model\n",
    "scores = model_uni.evaluate(X_Test_u, Y_Test_u)\n",
    "print (\"Accuracy: %.2f%%\" %(scores[1]*100))"
   ]
  },
  {
   "cell_type": "markdown",
   "metadata": {},
   "source": [
    "# ROC_CURVE"
   ]
  },
  {
   "cell_type": "code",
   "execution_count": 62,
   "metadata": {},
   "outputs": [],
   "source": [
    "from sklearn.metrics import classification_report,roc_curve,roc_auc_score\n",
    "DNN_pred_uni = model_uni.predict(X_Test_u).ravel()\n",
    "rec, fall_out, thresholds = roc_curve(Y_Test_u,DNN_pred_uni)"
   ]
  },
  {
   "cell_type": "code",
   "execution_count": 63,
   "metadata": {},
   "outputs": [
    {
     "data": {
      "image/png": "[encoded data removed]",
      "text/plain": [
       "<Figure size 432x288 with 1 Axes>"
      ]
     },
     "metadata": {
      "needs_background": "light"
     },
     "output_type": "display_data"
    }
   ],
   "source": [
    "from sklearn.metrics import classification_report,roc_curve,roc_auc_score\n",
    "rec, fall_out, thresholds = roc_curve(Y_Test_u,DNN_pred_uni)\n",
    "plt.plot([0,1],[0,1],'k--')\n",
    "plt.plot(rec,fall_out, label='Knn')\n",
    "plt.xlabel('Output')\n",
    "plt.ylabel('Accuracy')\n",
    "plt.title('Deep Learning ROC curve')\n",
    "plt.show()"
   ]
  },
  {
   "cell_type": "code",
   "execution_count": 64,
   "metadata": {},
   "outputs": [
    {
     "data": {
      "text/plain": [
       "0.5655542986425339"
      ]
     },
     "execution_count": 64,
     "metadata": {},
     "output_type": "execute_result"
    }
   ],
   "source": [
    "#AUC Score\n",
    "roc_auc_score(Y_Test_u,DNN_pred_uni)"
   ]
  },
  {
   "cell_type": "code",
   "execution_count": null,
   "metadata": {},
   "outputs": [],
   "source": []
  }
 ],
 "metadata": {
  "kernelspec": {
   "display_name": "Python 3",
   "language": "python",
   "name": "python3"
  },
  "language_info": {
   "codemirror_mode": {
    "name": "ipython",
    "version": 3
   },
   "file_extension": ".py",
   "mimetype": "text/x-python",
   "name": "python",
   "nbconvert_exporter": "python",
   "pygments_lexer": "ipython3",
   "version": "3.8.8"
  }
 },
 "nbformat": 4,
 "nbformat_minor": 2
}
