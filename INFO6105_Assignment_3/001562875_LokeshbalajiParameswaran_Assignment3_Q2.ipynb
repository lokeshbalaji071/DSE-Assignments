{
 "cells": [
  {
   "cell_type": "code",
   "execution_count": null,
   "metadata": {},
   "outputs": [],
   "source": []
  },
  {
   "cell_type": "markdown",
   "metadata": {},
   "source": [
    "# Universal bank  Dataset\n",
    "\n",
    "Based on the personal information we can predict the personal loan sanction rate for every person.\n",
    "https://www.kaggle.com/sriharipramod/bank-loan-classification"
   ]
  },
  {
   "cell_type": "markdown",
   "metadata": {},
   "source": [
    "# Q2\n",
    "1) Train an RF Model"
   ]
  },
  {
   "cell_type": "code",
   "execution_count": 61,
   "metadata": {},
   "outputs": [],
   "source": [
    "import pandas as pd\n",
    "from sklearn.ensemble import RaBankndomForestClassifier\n",
    "from sklearn.metrics import accuracy_score,f1_score\n",
    "from pandas.api.types import is_string_dtype,is_numeric_dtype\n",
    "import seaborn as sns\n",
    "import matplotlib.pyplot as plt\n",
    "from sklearn.model_selection import train_test_split\n",
    "\n",
    "%matplotlib inline"
   ]
  },
  {
   "cell_type": "code",
   "execution_count": 62,
   "metadata": {},
   "outputs": [
    {
     "data": {
      "text/plain": [
       "<bound method NDFrame.head of         ID  Age  Experience  Income  ZIP Code  Family  CCAvg  Education  \\\n",
       "0        1   25           1      49     91107       4    1.6          1   \n",
       "1        2   45          19      34     90089       3    1.5          1   \n",
       "2        3   39          15      11     94720       1    1.0          1   \n",
       "3        4   35           9     100     94112       1    2.7          2   \n",
       "4        5   35           8      45     91330       4    1.0          2   \n",
       "...    ...  ...         ...     ...       ...     ...    ...        ...   \n",
       "4995  4996   29           3      40     92697       1    1.9          3   \n",
       "4996  4997   30           4      15     92037       4    0.4          1   \n",
       "4997  4998   63          39      24     93023       2    0.3          3   \n",
       "4998  4999   65          40      49     90034       3    0.5          2   \n",
       "4999  5000   28           4      83     92612       3    0.8          1   \n",
       "\n",
       "      Mortgage  Securities Account  CD Account  Online  CreditCard  \\\n",
       "0            0                   1           0       0           0   \n",
       "1            0                   1           0       0           0   \n",
       "2            0                   0           0       0           0   \n",
       "3            0                   0           0       0           0   \n",
       "4            0                   0           0       0           1   \n",
       "...        ...                 ...         ...     ...         ...   \n",
       "4995         0                   0           0       1           0   \n",
       "4996        85                   0           0       1           0   \n",
       "4997         0                   0           0       0           0   \n",
       "4998         0                   0           0       1           0   \n",
       "4999         0                   0           0       1           1   \n",
       "\n",
       "      Personal Loan  \n",
       "0                 0  \n",
       "1                 0  \n",
       "2                 0  \n",
       "3                 0  \n",
       "4                 0  \n",
       "...             ...  \n",
       "4995              0  \n",
       "4996              0  \n",
       "4997              0  \n",
       "4998              0  \n",
       "4999              0  \n",
       "\n",
       "[5000 rows x 14 columns]>"
      ]
     },
     "execution_count": 62,
     "metadata": {},
     "output_type": "execute_result"
    }
   ],
   "source": [
    "#Reading the data \n",
    "df_uni = pd.read_csv(r'C:\\Users\\Lokesh Balaji\\Desktop\\NEU Study\\INFO6105\\UniversalBank.csv')\n",
    "df_uni.head\n"
   ]
  },
  {
   "cell_type": "code",
   "execution_count": 63,
   "metadata": {},
   "outputs": [],
   "source": [
    "from sklearn.utils import shuffle\n",
    "df_uni = shuffle(df_uni)"
   ]
  },
  {
   "cell_type": "code",
   "execution_count": 64,
   "metadata": {},
   "outputs": [],
   "source": [
    "#split the data\n",
    "def split_df(df,num):\n",
    "    return df[ :num].copy(),df[num: ].copy()\n"
   ]
  },
  {
   "cell_type": "code",
   "execution_count": 65,
   "metadata": {},
   "outputs": [
    {
     "name": "stdout",
     "output_type": "stream",
     "text": [
      "(5000, 14)\n"
     ]
    }
   ],
   "source": [
    "print(df_uni.shape)"
   ]
  },
  {
   "cell_type": "code",
   "execution_count": 147,
   "metadata": {},
   "outputs": [
    {
     "name": "stdout",
     "output_type": "stream",
     "text": [
      "(5000, 13)\n",
      "(5000,)\n",
      "<class 'pandas.core.frame.DataFrame'>\n",
      "Int64Index: 5000 entries, 309 to 2032\n",
      "Data columns (total 13 columns):\n",
      " #   Column              Non-Null Count  Dtype  \n",
      "---  ------              --------------  -----  \n",
      " 0   ID                  5000 non-null   int64  \n",
      " 1   Age                 5000 non-null   int64  \n",
      " 2   Experience          5000 non-null   int64  \n",
      " 3   Income              5000 non-null   int64  \n",
      " 4   ZIP Code            5000 non-null   int64  \n",
      " 5   Family              5000 non-null   int64  \n",
      " 6   CCAvg               5000 non-null   float64\n",
      " 7   Education           5000 non-null   int64  \n",
      " 8   Mortgage            5000 non-null   int64  \n",
      " 9   Securities Account  5000 non-null   int64  \n",
      " 10  CD Account          5000 non-null   int64  \n",
      " 11  Online              5000 non-null   int64  \n",
      " 12  CreditCard          5000 non-null   int64  \n",
      "dtypes: float64(1), int64(12)\n",
      "memory usage: 546.9 KB\n"
     ]
    }
   ],
   "source": [
    "#universal bank personal loan is calculated\n",
    "x = df_uni.drop('Personal Loan', axis=1)\n",
    "y = df_uni['Personal Loan']\n",
    "print(x.shape)\n",
    "print(y.shape)"
   ]
  },
  {
   "cell_type": "code",
   "execution_count": 67,
   "metadata": {},
   "outputs": [
    {
     "name": "stdout",
     "output_type": "stream",
     "text": [
      "            0         1         2         3         4         5         6   \\\n",
      "0    -1.517623  1.453636  1.560626  0.374237  1.308656 -1.216855  1.065567   \n",
      "1     1.230795  0.406700  0.339711  1.764661 -0.205267 -1.216855  3.068447   \n",
      "2    -0.703559  0.842923  0.862960 -0.733757  0.458842 -0.345432  0.207190   \n",
      "3     1.628474  1.540880  1.647835  0.982547 -0.859007 -1.216855  0.550541   \n",
      "4    -1.639559 -1.338194 -1.404454 -0.755483 -1.370404  0.525991 -0.479511   \n",
      "...        ...       ...       ...       ...       ...       ...       ...   \n",
      "4995  0.616264 -1.599928 -1.491662  0.309061 -0.457431  0.525991 -0.651186   \n",
      "4996 -0.139603  0.232210  0.339711 -1.407244 -0.246273  1.397414 -0.822862   \n",
      "4997  1.479518 -1.338194 -1.317246  0.243885 -0.585633 -0.345432  0.321641   \n",
      "4998 -1.476747  1.540880  1.473418 -0.951011 -0.517761 -0.345432 -0.536736   \n",
      "4999 -0.323894  1.453636  1.473418 -0.907560 -1.360506  0.525991 -0.994537   \n",
      "\n",
      "            7         8         9         10        11        12  \n",
      "0    -1.049078 -0.555524  2.928915 -0.253540  0.821951 -0.645314  \n",
      "1    -1.049078 -0.555524 -0.341423 -0.253540  0.821951  1.549632  \n",
      "2     1.332484 -0.555524  2.928915 -0.253540  0.821951 -0.645314  \n",
      "3    -1.049078 -0.555524  2.928915 -0.253540  0.821951 -0.645314  \n",
      "4     0.141703 -0.555524 -0.341423 -0.253540  0.821951 -0.645314  \n",
      "...        ...       ...       ...       ...       ...       ...  \n",
      "4995 -1.049078  1.784609 -0.341423 -0.253540 -1.216618 -0.645314  \n",
      "4996  0.141703 -0.555524 -0.341423 -0.253540 -1.216618  1.549632  \n",
      "4997 -1.049078  2.325396  2.928915  3.944146  0.821951  1.549632  \n",
      "4998  1.332484  1.007842 -0.341423 -0.253540  0.821951 -0.645314  \n",
      "4999 -1.049078 -0.555524  2.928915 -0.253540 -1.216618  1.549632  \n",
      "\n",
      "[5000 rows x 13 columns]\n"
     ]
    },
    {
     "data": {
      "text/html": [
       "<div>\n",
       "<style scoped>\n",
       "    .dataframe tbody tr th:only-of-type {\n",
       "        vertical-align: middle;\n",
       "    }\n",
       "\n",
       "    .dataframe tbody tr th {\n",
       "        vertical-align: top;\n",
       "    }\n",
       "\n",
       "    .dataframe thead th {\n",
       "        text-align: right;\n",
       "    }\n",
       "</style>\n",
       "<table border=\"1\" class=\"dataframe\">\n",
       "  <thead>\n",
       "    <tr style=\"text-align: right;\">\n",
       "      <th></th>\n",
       "      <th>0</th>\n",
       "      <th>1</th>\n",
       "      <th>2</th>\n",
       "      <th>3</th>\n",
       "      <th>4</th>\n",
       "      <th>5</th>\n",
       "      <th>6</th>\n",
       "      <th>7</th>\n",
       "      <th>8</th>\n",
       "      <th>9</th>\n",
       "      <th>10</th>\n",
       "      <th>11</th>\n",
       "      <th>12</th>\n",
       "    </tr>\n",
       "  </thead>\n",
       "  <tbody>\n",
       "    <tr>\n",
       "      <th>0</th>\n",
       "      <td>-1.517623</td>\n",
       "      <td>1.453636</td>\n",
       "      <td>1.560626</td>\n",
       "      <td>0.374237</td>\n",
       "      <td>1.308656</td>\n",
       "      <td>-1.216855</td>\n",
       "      <td>1.065567</td>\n",
       "      <td>-1.049078</td>\n",
       "      <td>-0.555524</td>\n",
       "      <td>2.928915</td>\n",
       "      <td>-0.25354</td>\n",
       "      <td>0.821951</td>\n",
       "      <td>-0.645314</td>\n",
       "    </tr>\n",
       "    <tr>\n",
       "      <th>1</th>\n",
       "      <td>1.230795</td>\n",
       "      <td>0.406700</td>\n",
       "      <td>0.339711</td>\n",
       "      <td>1.764661</td>\n",
       "      <td>-0.205267</td>\n",
       "      <td>-1.216855</td>\n",
       "      <td>3.068447</td>\n",
       "      <td>-1.049078</td>\n",
       "      <td>-0.555524</td>\n",
       "      <td>-0.341423</td>\n",
       "      <td>-0.25354</td>\n",
       "      <td>0.821951</td>\n",
       "      <td>1.549632</td>\n",
       "    </tr>\n",
       "  </tbody>\n",
       "</table>\n",
       "</div>"
      ],
      "text/plain": [
       "         0         1         2         3         4         5         6   \\\n",
       "0 -1.517623  1.453636  1.560626  0.374237  1.308656 -1.216855  1.065567   \n",
       "1  1.230795  0.406700  0.339711  1.764661 -0.205267 -1.216855  3.068447   \n",
       "\n",
       "         7         8         9        10        11        12  \n",
       "0 -1.049078 -0.555524  2.928915 -0.25354  0.821951 -0.645314  \n",
       "1 -1.049078 -0.555524 -0.341423 -0.25354  0.821951  1.549632  "
      ]
     },
     "execution_count": 67,
     "metadata": {},
     "output_type": "execute_result"
    }
   ],
   "source": [
    "#Scaling the data\n",
    "scaler = preprocessing.StandardScaler().fit(x)\n",
    "X_test = pd.DataFrame(scaler.transform(x))\n",
    "#X_con_sc.columns = [\"Age\",\"Fare\"]\n",
    "print(X_test)\n",
    "X_test.head(2)"
   ]
  },
  {
   "cell_type": "code",
   "execution_count": 68,
   "metadata": {},
   "outputs": [
    {
     "name": "stdout",
     "output_type": "stream",
     "text": [
      "(3500, 13) (1500, 13) (3500,) (1500,)\n",
      "309     0\n",
      "4276    0\n",
      "1484    0\n",
      "4850    0\n",
      "133     0\n",
      "Name: Personal Loan, dtype: int64\n",
      "2642    0\n",
      "4543    0\n",
      "1791    0\n",
      "2308    0\n",
      "1       0\n",
      "Name: Personal Loan, dtype: int64\n"
     ]
    }
   ],
   "source": [
    "# spliting the data to for training and validation data set\n",
    "\n",
    "x_trn,x_val = split_df(X_test,3500)\n",
    "y_trn,y_val = split_df(y,3500)\n",
    "print(x_trn.shape,x_val.shape,y_trn.shape,y_val.shape)\n",
    "print(y_trn.head(5))\n",
    "print(y_val.head(5))"
   ]
  },
  {
   "cell_type": "code",
   "execution_count": null,
   "metadata": {},
   "outputs": [],
   "source": []
  },
  {
   "cell_type": "code",
   "execution_count": 69,
   "metadata": {},
   "outputs": [
    {
     "data": {
      "text/plain": [
       "RandomForestClassifier(n_estimators=10, n_jobs=-1)"
      ]
     },
     "execution_count": 69,
     "metadata": {},
     "output_type": "execute_result"
    }
   ],
   "source": [
    "#RandomforestClassifier(n_estimators = 10)\n",
    "\n",
    "mod_1 = RandomForestClassifier(n_jobs = -1, n_estimators = 10,\n",
    "                                 bootstrap = True)\n",
    "mod_1.fit(x_trn,y_trn)\n"
   ]
  },
  {
   "cell_type": "code",
   "execution_count": 70,
   "metadata": {},
   "outputs": [
    {
     "name": "stdout",
     "output_type": "stream",
     "text": [
      "(1500, 13)\n",
      "[0 0 0 ... 0 0 0]\n"
     ]
    },
    {
     "data": {
      "text/plain": [
       "(1500,)"
      ]
     },
     "execution_count": 70,
     "metadata": {},
     "output_type": "execute_result"
    }
   ],
   "source": [
    "y_val_pred = mod_1.predict(x_val)\n",
    "print(x_val.shape)\n",
    "print(y_val_pred)\n",
    "y_val_pred.shape"
   ]
  },
  {
   "cell_type": "code",
   "execution_count": 71,
   "metadata": {},
   "outputs": [
    {
     "data": {
      "text/plain": [
       "0.984"
      ]
     },
     "execution_count": 71,
     "metadata": {},
     "output_type": "execute_result"
    }
   ],
   "source": [
    "#Calculating Accuracy score\n",
    "y_prd = mod_1.predict(x_val)\n",
    "accuracy_score(y_val,y_prd)"
   ]
  },
  {
   "cell_type": "code",
   "execution_count": 72,
   "metadata": {},
   "outputs": [
    {
     "data": {
      "text/plain": [
       "<AxesSubplot:xlabel='Importance Score', ylabel='Feature'>"
      ]
     },
     "execution_count": 72,
     "metadata": {},
     "output_type": "execute_result"
    },
    {
     "data": {
      "image/png": "[encoded data removed]",
      "text/plain": [
       "<Figure size 432x432 with 1 Axes>"
      ]
     },
     "metadata": {
      "needs_background": "light"
     },
     "output_type": "display_data"
    }
   ],
   "source": [
    "# After training the data set feature importance is calculated \n",
    "\n",
    "'''Calculate feature importance scores with your model'''\n",
    "\n",
    "feat_imps = pd.DataFrame(mod_1.feature_importances_, index = x_trn.columns,\n",
    "                                    columns=['Importance score']).sort_values('Importance score',ascending=False)\n",
    "feat_imps = feat_imps.reset_index()\n",
    "feat_imps.columns = [\"Feature\",\"Importance Score\"]\n",
    "plt.figure(figsize = (6,6))\n",
    "sns.barplot(x = \"Importance Score\",y = \"Feature\",data = feat_imps,orient = \"h\")\n"
   ]
  },
  {
   "cell_type": "markdown",
   "metadata": {},
   "source": [
    "# Q2 2) Train a DNN"
   ]
  },
  {
   "cell_type": "code",
   "execution_count": 73,
   "metadata": {},
   "outputs": [],
   "source": [
    "'''Import necessary packages'''\n",
    "from tensorflow.keras.models import Sequential\n",
    "from tensorflow.keras.layers import Dense\n",
    "from sklearn.model_selection import train_test_split\n",
    "import seaborn as sns\n",
    "import numpy as np\n",
    "import pandas as pd\n",
    "from sklearn import preprocessing\n",
    "\n",
    "%matplotlib inline"
   ]
  },
  {
   "cell_type": "code",
   "execution_count": 74,
   "metadata": {},
   "outputs": [],
   "source": [
    "path='C:\\\\Users\\\\Lokesh Balaji\\\\Desktop\\\\NEU Study\\\\INFO6105'"
   ]
  },
  {
   "cell_type": "code",
   "execution_count": 78,
   "metadata": {},
   "outputs": [
    {
     "name": "stdout",
     "output_type": "stream",
     "text": [
      "(5001, 14)\n"
     ]
    },
    {
     "data": {
      "text/html": [
       "<div>\n",
       "<style scoped>\n",
       "    .dataframe tbody tr th:only-of-type {\n",
       "        vertical-align: middle;\n",
       "    }\n",
       "\n",
       "    .dataframe tbody tr th {\n",
       "        vertical-align: top;\n",
       "    }\n",
       "\n",
       "    .dataframe thead th {\n",
       "        text-align: right;\n",
       "    }\n",
       "</style>\n",
       "<table border=\"1\" class=\"dataframe\">\n",
       "  <thead>\n",
       "    <tr style=\"text-align: right;\">\n",
       "      <th></th>\n",
       "      <th>0</th>\n",
       "      <th>1</th>\n",
       "      <th>2</th>\n",
       "      <th>3</th>\n",
       "      <th>4</th>\n",
       "      <th>5</th>\n",
       "      <th>6</th>\n",
       "      <th>7</th>\n",
       "      <th>8</th>\n",
       "      <th>9</th>\n",
       "      <th>10</th>\n",
       "      <th>11</th>\n",
       "      <th>12</th>\n",
       "      <th>13</th>\n",
       "    </tr>\n",
       "  </thead>\n",
       "  <tbody>\n",
       "    <tr>\n",
       "      <th>0</th>\n",
       "      <td>ID</td>\n",
       "      <td>Age</td>\n",
       "      <td>Experience</td>\n",
       "      <td>Income</td>\n",
       "      <td>ZIP Code</td>\n",
       "      <td>Family</td>\n",
       "      <td>CCAvg</td>\n",
       "      <td>Education</td>\n",
       "      <td>Mortgage</td>\n",
       "      <td>Securities Account</td>\n",
       "      <td>CD Account</td>\n",
       "      <td>Online</td>\n",
       "      <td>CreditCard</td>\n",
       "      <td>Personal Loan</td>\n",
       "    </tr>\n",
       "    <tr>\n",
       "      <th>1</th>\n",
       "      <td>1</td>\n",
       "      <td>25</td>\n",
       "      <td>1</td>\n",
       "      <td>49</td>\n",
       "      <td>91107</td>\n",
       "      <td>4</td>\n",
       "      <td>1.6</td>\n",
       "      <td>1</td>\n",
       "      <td>0</td>\n",
       "      <td>1</td>\n",
       "      <td>0</td>\n",
       "      <td>0</td>\n",
       "      <td>0</td>\n",
       "      <td>0</td>\n",
       "    </tr>\n",
       "  </tbody>\n",
       "</table>\n",
       "</div>"
      ],
      "text/plain": [
       "   0    1           2       3         4       5      6          7         8   \\\n",
       "0  ID  Age  Experience  Income  ZIP Code  Family  CCAvg  Education  Mortgage   \n",
       "1   1   25           1      49     91107       4    1.6          1         0   \n",
       "\n",
       "                   9           10      11          12             13  \n",
       "0  Securities Account  CD Account  Online  CreditCard  Personal Loan  \n",
       "1                   1           0       0           0              0  "
      ]
     },
     "execution_count": 78,
     "metadata": {},
     "output_type": "execute_result"
    }
   ],
   "source": [
    "#Reading the data\n",
    "df_DNN = pd.read_csv(f'{path}\\\\UniversalBank.csv',header = None)\n",
    "print(df_DNN.shape)\n",
    "df_DNN.head(2)"
   ]
  },
  {
   "cell_type": "code",
   "execution_count": 145,
   "metadata": {},
   "outputs": [
    {
     "name": "stdout",
     "output_type": "stream",
     "text": [
      "<class 'pandas.core.frame.DataFrame'>\n",
      "RangeIndex: 5000 entries, 1 to 5000\n",
      "Data columns (total 13 columns):\n",
      " #   Column  Non-Null Count  Dtype \n",
      "---  ------  --------------  ----- \n",
      " 0   0       5000 non-null   object\n",
      " 1   1       5000 non-null   object\n",
      " 2   2       5000 non-null   object\n",
      " 3   3       5000 non-null   object\n",
      " 4   4       5000 non-null   object\n",
      " 5   5       5000 non-null   object\n",
      " 6   6       5000 non-null   object\n",
      " 7   7       5000 non-null   object\n",
      " 8   8       5000 non-null   object\n",
      " 9   9       5000 non-null   object\n",
      " 10  10      5000 non-null   object\n",
      " 11  11      5000 non-null   object\n",
      " 12  12      5000 non-null   object\n",
      "dtypes: object(13)\n",
      "memory usage: 507.9+ KB\n"
     ]
    }
   ],
   "source": [
    "#SPLIT the data\n",
    "X_normal = df_DNN.iloc[1:, :13]\n",
    "Y_normal = df_DNN.iloc[1:, 13:]\n",
    "X_normal.shape\n",
    "X_normal.info()"
   ]
  },
  {
   "cell_type": "code",
   "execution_count": 148,
   "metadata": {},
   "outputs": [
    {
     "name": "stdout",
     "output_type": "stream",
     "text": [
      "            0         1         2         3         4         5         6   \\\n",
      "0    -1.517623  1.453636  1.560626  0.374237  1.308656 -1.216855  1.065567   \n",
      "1     1.230795  0.406700  0.339711  1.764661 -0.205267 -1.216855  3.068447   \n",
      "2    -0.703559  0.842923  0.862960 -0.733757  0.458842 -0.345432  0.207190   \n",
      "3     1.628474  1.540880  1.647835  0.982547 -0.859007 -1.216855  0.550541   \n",
      "4    -1.639559 -1.338194 -1.404454 -0.755483 -1.370404  0.525991 -0.479511   \n",
      "...        ...       ...       ...       ...       ...       ...       ...   \n",
      "4995  0.616264 -1.599928 -1.491662  0.309061 -0.457431  0.525991 -0.651186   \n",
      "4996 -0.139603  0.232210  0.339711 -1.407244 -0.246273  1.397414 -0.822862   \n",
      "4997  1.479518 -1.338194 -1.317246  0.243885 -0.585633 -0.345432  0.321641   \n",
      "4998 -1.476747  1.540880  1.473418 -0.951011 -0.517761 -0.345432 -0.536736   \n",
      "4999 -0.323894  1.453636  1.473418 -0.907560 -1.360506  0.525991 -0.994537   \n",
      "\n",
      "            7         8         9         10        11        12  \n",
      "0    -1.049078 -0.555524  2.928915 -0.253540  0.821951 -0.645314  \n",
      "1    -1.049078 -0.555524 -0.341423 -0.253540  0.821951  1.549632  \n",
      "2     1.332484 -0.555524  2.928915 -0.253540  0.821951 -0.645314  \n",
      "3    -1.049078 -0.555524  2.928915 -0.253540  0.821951 -0.645314  \n",
      "4     0.141703 -0.555524 -0.341423 -0.253540  0.821951 -0.645314  \n",
      "...        ...       ...       ...       ...       ...       ...  \n",
      "4995 -1.049078  1.784609 -0.341423 -0.253540 -1.216618 -0.645314  \n",
      "4996  0.141703 -0.555524 -0.341423 -0.253540 -1.216618  1.549632  \n",
      "4997 -1.049078  2.325396  2.928915  3.944146  0.821951  1.549632  \n",
      "4998  1.332484  1.007842 -0.341423 -0.253540  0.821951 -0.645314  \n",
      "4999 -1.049078 -0.555524  2.928915 -0.253540 -1.216618  1.549632  \n",
      "\n",
      "[5000 rows x 13 columns]\n"
     ]
    },
    {
     "data": {
      "text/html": [
       "<div>\n",
       "<style scoped>\n",
       "    .dataframe tbody tr th:only-of-type {\n",
       "        vertical-align: middle;\n",
       "    }\n",
       "\n",
       "    .dataframe tbody tr th {\n",
       "        vertical-align: top;\n",
       "    }\n",
       "\n",
       "    .dataframe thead th {\n",
       "        text-align: right;\n",
       "    }\n",
       "</style>\n",
       "<table border=\"1\" class=\"dataframe\">\n",
       "  <thead>\n",
       "    <tr style=\"text-align: right;\">\n",
       "      <th></th>\n",
       "      <th>0</th>\n",
       "      <th>1</th>\n",
       "      <th>2</th>\n",
       "      <th>3</th>\n",
       "      <th>4</th>\n",
       "      <th>5</th>\n",
       "      <th>6</th>\n",
       "      <th>7</th>\n",
       "      <th>8</th>\n",
       "      <th>9</th>\n",
       "      <th>10</th>\n",
       "      <th>11</th>\n",
       "      <th>12</th>\n",
       "    </tr>\n",
       "  </thead>\n",
       "  <tbody>\n",
       "    <tr>\n",
       "      <th>0</th>\n",
       "      <td>-1.517623</td>\n",
       "      <td>1.453636</td>\n",
       "      <td>1.560626</td>\n",
       "      <td>0.374237</td>\n",
       "      <td>1.308656</td>\n",
       "      <td>-1.216855</td>\n",
       "      <td>1.065567</td>\n",
       "      <td>-1.049078</td>\n",
       "      <td>-0.555524</td>\n",
       "      <td>2.928915</td>\n",
       "      <td>-0.25354</td>\n",
       "      <td>0.821951</td>\n",
       "      <td>-0.645314</td>\n",
       "    </tr>\n",
       "    <tr>\n",
       "      <th>1</th>\n",
       "      <td>1.230795</td>\n",
       "      <td>0.406700</td>\n",
       "      <td>0.339711</td>\n",
       "      <td>1.764661</td>\n",
       "      <td>-0.205267</td>\n",
       "      <td>-1.216855</td>\n",
       "      <td>3.068447</td>\n",
       "      <td>-1.049078</td>\n",
       "      <td>-0.555524</td>\n",
       "      <td>-0.341423</td>\n",
       "      <td>-0.25354</td>\n",
       "      <td>0.821951</td>\n",
       "      <td>1.549632</td>\n",
       "    </tr>\n",
       "  </tbody>\n",
       "</table>\n",
       "</div>"
      ],
      "text/plain": [
       "         0         1         2         3         4         5         6   \\\n",
       "0 -1.517623  1.453636  1.560626  0.374237  1.308656 -1.216855  1.065567   \n",
       "1  1.230795  0.406700  0.339711  1.764661 -0.205267 -1.216855  3.068447   \n",
       "\n",
       "         7         8         9        10        11        12  \n",
       "0 -1.049078 -0.555524  2.928915 -0.25354  0.821951 -0.645314  \n",
       "1 -1.049078 -0.555524 -0.341423 -0.25354  0.821951  1.549632  "
      ]
     },
     "execution_count": 148,
     "metadata": {},
     "output_type": "execute_result"
    }
   ],
   "source": [
    "# Scaling the data\n",
    "scaler = preprocessing.StandardScaler().fit(x)\n",
    "X_sn = pd.DataFrame(scaler.transform(x))\n",
    "#X_con_sc.columns = [\"Age\",\"Fare\"]\n",
    "print(X_sn)\n",
    "X_sn.head(2)"
   ]
  },
  {
   "cell_type": "code",
   "execution_count": 149,
   "metadata": {},
   "outputs": [
    {
     "name": "stdout",
     "output_type": "stream",
     "text": [
      "(3000, 13) (2000, 13) (3000,) (2000,)\n"
     ]
    }
   ],
   "source": [
    "# Train- Test Split\n",
    "(X_trainm, X_test, Y_trainm, Y_test) = train_test_split(x, y, test_size=0.40, random_state=1)\n",
    "print(X_trainm.shape,X_test.shape,Y_trainm.shape,Y_test.shape)\n"
   ]
  },
  {
   "cell_type": "code",
   "execution_count": 150,
   "metadata": {},
   "outputs": [
    {
     "name": "stdout",
     "output_type": "stream",
     "text": [
      "(1000, 13) (1000, 13) (1000,) (1000,)\n"
     ]
    }
   ],
   "source": [
    "(X_Valid_n, X_Test_n, Y_Valid_n, Y_Test_n) = train_test_split(X_test, Y_test, test_size=0.50, random_state=1)\n",
    "print(X_Valid_n.shape,X_Test_n.shape,Y_Valid_n.shape,Y_Test_n.shape)"
   ]
  },
  {
   "cell_type": "code",
   "execution_count": 151,
   "metadata": {},
   "outputs": [],
   "source": [
    "# Build the deep neural network\n",
    "model_nor = Sequential()\n",
    "model_nor.add(Dense(10, input_dim=13, kernel_initializer='glorot_uniform', activation='relu'))\n",
    "model_nor.add(Dense(6, kernel_initializer='glorot_uniform', activation='relu'))\n",
    "model_nor.add(Dense(1, kernel_initializer='glorot_uniform', activation='sigmoid'))"
   ]
  },
  {
   "cell_type": "code",
   "execution_count": 152,
   "metadata": {},
   "outputs": [],
   "source": [
    "# Compile the DNN\n",
    "\n",
    "model_nor.compile(loss='binary_crossentropy', optimizer='adam', metrics=['accuracy'])"
   ]
  },
  {
   "cell_type": "code",
   "execution_count": 153,
   "metadata": {},
   "outputs": [
    {
     "name": "stdout",
     "output_type": "stream",
     "text": [
      "Epoch 1/100\n",
      "600/600 [==============================] - 3s 3ms/step - loss: 2413.1549 - accuracy: 0.6832 - val_loss: 22.7892 - val_accuracy: 0.9160\n",
      "Epoch 2/100\n",
      "600/600 [==============================] - 1s 1ms/step - loss: 29.3375 - accuracy: 0.8472 - val_loss: 20.4238 - val_accuracy: 0.9160\n",
      "Epoch 3/100\n",
      "600/600 [==============================] - 1s 1ms/step - loss: 35.9802 - accuracy: 0.8456 - val_loss: 38.8183 - val_accuracy: 0.9160\n",
      "Epoch 4/100\n",
      "600/600 [==============================] - 1s 1ms/step - loss: 25.6370 - accuracy: 0.8561 - val_loss: 5.1924 - val_accuracy: 0.9150\n",
      "Epoch 5/100\n",
      "600/600 [==============================] - 1s 1ms/step - loss: 22.5438 - accuracy: 0.8514 - val_loss: 16.5388 - val_accuracy: 0.9160\n",
      "Epoch 6/100\n",
      "600/600 [==============================] - 1s 1ms/step - loss: 21.1284 - accuracy: 0.8596 - val_loss: 3.4988 - val_accuracy: 0.8920\n",
      "Epoch 7/100\n",
      "600/600 [==============================] - 1s 1ms/step - loss: 27.7208 - accuracy: 0.8510 - val_loss: 4.7190 - val_accuracy: 0.8780\n",
      "Epoch 8/100\n",
      "600/600 [==============================] - 1s 1ms/step - loss: 19.5033 - accuracy: 0.8643 - val_loss: 12.6002 - val_accuracy: 0.9160\n",
      "Epoch 9/100\n",
      "600/600 [==============================] - 1s 1ms/step - loss: 20.8210 - accuracy: 0.8521 - val_loss: 4.2118 - val_accuracy: 0.8900\n",
      "Epoch 10/100\n",
      "600/600 [==============================] - 1s 1ms/step - loss: 20.8494 - accuracy: 0.8655 - val_loss: 9.1121 - val_accuracy: 0.8180\n",
      "Epoch 11/100\n",
      "600/600 [==============================] - 1s 1ms/step - loss: 17.7034 - accuracy: 0.8765 - val_loss: 4.4638 - val_accuracy: 0.8900\n",
      "Epoch 12/100\n",
      "600/600 [==============================] - 1s 1ms/step - loss: 19.1514 - accuracy: 0.8613 - val_loss: 46.5591 - val_accuracy: 0.9160\n",
      "Epoch 13/100\n",
      "600/600 [==============================] - 1s 1ms/step - loss: 21.7104 - accuracy: 0.8830 - val_loss: 3.6191 - val_accuracy: 0.9130\n",
      "Epoch 14/100\n",
      "600/600 [==============================] - 1s 1ms/step - loss: 13.8587 - accuracy: 0.8597 - val_loss: 18.2837 - val_accuracy: 0.6480\n",
      "Epoch 15/100\n",
      "600/600 [==============================] - 1s 1ms/step - loss: 13.5475 - accuracy: 0.8769 - val_loss: 19.8072 - val_accuracy: 0.9160\n",
      "Epoch 16/100\n",
      "600/600 [==============================] - 1s 1ms/step - loss: 15.4994 - accuracy: 0.8811 - val_loss: 24.2998 - val_accuracy: 0.6090\n",
      "Epoch 17/100\n",
      "600/600 [==============================] - 1s 1ms/step - loss: 16.5432 - accuracy: 0.8533 - val_loss: 16.1133 - val_accuracy: 0.9160\n",
      "Epoch 18/100\n",
      "600/600 [==============================] - 1s 1ms/step - loss: 14.1861 - accuracy: 0.8758 - val_loss: 3.7951 - val_accuracy: 0.9200\n",
      "Epoch 19/100\n",
      "600/600 [==============================] - 1s 1ms/step - loss: 14.7032 - accuracy: 0.8703 - val_loss: 38.2141 - val_accuracy: 0.9160\n",
      "Epoch 20/100\n",
      "600/600 [==============================] - 1s 1ms/step - loss: 29.0856 - accuracy: 0.8443 - val_loss: 27.7132 - val_accuracy: 0.9160\n",
      "Epoch 21/100\n",
      "600/600 [==============================] - 1s 1ms/step - loss: 21.3774 - accuracy: 0.8584 - val_loss: 8.7355 - val_accuracy: 0.8300\n",
      "Epoch 22/100\n",
      "600/600 [==============================] - 1s 1ms/step - loss: 19.0042 - accuracy: 0.8501 - val_loss: 15.3017 - val_accuracy: 0.9160\n",
      "Epoch 23/100\n",
      "600/600 [==============================] - 1s 1ms/step - loss: 11.9784 - accuracy: 0.8771 - val_loss: 9.0649 - val_accuracy: 0.8150\n",
      "Epoch 24/100\n",
      "600/600 [==============================] - 1s 1ms/step - loss: 14.8005 - accuracy: 0.8664 - val_loss: 9.9229 - val_accuracy: 0.9160\n",
      "Epoch 25/100\n",
      "600/600 [==============================] - 1s 1ms/step - loss: 20.4350 - accuracy: 0.8539 - val_loss: 3.9389 - val_accuracy: 0.9280\n",
      "Epoch 26/100\n",
      "600/600 [==============================] - 1s 1ms/step - loss: 20.0041 - accuracy: 0.8686 - val_loss: 22.9968 - val_accuracy: 0.9160\n",
      "Epoch 27/100\n",
      "600/600 [==============================] - 1s 1ms/step - loss: 15.1210 - accuracy: 0.8675 - val_loss: 12.0478 - val_accuracy: 0.9160\n",
      "Epoch 28/100\n",
      "600/600 [==============================] - 1s 1ms/step - loss: 12.7163 - accuracy: 0.8721 - val_loss: 3.8103 - val_accuracy: 0.9260\n",
      "Epoch 29/100\n",
      "600/600 [==============================] - 1s 1ms/step - loss: 11.3421 - accuracy: 0.8700 - val_loss: 31.8760 - val_accuracy: 0.9160\n",
      "Epoch 30/100\n",
      "600/600 [==============================] - 1s 1ms/step - loss: 14.8094 - accuracy: 0.8819 - val_loss: 3.4728 - val_accuracy: 0.9220\n",
      "Epoch 31/100\n",
      "600/600 [==============================] - 1s 1ms/step - loss: 11.3677 - accuracy: 0.8621 - val_loss: 3.7623 - val_accuracy: 0.9280\n",
      "Epoch 32/100\n",
      "600/600 [==============================] - 1s 1ms/step - loss: 10.3960 - accuracy: 0.8782 - val_loss: 44.3586 - val_accuracy: 0.9160\n",
      "Epoch 33/100\n",
      "600/600 [==============================] - 1s 1ms/step - loss: 14.3289 - accuracy: 0.8806 - val_loss: 18.2621 - val_accuracy: 0.6440\n",
      "Epoch 34/100\n",
      "600/600 [==============================] - 1s 1ms/step - loss: 10.3906 - accuracy: 0.8812 - val_loss: 16.8838 - val_accuracy: 0.9160\n",
      "Epoch 35/100\n",
      "600/600 [==============================] - 1s 1ms/step - loss: 19.9215 - accuracy: 0.8554 - val_loss: 12.7981 - val_accuracy: 0.9160\n",
      "Epoch 36/100\n",
      "600/600 [==============================] - 1s 1ms/step - loss: 17.8595 - accuracy: 0.8604 - val_loss: 16.0283 - val_accuracy: 0.9160\n",
      "Epoch 37/100\n",
      "600/600 [==============================] - 1s 1ms/step - loss: 9.6336 - accuracy: 0.8803 - val_loss: 13.2892 - val_accuracy: 0.7200\n",
      "Epoch 38/100\n",
      "600/600 [==============================] - 1s 1ms/step - loss: 14.2942 - accuracy: 0.8731 - val_loss: 12.0546 - val_accuracy: 0.9160\n",
      "Epoch 39/100\n",
      "600/600 [==============================] - 1s 1ms/step - loss: 11.9414 - accuracy: 0.8808 - val_loss: 12.2384 - val_accuracy: 0.9160\n",
      "Epoch 40/100\n",
      "600/600 [==============================] - 1s 1ms/step - loss: 14.6601 - accuracy: 0.8633 - val_loss: 14.0519 - val_accuracy: 0.9160\n",
      "Epoch 41/100\n",
      "600/600 [==============================] - 1s 1ms/step - loss: 8.8436 - accuracy: 0.8891 - val_loss: 7.2916 - val_accuracy: 0.8430\n",
      "Epoch 42/100\n",
      "600/600 [==============================] - 1s 1ms/step - loss: 12.0219 - accuracy: 0.8695 - val_loss: 3.1697 - val_accuracy: 0.9130\n",
      "Epoch 43/100\n",
      "600/600 [==============================] - 1s 1ms/step - loss: 11.0814 - accuracy: 0.8728 - val_loss: 9.4113 - val_accuracy: 0.9160\n",
      "Epoch 44/100\n",
      "600/600 [==============================] - 1s 1ms/step - loss: 11.0738 - accuracy: 0.8777 - val_loss: 11.7220 - val_accuracy: 0.9160\n",
      "Epoch 45/100\n",
      "600/600 [==============================] - 1s 1ms/step - loss: 12.4596 - accuracy: 0.8811 - val_loss: 7.2464 - val_accuracy: 0.9150\n",
      "Epoch 46/100\n",
      "600/600 [==============================] - 1s 1ms/step - loss: 8.9184 - accuracy: 0.8897 - val_loss: 3.0710 - val_accuracy: 0.9250\n",
      "Epoch 47/100\n",
      "600/600 [==============================] - 1s 1ms/step - loss: 9.2284 - accuracy: 0.8732 - val_loss: 10.2463 - val_accuracy: 0.9160\n",
      "Epoch 48/100\n",
      "600/600 [==============================] - 1s 1ms/step - loss: 10.7443 - accuracy: 0.8659 - val_loss: 5.1305 - val_accuracy: 0.9210\n",
      "Epoch 49/100\n",
      "600/600 [==============================] - 1s 1ms/step - loss: 8.2430 - accuracy: 0.8784 - val_loss: 5.0625 - val_accuracy: 0.9230\n",
      "Epoch 50/100\n",
      "600/600 [==============================] - 1s 1ms/step - loss: 9.8698 - accuracy: 0.8700 - val_loss: 13.5025 - val_accuracy: 0.9160\n",
      "Epoch 51/100\n",
      "600/600 [==============================] - 1s 1ms/step - loss: 8.9181 - accuracy: 0.8737 - val_loss: 2.9015 - val_accuracy: 0.9280\n",
      "Epoch 52/100\n",
      "600/600 [==============================] - 1s 1ms/step - loss: 9.6531 - accuracy: 0.8630 - val_loss: 2.7542 - val_accuracy: 0.9130\n",
      "Epoch 53/100\n",
      "600/600 [==============================] - 1s 1ms/step - loss: 7.1299 - accuracy: 0.8869 - val_loss: 3.7430 - val_accuracy: 0.9230\n",
      "Epoch 54/100\n",
      "600/600 [==============================] - 1s 1ms/step - loss: 7.6467 - accuracy: 0.8874 - val_loss: 7.2225 - val_accuracy: 0.9160\n",
      "Epoch 55/100\n",
      "600/600 [==============================] - 1s 1ms/step - loss: 11.6346 - accuracy: 0.8619 - val_loss: 2.7892 - val_accuracy: 0.9180\n",
      "Epoch 56/100\n",
      "600/600 [==============================] - 1s 1ms/step - loss: 9.1543 - accuracy: 0.8711 - val_loss: 4.0444 - val_accuracy: 0.9250\n",
      "Epoch 57/100\n"
     ]
    },
    {
     "name": "stdout",
     "output_type": "stream",
     "text": [
      "600/600 [==============================] - 1s 1ms/step - loss: 7.6919 - accuracy: 0.8910 - val_loss: 12.3950 - val_accuracy: 0.9160\n",
      "Epoch 58/100\n",
      "600/600 [==============================] - 1s 1ms/step - loss: 7.2406 - accuracy: 0.8835 - val_loss: 5.9933 - val_accuracy: 0.9180\n",
      "Epoch 59/100\n",
      "600/600 [==============================] - 1s 1ms/step - loss: 10.3641 - accuracy: 0.8791 - val_loss: 2.6506 - val_accuracy: 0.9270\n",
      "Epoch 60/100\n",
      "600/600 [==============================] - 1s 985us/step - loss: 9.7279 - accuracy: 0.8696 - val_loss: 15.9642 - val_accuracy: 0.9160\n",
      "Epoch 61/100\n",
      "600/600 [==============================] - 1s 1ms/step - loss: 11.2802 - accuracy: 0.8727 - val_loss: 6.5124 - val_accuracy: 0.9170\n",
      "Epoch 62/100\n",
      "600/600 [==============================] - 1s 1ms/step - loss: 6.1401 - accuracy: 0.8933 - val_loss: 21.3634 - val_accuracy: 0.9160\n",
      "Epoch 63/100\n",
      "600/600 [==============================] - 1s 1ms/step - loss: 7.5843 - accuracy: 0.8784 - val_loss: 10.8209 - val_accuracy: 0.9160\n",
      "Epoch 64/100\n",
      "600/600 [==============================] - 1s 1ms/step - loss: 15.5590 - accuracy: 0.8435 - val_loss: 9.1317 - val_accuracy: 0.9160\n",
      "Epoch 65/100\n",
      "600/600 [==============================] - 1s 1ms/step - loss: 10.5099 - accuracy: 0.8784 - val_loss: 14.3850 - val_accuracy: 0.9160\n",
      "Epoch 66/100\n",
      "600/600 [==============================] - 1s 1ms/step - loss: 8.0542 - accuracy: 0.8766 - val_loss: 11.3393 - val_accuracy: 0.9160\n",
      "Epoch 67/100\n",
      "600/600 [==============================] - 1s 1ms/step - loss: 9.0825 - accuracy: 0.8657 - val_loss: 24.1316 - val_accuracy: 0.9160\n",
      "Epoch 68/100\n",
      "600/600 [==============================] - 1s 1ms/step - loss: 10.4581 - accuracy: 0.8792 - val_loss: 11.1847 - val_accuracy: 0.9160\n",
      "Epoch 69/100\n",
      "600/600 [==============================] - 1s 1ms/step - loss: 7.1467 - accuracy: 0.8744 - val_loss: 21.1514 - val_accuracy: 0.9160\n",
      "Epoch 70/100\n",
      "600/600 [==============================] - 1s 1ms/step - loss: 9.6691 - accuracy: 0.8867 - val_loss: 2.4385 - val_accuracy: 0.9300\n",
      "Epoch 71/100\n",
      "600/600 [==============================] - 1s 1ms/step - loss: 5.9063 - accuracy: 0.8844 - val_loss: 20.5714 - val_accuracy: 0.9160\n",
      "Epoch 72/100\n",
      "600/600 [==============================] - 1s 1ms/step - loss: 7.6567 - accuracy: 0.8736 - val_loss: 37.5982 - val_accuracy: 0.9160\n",
      "Epoch 73/100\n",
      "600/600 [==============================] - 1s 1ms/step - loss: 11.2744 - accuracy: 0.8586 - val_loss: 3.0076 - val_accuracy: 0.9290\n",
      "Epoch 74/100\n",
      "600/600 [==============================] - 1s 1ms/step - loss: 9.4215 - accuracy: 0.8799 - val_loss: 4.4928 - val_accuracy: 0.9190\n",
      "Epoch 75/100\n",
      "600/600 [==============================] - 1s 1ms/step - loss: 5.2205 - accuracy: 0.8924 - val_loss: 2.7274 - val_accuracy: 0.9020\n",
      "Epoch 76/100\n",
      "600/600 [==============================] - 1s 1ms/step - loss: 6.5761 - accuracy: 0.8779 - val_loss: 2.2347 - val_accuracy: 0.9290\n",
      "Epoch 77/100\n",
      "600/600 [==============================] - 1s 1ms/step - loss: 6.8700 - accuracy: 0.8712 - val_loss: 4.3662 - val_accuracy: 0.8570\n",
      "Epoch 78/100\n",
      "600/600 [==============================] - 1s 1ms/step - loss: 5.4021 - accuracy: 0.8742 - val_loss: 3.4211 - val_accuracy: 0.8840\n",
      "Epoch 79/100\n",
      "600/600 [==============================] - 1s 1ms/step - loss: 5.4152 - accuracy: 0.8895 - val_loss: 3.5680 - val_accuracy: 0.8770\n",
      "Epoch 80/100\n",
      "600/600 [==============================] - 1s 1ms/step - loss: 7.1996 - accuracy: 0.8733 - val_loss: 3.2323 - val_accuracy: 0.9290\n",
      "Epoch 81/100\n",
      "600/600 [==============================] - 1s 1ms/step - loss: 6.2192 - accuracy: 0.8787 - val_loss: 1.9307 - val_accuracy: 0.9080\n",
      "Epoch 82/100\n",
      "600/600 [==============================] - 1s 1ms/step - loss: 6.3359 - accuracy: 0.8809 - val_loss: 4.9173 - val_accuracy: 0.9160\n",
      "Epoch 83/100\n",
      "600/600 [==============================] - 1s 1ms/step - loss: 5.1517 - accuracy: 0.8787 - val_loss: 6.1821 - val_accuracy: 0.7750\n",
      "Epoch 84/100\n",
      "600/600 [==============================] - 1s 1ms/step - loss: 4.9057 - accuracy: 0.8824 - val_loss: 4.8674 - val_accuracy: 0.9160\n",
      "Epoch 85/100\n",
      "600/600 [==============================] - 1s 1ms/step - loss: 7.6486 - accuracy: 0.8672 - val_loss: 9.3994 - val_accuracy: 0.6770\n",
      "Epoch 86/100\n",
      "600/600 [==============================] - 1s 1ms/step - loss: 6.4673 - accuracy: 0.8629 - val_loss: 2.7919 - val_accuracy: 0.8900\n",
      "Epoch 87/100\n",
      "600/600 [==============================] - 1s 1ms/step - loss: 4.5481 - accuracy: 0.8824 - val_loss: 1.6506 - val_accuracy: 0.9100\n",
      "Epoch 88/100\n",
      "600/600 [==============================] - 1s 1ms/step - loss: 5.3677 - accuracy: 0.8777 - val_loss: 9.1471 - val_accuracy: 0.6580\n",
      "Epoch 89/100\n",
      "600/600 [==============================] - 1s 1ms/step - loss: 4.9975 - accuracy: 0.8732 - val_loss: 5.2772 - val_accuracy: 0.9160\n",
      "Epoch 90/100\n",
      "600/600 [==============================] - 1s 1ms/step - loss: 4.4539 - accuracy: 0.8938 - val_loss: 2.1915 - val_accuracy: 0.8990\n",
      "Epoch 91/100\n",
      "600/600 [==============================] - 1s 1ms/step - loss: 3.9396 - accuracy: 0.8719 - val_loss: 3.8658 - val_accuracy: 0.8360\n",
      "Epoch 92/100\n",
      "600/600 [==============================] - 1s 1ms/step - loss: 3.8299 - accuracy: 0.8919 - val_loss: 1.3915 - val_accuracy: 0.9130\n",
      "Epoch 93/100\n",
      "600/600 [==============================] - 1s 1ms/step - loss: 6.1746 - accuracy: 0.8766 - val_loss: 3.4263 - val_accuracy: 0.8440\n",
      "Epoch 94/100\n",
      "600/600 [==============================] - 1s 1ms/step - loss: 5.0097 - accuracy: 0.8758 - val_loss: 3.8952 - val_accuracy: 0.9160\n",
      "Epoch 95/100\n",
      "600/600 [==============================] - 1s 1ms/step - loss: 5.5284 - accuracy: 0.8756 - val_loss: 2.2871 - val_accuracy: 0.8800\n",
      "Epoch 96/100\n",
      "600/600 [==============================] - 1s 1ms/step - loss: 4.3802 - accuracy: 0.8865 - val_loss: 5.5581 - val_accuracy: 0.7250\n",
      "Epoch 97/100\n",
      "600/600 [==============================] - 1s 1ms/step - loss: 4.5505 - accuracy: 0.8750 - val_loss: 6.9859 - val_accuracy: 0.9160\n",
      "Epoch 98/100\n",
      "600/600 [==============================] - 1s 1ms/step - loss: 3.9044 - accuracy: 0.8812 - val_loss: 2.7101 - val_accuracy: 0.9200\n",
      "Epoch 99/100\n",
      "600/600 [==============================] - 1s 1ms/step - loss: 3.1295 - accuracy: 0.8895 - val_loss: 2.0656 - val_accuracy: 0.9240\n",
      "Epoch 100/100\n",
      "600/600 [==============================] - 1s 1ms/step - loss: 3.3935 - accuracy: 0.8731 - val_loss: 8.9288 - val_accuracy: 0.5750\n"
     ]
    }
   ],
   "source": [
    "# Fit the DNN with your train data\n",
    "\n",
    "DNN_model_nor= model_nor.fit(X_trainm, Y_trainm, validation_data=(X_Valid_n, Y_Valid_n), epochs=100, batch_size=5)"
   ]
  },
  {
   "cell_type": "code",
   "execution_count": 155,
   "metadata": {},
   "outputs": [
    {
     "data": {
      "image/png": "[encoded data removed]",
      "text/plain": [
       "<Figure size 432x288 with 1 Axes>"
      ]
     },
     "metadata": {
      "needs_background": "light"
     },
     "output_type": "display_data"
    }
   ],
   "source": [
    "#epoch vs loss\n",
    "import matplotlib.pyplot as plt\n",
    "\n",
    "train_loss = DNN_model_nor.history['loss']\n",
    "test_loss = DNN_model_nor.history['val_loss']\n",
    "\n",
    "epoch_counter = range(1, len(train_loss)+1)\n",
    "\n",
    "plt.plot(epoch_counter,train_loss,'r--')\n",
    "plt.plot(epoch_counter,test_loss,'b-')\n",
    "plt.legend(['train_loss','test_loss'])\n",
    "plt.xlabel('epoch')\n",
    "plt.ylabel('loss')\n",
    "plt.show();\n"
   ]
  },
  {
   "cell_type": "code",
   "execution_count": 157,
   "metadata": {},
   "outputs": [
    {
     "data": {
      "image/png": "[encoded data removed]",
      "text/plain": [
       "<Figure size 432x288 with 1 Axes>"
      ]
     },
     "metadata": {
      "needs_background": "light"
     },
     "output_type": "display_data"
    }
   ],
   "source": [
    "#epoch vs accuracy\n",
    "import matplotlib.pyplot as plt\n",
    "\n",
    "train_loss = DNN_model_nor.history['accuracy']\n",
    "test_loss = DNN_model_nor.history['val_accuracy']\n",
    "\n",
    "epoch_counter = range(1, len(train_loss)+1)\n",
    "\n",
    "plt.plot(epoch_counter,train_loss,'r--')\n",
    "plt.plot(epoch_counter,test_loss,'b-')\n",
    "plt.legend(['Training_accuracy','val_accuracy'])\n",
    "plt.xlabel('epoch')\n",
    "plt.ylabel('Accuracy')\n",
    "plt.show();"
   ]
  },
  {
   "cell_type": "code",
   "execution_count": 158,
   "metadata": {},
   "outputs": [
    {
     "name": "stdout",
     "output_type": "stream",
     "text": [
      "32/32 [==============================] - 0s 2ms/step - loss: 9.1371 - accuracy: 0.5820\n",
      "Accuracy: 58.20%\n"
     ]
    }
   ],
   "source": [
    "# Evaluate the model\n",
    "scores = model_nor.evaluate(X_Test_n, Y_Test_n)\n",
    "print (\"Accuracy: %.2f%%\" %(scores[1]*100))"
   ]
  },
  {
   "cell_type": "markdown",
   "metadata": {},
   "source": [
    "# Q2 3) Hybrid DNN and RF Model"
   ]
  },
  {
   "cell_type": "code",
   "execution_count": 160,
   "metadata": {},
   "outputs": [
    {
     "name": "stdout",
     "output_type": "stream",
     "text": [
      "(5001, 14)\n"
     ]
    },
    {
     "data": {
      "text/html": [
       "<div>\n",
       "<style scoped>\n",
       "    .dataframe tbody tr th:only-of-type {\n",
       "        vertical-align: middle;\n",
       "    }\n",
       "\n",
       "    .dataframe tbody tr th {\n",
       "        vertical-align: top;\n",
       "    }\n",
       "\n",
       "    .dataframe thead th {\n",
       "        text-align: right;\n",
       "    }\n",
       "</style>\n",
       "<table border=\"1\" class=\"dataframe\">\n",
       "  <thead>\n",
       "    <tr style=\"text-align: right;\">\n",
       "      <th></th>\n",
       "      <th>0</th>\n",
       "      <th>1</th>\n",
       "      <th>2</th>\n",
       "      <th>3</th>\n",
       "      <th>4</th>\n",
       "      <th>5</th>\n",
       "      <th>6</th>\n",
       "      <th>7</th>\n",
       "      <th>8</th>\n",
       "      <th>9</th>\n",
       "      <th>10</th>\n",
       "      <th>11</th>\n",
       "      <th>12</th>\n",
       "      <th>13</th>\n",
       "    </tr>\n",
       "  </thead>\n",
       "  <tbody>\n",
       "    <tr>\n",
       "      <th>0</th>\n",
       "      <td>ID</td>\n",
       "      <td>Age</td>\n",
       "      <td>Experience</td>\n",
       "      <td>Income</td>\n",
       "      <td>ZIP Code</td>\n",
       "      <td>Family</td>\n",
       "      <td>CCAvg</td>\n",
       "      <td>Education</td>\n",
       "      <td>Mortgage</td>\n",
       "      <td>Securities Account</td>\n",
       "      <td>CD Account</td>\n",
       "      <td>Online</td>\n",
       "      <td>CreditCard</td>\n",
       "      <td>Personal Loan</td>\n",
       "    </tr>\n",
       "    <tr>\n",
       "      <th>1</th>\n",
       "      <td>1</td>\n",
       "      <td>25</td>\n",
       "      <td>1</td>\n",
       "      <td>49</td>\n",
       "      <td>91107</td>\n",
       "      <td>4</td>\n",
       "      <td>1.6</td>\n",
       "      <td>1</td>\n",
       "      <td>0</td>\n",
       "      <td>1</td>\n",
       "      <td>0</td>\n",
       "      <td>0</td>\n",
       "      <td>0</td>\n",
       "      <td>0</td>\n",
       "    </tr>\n",
       "    <tr>\n",
       "      <th>2</th>\n",
       "      <td>2</td>\n",
       "      <td>45</td>\n",
       "      <td>19</td>\n",
       "      <td>34</td>\n",
       "      <td>90089</td>\n",
       "      <td>3</td>\n",
       "      <td>1.5</td>\n",
       "      <td>1</td>\n",
       "      <td>0</td>\n",
       "      <td>1</td>\n",
       "      <td>0</td>\n",
       "      <td>0</td>\n",
       "      <td>0</td>\n",
       "      <td>0</td>\n",
       "    </tr>\n",
       "    <tr>\n",
       "      <th>3</th>\n",
       "      <td>3</td>\n",
       "      <td>39</td>\n",
       "      <td>15</td>\n",
       "      <td>11</td>\n",
       "      <td>94720</td>\n",
       "      <td>1</td>\n",
       "      <td>1</td>\n",
       "      <td>1</td>\n",
       "      <td>0</td>\n",
       "      <td>0</td>\n",
       "      <td>0</td>\n",
       "      <td>0</td>\n",
       "      <td>0</td>\n",
       "      <td>0</td>\n",
       "    </tr>\n",
       "    <tr>\n",
       "      <th>4</th>\n",
       "      <td>4</td>\n",
       "      <td>35</td>\n",
       "      <td>9</td>\n",
       "      <td>100</td>\n",
       "      <td>94112</td>\n",
       "      <td>1</td>\n",
       "      <td>2.7</td>\n",
       "      <td>2</td>\n",
       "      <td>0</td>\n",
       "      <td>0</td>\n",
       "      <td>0</td>\n",
       "      <td>0</td>\n",
       "      <td>0</td>\n",
       "      <td>0</td>\n",
       "    </tr>\n",
       "  </tbody>\n",
       "</table>\n",
       "</div>"
      ],
      "text/plain": [
       "   0    1           2       3         4       5      6          7         8   \\\n",
       "0  ID  Age  Experience  Income  ZIP Code  Family  CCAvg  Education  Mortgage   \n",
       "1   1   25           1      49     91107       4    1.6          1         0   \n",
       "2   2   45          19      34     90089       3    1.5          1         0   \n",
       "3   3   39          15      11     94720       1      1          1         0   \n",
       "4   4   35           9     100     94112       1    2.7          2         0   \n",
       "\n",
       "                   9           10      11          12             13  \n",
       "0  Securities Account  CD Account  Online  CreditCard  Personal Loan  \n",
       "1                   1           0       0           0              0  \n",
       "2                   1           0       0           0              0  \n",
       "3                   0           0       0           0              0  \n",
       "4                   0           0       0           0              0  "
      ]
     },
     "execution_count": 160,
     "metadata": {},
     "output_type": "execute_result"
    }
   ],
   "source": [
    "df_hyb = pd.read_csv(f'{path}\\\\UniversalBank.csv',header = None)\n",
    "print(df_hyb.shape)\n",
    "df_hyb.head()"
   ]
  },
  {
   "cell_type": "code",
   "execution_count": 171,
   "metadata": {},
   "outputs": [
    {
     "name": "stdout",
     "output_type": "stream",
     "text": [
      "(3500, 13) (1500, 13) (3500,) (1500,)\n"
     ]
    }
   ],
   "source": [
    "# spliting the data to for training and validation data set\n",
    "x_trn,x_val = split_df(x,3500)\n",
    "y_trn,y_val = split_df(y,3500)\n",
    "print(x_trn.shape,x_val.shape,y_trn.shape,y_val.shape)"
   ]
  },
  {
   "cell_type": "code",
   "execution_count": 172,
   "metadata": {},
   "outputs": [
    {
     "data": {
      "text/plain": [
       "RandomForestClassifier(n_estimators=10, n_jobs=-1)"
      ]
     },
     "execution_count": 172,
     "metadata": {},
     "output_type": "execute_result"
    }
   ],
   "source": [
    "#RandomforestClassifier(n_estimators = 10)\n",
    "\n",
    "mod_hyb_1 = RandomForestClassifier(n_jobs = -1, n_estimators = 10,\n",
    "                                 bootstrap = True)\n",
    "mod_hyb_1.fit(x_trn,y_trn)"
   ]
  },
  {
   "cell_type": "code",
   "execution_count": 173,
   "metadata": {},
   "outputs": [
    {
     "name": "stdout",
     "output_type": "stream",
     "text": [
      "(1500, 13)\n",
      "[0 0 0 ... 0 0 0]\n"
     ]
    },
    {
     "data": {
      "text/plain": [
       "(1500,)"
      ]
     },
     "execution_count": 173,
     "metadata": {},
     "output_type": "execute_result"
    }
   ],
   "source": [
    "y_val_pred = mod_hyb_1.predict(x_val)\n",
    "print(x_val.shape)\n",
    "print(y_val_pred)\n",
    "y_val_pred.shape"
   ]
  },
  {
   "cell_type": "code",
   "execution_count": 174,
   "metadata": {},
   "outputs": [
    {
     "data": {
      "text/plain": [
       "0.9853333333333333"
      ]
     },
     "execution_count": 174,
     "metadata": {},
     "output_type": "execute_result"
    }
   ],
   "source": [
    "#Calculating Accuracy score\n",
    "y_prd = mod_hyb_1.predict(x_val)\n",
    "accuracy_score(y_val,y_prd)"
   ]
  },
  {
   "cell_type": "code",
   "execution_count": 175,
   "metadata": {},
   "outputs": [
    {
     "data": {
      "text/plain": [
       "<AxesSubplot:xlabel='Importance Score', ylabel='Feature'>"
      ]
     },
     "execution_count": 175,
     "metadata": {},
     "output_type": "execute_result"
    },
    {
     "data": {
      "image/png": "[encoded data removed]",
      "text/plain": [
       "<Figure size 432x432 with 1 Axes>"
      ]
     },
     "metadata": {
      "needs_background": "light"
     },
     "output_type": "display_data"
    }
   ],
   "source": [
    "# After training the data set feature importance is calculated \n",
    "\n",
    "'''Calculate feature importance scores with your model'''\n",
    "\n",
    "feat_imps = pd.DataFrame(mod_hyb_1.feature_importances_, index = x_trn.columns,\n",
    "                                    columns=['Importance score']).sort_values('Importance score',ascending=False)\n",
    "feat_imps = feat_imps.reset_index()\n",
    "feat_imps.columns = [\"Feature\",\"Importance Score\"]\n",
    "plt.figure(figsize = (6,6))\n",
    "sns.barplot(x = \"Importance Score\",y = \"Feature\",data = feat_imps,orient = \"h\")"
   ]
  },
  {
   "cell_type": "code",
   "execution_count": 182,
   "metadata": {},
   "outputs": [],
   "source": [
    "df_hybrid_2 = df_uni[['Income','Education','CCAvg','Family','CD Account','Age','Personal Loan']]"
   ]
  },
  {
   "cell_type": "code",
   "execution_count": 183,
   "metadata": {},
   "outputs": [
    {
     "data": {
      "text/plain": [
       "(5000, 7)"
      ]
     },
     "execution_count": 183,
     "metadata": {},
     "output_type": "execute_result"
    }
   ],
   "source": [
    "df_hybrid_2.shape"
   ]
  },
  {
   "cell_type": "code",
   "execution_count": 184,
   "metadata": {},
   "outputs": [
    {
     "name": "stdout",
     "output_type": "stream",
     "text": [
      "(5000, 6)\n",
      "(5000,)\n"
     ]
    }
   ],
   "source": [
    "x_hybrid = df_hybrid_2.drop('Personal Loan',axis=1)\n",
    "y_hybrid = df_hybrid_2['Personal Loan']\n",
    "print(x_hybrid.shape)\n",
    "print(y_hybrid.shape)"
   ]
  },
  {
   "cell_type": "code",
   "execution_count": 200,
   "metadata": {},
   "outputs": [
    {
     "name": "stdout",
     "output_type": "stream",
     "text": [
      "(3000, 6) (2000, 6) (3000,) (2000,)\n"
     ]
    }
   ],
   "source": [
    "# Train- Test Split\n",
    "(X_train_h, X_test_h, Y_train_h, Y_test_h) = train_test_split(x_hybrid, y_hybrid, test_size=0.40, random_state=1)\n",
    "print(X_train_h.shape,X_test_h.shape,Y_train_h.shape,Y_test_h.shape)\n"
   ]
  },
  {
   "cell_type": "code",
   "execution_count": 205,
   "metadata": {},
   "outputs": [],
   "source": [
    "# Build the deep neural network\n",
    "model_nor_hyb = Sequential()\n",
    "model_nor_hyb.add(Dense(10, input_dim=6, kernel_initializer='glorot_uniform', activation='relu'))\n",
    "model_nor_hyb.add(Dense(6, kernel_initializer='glorot_uniform', activation='relu'))\n",
    "model_nor_hyb.add(Dense(1, kernel_initializer='glorot_uniform', activation='sigmoid'))"
   ]
  },
  {
   "cell_type": "code",
   "execution_count": 206,
   "metadata": {},
   "outputs": [],
   "source": [
    "# Compile the DNN\n",
    "\n",
    "model_nor_hyb.compile(loss='binary_crossentropy', optimizer='adam', metrics=['accuracy'])"
   ]
  },
  {
   "cell_type": "code",
   "execution_count": 207,
   "metadata": {},
   "outputs": [
    {
     "name": "stdout",
     "output_type": "stream",
     "text": [
      "Epoch 1/100\n",
      "600/600 [==============================] - 2s 2ms/step - loss: 0.9698 - accuracy: 0.8992 - val_loss: 0.2592 - val_accuracy: 0.8835\n",
      "Epoch 2/100\n",
      "600/600 [==============================] - 1s 1ms/step - loss: 0.2765 - accuracy: 0.8831 - val_loss: 0.2393 - val_accuracy: 0.8980\n",
      "Epoch 3/100\n",
      "600/600 [==============================] - 1s 1ms/step - loss: 0.2370 - accuracy: 0.8994 - val_loss: 0.2361 - val_accuracy: 0.9070\n",
      "Epoch 4/100\n",
      "600/600 [==============================] - 1s 1ms/step - loss: 0.2732 - accuracy: 0.8943 - val_loss: 0.2255 - val_accuracy: 0.9120\n",
      "Epoch 5/100\n",
      "600/600 [==============================] - 1s 1ms/step - loss: 0.2426 - accuracy: 0.9052 - val_loss: 0.2316 - val_accuracy: 0.9040\n",
      "Epoch 6/100\n",
      "600/600 [==============================] - 1s 1ms/step - loss: 0.2306 - accuracy: 0.9010 - val_loss: 0.2020 - val_accuracy: 0.9240\n",
      "Epoch 7/100\n",
      "600/600 [==============================] - 1s 1ms/step - loss: 0.2110 - accuracy: 0.9132 - val_loss: 0.2095 - val_accuracy: 0.9155\n",
      "Epoch 8/100\n",
      "600/600 [==============================] - 1s 1ms/step - loss: 0.1999 - accuracy: 0.9227 - val_loss: 0.1950 - val_accuracy: 0.9245\n",
      "Epoch 9/100\n",
      "600/600 [==============================] - 1s 1ms/step - loss: 0.2269 - accuracy: 0.9093 - val_loss: 0.2456 - val_accuracy: 0.8675\n",
      "Epoch 10/100\n",
      "600/600 [==============================] - 1s 1ms/step - loss: 0.2126 - accuracy: 0.9095 - val_loss: 0.1798 - val_accuracy: 0.9310\n",
      "Epoch 11/100\n",
      "600/600 [==============================] - 1s 1ms/step - loss: 0.1989 - accuracy: 0.9242 - val_loss: 0.2087 - val_accuracy: 0.9020\n",
      "Epoch 12/100\n",
      "600/600 [==============================] - 1s 1ms/step - loss: 0.2006 - accuracy: 0.9166 - val_loss: 0.1791 - val_accuracy: 0.9350\n",
      "Epoch 13/100\n",
      "600/600 [==============================] - 1s 1ms/step - loss: 0.1886 - accuracy: 0.9223 - val_loss: 0.1627 - val_accuracy: 0.9360\n",
      "Epoch 14/100\n",
      "600/600 [==============================] - 1s 1ms/step - loss: 0.2057 - accuracy: 0.9231 - val_loss: 0.1578 - val_accuracy: 0.9350\n",
      "Epoch 15/100\n",
      "600/600 [==============================] - 1s 1ms/step - loss: 0.1953 - accuracy: 0.9215 - val_loss: 0.1879 - val_accuracy: 0.9180\n",
      "Epoch 16/100\n",
      "600/600 [==============================] - 1s 1ms/step - loss: 0.1785 - accuracy: 0.9322 - val_loss: 0.1576 - val_accuracy: 0.9260\n",
      "Epoch 17/100\n",
      "600/600 [==============================] - 1s 2ms/step - loss: 0.2044 - accuracy: 0.9156 - val_loss: 0.1414 - val_accuracy: 0.9445\n",
      "Epoch 18/100\n",
      "600/600 [==============================] - 1s 2ms/step - loss: 0.1606 - accuracy: 0.9345 - val_loss: 0.1851 - val_accuracy: 0.9250\n",
      "Epoch 19/100\n",
      "600/600 [==============================] - 1s 1ms/step - loss: 0.1846 - accuracy: 0.9298 - val_loss: 0.1484 - val_accuracy: 0.9495\n",
      "Epoch 20/100\n",
      "600/600 [==============================] - 1s 2ms/step - loss: 0.1564 - accuracy: 0.9363 - val_loss: 0.1747 - val_accuracy: 0.9205\n",
      "Epoch 21/100\n",
      "600/600 [==============================] - 1s 2ms/step - loss: 0.1629 - accuracy: 0.9367 - val_loss: 0.1230 - val_accuracy: 0.9575\n",
      "Epoch 22/100\n",
      "600/600 [==============================] - 1s 2ms/step - loss: 0.1503 - accuracy: 0.9330 - val_loss: 0.1334 - val_accuracy: 0.9505\n",
      "Epoch 23/100\n",
      "600/600 [==============================] - 1s 1ms/step - loss: 0.1524 - accuracy: 0.9418 - val_loss: 0.1153 - val_accuracy: 0.9555\n",
      "Epoch 24/100\n",
      "600/600 [==============================] - 1s 1ms/step - loss: 0.1478 - accuracy: 0.9377 - val_loss: 0.1226 - val_accuracy: 0.9435\n",
      "Epoch 25/100\n",
      "600/600 [==============================] - 1s 2ms/step - loss: 0.1354 - accuracy: 0.9442 - val_loss: 0.1052 - val_accuracy: 0.9605\n",
      "Epoch 26/100\n",
      "600/600 [==============================] - 1s 1ms/step - loss: 0.1211 - accuracy: 0.9505 - val_loss: 0.1128 - val_accuracy: 0.9700\n",
      "Epoch 27/100\n",
      "600/600 [==============================] - 1s 1ms/step - loss: 0.1283 - accuracy: 0.9505 - val_loss: 0.0969 - val_accuracy: 0.9660\n",
      "Epoch 28/100\n",
      "600/600 [==============================] - 1s 1ms/step - loss: 0.1339 - accuracy: 0.9458 - val_loss: 0.1109 - val_accuracy: 0.9695\n",
      "Epoch 29/100\n",
      "600/600 [==============================] - 1s 1ms/step - loss: 0.1288 - accuracy: 0.9510 - val_loss: 0.1113 - val_accuracy: 0.9575\n",
      "Epoch 30/100\n",
      "600/600 [==============================] - 1s 1ms/step - loss: 0.1154 - accuracy: 0.9528 - val_loss: 0.0975 - val_accuracy: 0.9735\n",
      "Epoch 31/100\n",
      "600/600 [==============================] - 1s 1ms/step - loss: 0.1191 - accuracy: 0.9535 - val_loss: 0.1611 - val_accuracy: 0.9315\n",
      "Epoch 32/100\n",
      "600/600 [==============================] - 1s 1ms/step - loss: 0.1227 - accuracy: 0.9564 - val_loss: 0.1211 - val_accuracy: 0.9500\n",
      "Epoch 33/100\n",
      "600/600 [==============================] - 1s 1ms/step - loss: 0.1094 - accuracy: 0.9604 - val_loss: 0.0840 - val_accuracy: 0.9705\n",
      "Epoch 34/100\n",
      "600/600 [==============================] - 1s 1ms/step - loss: 0.1230 - accuracy: 0.9550 - val_loss: 0.0969 - val_accuracy: 0.9750\n",
      "Epoch 35/100\n",
      "600/600 [==============================] - 1s 1ms/step - loss: 0.1045 - accuracy: 0.9607 - val_loss: 0.0971 - val_accuracy: 0.9610\n",
      "Epoch 36/100\n",
      "600/600 [==============================] - 1s 1ms/step - loss: 0.1116 - accuracy: 0.9579 - val_loss: 0.1111 - val_accuracy: 0.9675\n",
      "Epoch 37/100\n",
      "600/600 [==============================] - 1s 1ms/step - loss: 0.1213 - accuracy: 0.9514 - val_loss: 0.1119 - val_accuracy: 0.9710\n",
      "Epoch 38/100\n",
      "600/600 [==============================] - 1s 1ms/step - loss: 0.1081 - accuracy: 0.9617 - val_loss: 0.0969 - val_accuracy: 0.9715\n",
      "Epoch 39/100\n",
      "600/600 [==============================] - 1s 1ms/step - loss: 0.1134 - accuracy: 0.9553 - val_loss: 0.0808 - val_accuracy: 0.9760\n",
      "Epoch 40/100\n",
      "600/600 [==============================] - 1s 1ms/step - loss: 0.1083 - accuracy: 0.9571 - val_loss: 0.1368 - val_accuracy: 0.9560\n",
      "Epoch 41/100\n",
      "600/600 [==============================] - 1s 1ms/step - loss: 0.1085 - accuracy: 0.9614 - val_loss: 0.0809 - val_accuracy: 0.9735\n",
      "Epoch 42/100\n",
      "600/600 [==============================] - 1s 1ms/step - loss: 0.1003 - accuracy: 0.9592 - val_loss: 0.0957 - val_accuracy: 0.9735\n",
      "Epoch 43/100\n",
      "600/600 [==============================] - 1s 1ms/step - loss: 0.0974 - accuracy: 0.9604 - val_loss: 0.0872 - val_accuracy: 0.9795\n",
      "Epoch 44/100\n",
      "600/600 [==============================] - 1s 1ms/step - loss: 0.1034 - accuracy: 0.9604 - val_loss: 0.0867 - val_accuracy: 0.9735\n",
      "Epoch 45/100\n",
      "600/600 [==============================] - 1s 1ms/step - loss: 0.1034 - accuracy: 0.9579 - val_loss: 0.0729 - val_accuracy: 0.9740\n",
      "Epoch 46/100\n",
      "600/600 [==============================] - 1s 1ms/step - loss: 0.0915 - accuracy: 0.9651 - val_loss: 0.0719 - val_accuracy: 0.9735\n",
      "Epoch 47/100\n",
      "600/600 [==============================] - 1s 1ms/step - loss: 0.0983 - accuracy: 0.9660 - val_loss: 0.0735 - val_accuracy: 0.9735\n",
      "Epoch 48/100\n",
      "600/600 [==============================] - 1s 1ms/step - loss: 0.0967 - accuracy: 0.9671 - val_loss: 0.0829 - val_accuracy: 0.9795\n",
      "Epoch 49/100\n",
      "600/600 [==============================] - 1s 2ms/step - loss: 0.0897 - accuracy: 0.9629 - val_loss: 0.0957 - val_accuracy: 0.9735\n",
      "Epoch 50/100\n",
      "600/600 [==============================] - 1s 1ms/step - loss: 0.0917 - accuracy: 0.9691 - val_loss: 0.0742 - val_accuracy: 0.9725\n",
      "Epoch 51/100\n",
      "600/600 [==============================] - 1s 1ms/step - loss: 0.1105 - accuracy: 0.9583 - val_loss: 0.0830 - val_accuracy: 0.9640\n",
      "Epoch 52/100\n",
      "600/600 [==============================] - 1s 1ms/step - loss: 0.0998 - accuracy: 0.9616 - val_loss: 0.0716 - val_accuracy: 0.9750\n",
      "Epoch 53/100\n",
      "600/600 [==============================] - 1s 1ms/step - loss: 0.0912 - accuracy: 0.9685 - val_loss: 0.0804 - val_accuracy: 0.9700\n",
      "Epoch 54/100\n",
      "600/600 [==============================] - 1s 1ms/step - loss: 0.0931 - accuracy: 0.9644 - val_loss: 0.1120 - val_accuracy: 0.9690\n",
      "Epoch 55/100\n",
      "600/600 [==============================] - 1s 1ms/step - loss: 0.1017 - accuracy: 0.9610 - val_loss: 0.0920 - val_accuracy: 0.9605\n",
      "Epoch 56/100\n",
      "600/600 [==============================] - 1s 1ms/step - loss: 0.1000 - accuracy: 0.9625 - val_loss: 0.0692 - val_accuracy: 0.9715\n",
      "Epoch 57/100\n",
      "600/600 [==============================] - 1s 1ms/step - loss: 0.0818 - accuracy: 0.9720 - val_loss: 0.0706 - val_accuracy: 0.9750\n"
     ]
    },
    {
     "name": "stdout",
     "output_type": "stream",
     "text": [
      "Epoch 58/100\n",
      "600/600 [==============================] - 1s 1ms/step - loss: 0.0845 - accuracy: 0.9701 - val_loss: 0.0716 - val_accuracy: 0.9765\n",
      "Epoch 59/100\n",
      "600/600 [==============================] - 1s 1ms/step - loss: 0.1010 - accuracy: 0.9638 - val_loss: 0.0916 - val_accuracy: 0.9695\n",
      "Epoch 60/100\n",
      "600/600 [==============================] - 1s 1ms/step - loss: 0.0792 - accuracy: 0.9752 - val_loss: 0.0988 - val_accuracy: 0.9640\n",
      "Epoch 61/100\n",
      "600/600 [==============================] - 1s 1ms/step - loss: 0.1026 - accuracy: 0.9605 - val_loss: 0.0831 - val_accuracy: 0.9690\n",
      "Epoch 62/100\n",
      "600/600 [==============================] - 1s 1ms/step - loss: 0.0792 - accuracy: 0.9702 - val_loss: 0.0661 - val_accuracy: 0.9740\n",
      "Epoch 63/100\n",
      "600/600 [==============================] - 1s 1ms/step - loss: 0.1055 - accuracy: 0.9609 - val_loss: 0.0757 - val_accuracy: 0.9725\n",
      "Epoch 64/100\n",
      "600/600 [==============================] - 1s 1ms/step - loss: 0.0990 - accuracy: 0.9672 - val_loss: 0.0701 - val_accuracy: 0.9765\n",
      "Epoch 65/100\n",
      "600/600 [==============================] - 1s 1ms/step - loss: 0.0807 - accuracy: 0.9739 - val_loss: 0.0677 - val_accuracy: 0.9780\n",
      "Epoch 66/100\n",
      "600/600 [==============================] - 1s 1ms/step - loss: 0.1015 - accuracy: 0.9644 - val_loss: 0.0704 - val_accuracy: 0.9725\n",
      "Epoch 67/100\n",
      "600/600 [==============================] - 1s 1ms/step - loss: 0.0859 - accuracy: 0.9695 - val_loss: 0.0665 - val_accuracy: 0.9780\n",
      "Epoch 68/100\n",
      "600/600 [==============================] - 1s 1ms/step - loss: 0.0852 - accuracy: 0.9714 - val_loss: 0.0717 - val_accuracy: 0.9755\n",
      "Epoch 69/100\n",
      "600/600 [==============================] - 1s 1ms/step - loss: 0.0804 - accuracy: 0.9726 - val_loss: 0.0669 - val_accuracy: 0.9730\n",
      "Epoch 70/100\n",
      "600/600 [==============================] - 1s 1ms/step - loss: 0.0956 - accuracy: 0.9695 - val_loss: 0.0710 - val_accuracy: 0.9775\n",
      "Epoch 71/100\n",
      "600/600 [==============================] - 1s 1ms/step - loss: 0.0766 - accuracy: 0.9731 - val_loss: 0.0719 - val_accuracy: 0.9730\n",
      "Epoch 72/100\n",
      "600/600 [==============================] - 1s 1ms/step - loss: 0.0907 - accuracy: 0.9665 - val_loss: 0.0723 - val_accuracy: 0.9725\n",
      "Epoch 73/100\n",
      "600/600 [==============================] - 1s 1ms/step - loss: 0.0953 - accuracy: 0.9659 - val_loss: 0.0651 - val_accuracy: 0.9795\n",
      "Epoch 74/100\n",
      "600/600 [==============================] - 1s 1ms/step - loss: 0.0845 - accuracy: 0.9659 - val_loss: 0.1034 - val_accuracy: 0.9630\n",
      "Epoch 75/100\n",
      "600/600 [==============================] - 1s 1ms/step - loss: 0.0957 - accuracy: 0.9680 - val_loss: 0.0894 - val_accuracy: 0.9685\n",
      "Epoch 76/100\n",
      "600/600 [==============================] - 1s 1ms/step - loss: 0.0819 - accuracy: 0.9710 - val_loss: 0.0646 - val_accuracy: 0.9755\n",
      "Epoch 77/100\n",
      "600/600 [==============================] - 1s 1ms/step - loss: 0.0697 - accuracy: 0.9760 - val_loss: 0.0644 - val_accuracy: 0.9740\n",
      "Epoch 78/100\n",
      "600/600 [==============================] - 1s 1ms/step - loss: 0.0784 - accuracy: 0.9767 - val_loss: 0.0721 - val_accuracy: 0.9745\n",
      "Epoch 79/100\n",
      "600/600 [==============================] - 1s 1ms/step - loss: 0.1005 - accuracy: 0.9647 - val_loss: 0.0815 - val_accuracy: 0.9775\n",
      "Epoch 80/100\n",
      "600/600 [==============================] - 1s 1ms/step - loss: 0.0899 - accuracy: 0.9650 - val_loss: 0.0679 - val_accuracy: 0.9760\n",
      "Epoch 81/100\n",
      "600/600 [==============================] - 1s 1ms/step - loss: 0.0850 - accuracy: 0.9729 - val_loss: 0.0756 - val_accuracy: 0.9705\n",
      "Epoch 82/100\n",
      "600/600 [==============================] - 1s 1ms/step - loss: 0.0768 - accuracy: 0.9735 - val_loss: 0.0835 - val_accuracy: 0.9690\n",
      "Epoch 83/100\n",
      "600/600 [==============================] - 1s 1ms/step - loss: 0.0824 - accuracy: 0.9672 - val_loss: 0.0840 - val_accuracy: 0.9705\n",
      "Epoch 84/100\n",
      "600/600 [==============================] - 1s 1ms/step - loss: 0.0892 - accuracy: 0.9670 - val_loss: 0.0852 - val_accuracy: 0.9775\n",
      "Epoch 85/100\n",
      "600/600 [==============================] - 1s 1ms/step - loss: 0.0926 - accuracy: 0.9691 - val_loss: 0.0637 - val_accuracy: 0.9765\n",
      "Epoch 86/100\n",
      "600/600 [==============================] - 1s 1ms/step - loss: 0.0780 - accuracy: 0.9730 - val_loss: 0.0776 - val_accuracy: 0.9725\n",
      "Epoch 87/100\n",
      "600/600 [==============================] - 1s 1ms/step - loss: 0.0825 - accuracy: 0.9731 - val_loss: 0.0723 - val_accuracy: 0.9735\n",
      "Epoch 88/100\n",
      "600/600 [==============================] - 1s 1ms/step - loss: 0.0816 - accuracy: 0.9687 - val_loss: 0.0664 - val_accuracy: 0.9770\n",
      "Epoch 89/100\n",
      "600/600 [==============================] - 1s 1ms/step - loss: 0.0953 - accuracy: 0.9690 - val_loss: 0.0647 - val_accuracy: 0.9770\n",
      "Epoch 90/100\n",
      "600/600 [==============================] - 1s 1ms/step - loss: 0.0830 - accuracy: 0.9683 - val_loss: 0.0928 - val_accuracy: 0.9650\n",
      "Epoch 91/100\n",
      "600/600 [==============================] - 1s 1ms/step - loss: 0.1056 - accuracy: 0.9669 - val_loss: 0.0691 - val_accuracy: 0.9760\n",
      "Epoch 92/100\n",
      "600/600 [==============================] - 1s 1ms/step - loss: 0.0962 - accuracy: 0.9655 - val_loss: 0.1153 - val_accuracy: 0.9650\n",
      "Epoch 93/100\n",
      "600/600 [==============================] - 1s 1ms/step - loss: 0.0848 - accuracy: 0.9730 - val_loss: 0.0646 - val_accuracy: 0.9805\n",
      "Epoch 94/100\n",
      "600/600 [==============================] - 1s 1ms/step - loss: 0.0746 - accuracy: 0.9733 - val_loss: 0.0676 - val_accuracy: 0.9785\n",
      "Epoch 95/100\n",
      "600/600 [==============================] - 1s 1ms/step - loss: 0.0819 - accuracy: 0.9703 - val_loss: 0.0803 - val_accuracy: 0.9745\n",
      "Epoch 96/100\n",
      "600/600 [==============================] - 1s 1ms/step - loss: 0.0801 - accuracy: 0.9760 - val_loss: 0.0638 - val_accuracy: 0.9800\n",
      "Epoch 97/100\n",
      "600/600 [==============================] - 1s 1ms/step - loss: 0.0746 - accuracy: 0.9730 - val_loss: 0.0782 - val_accuracy: 0.9780\n",
      "Epoch 98/100\n",
      "600/600 [==============================] - 1s 1ms/step - loss: 0.0748 - accuracy: 0.9763 - val_loss: 0.0662 - val_accuracy: 0.9815\n",
      "Epoch 99/100\n",
      "600/600 [==============================] - 1s 1ms/step - loss: 0.0705 - accuracy: 0.9735 - val_loss: 0.0935 - val_accuracy: 0.9635\n",
      "Epoch 100/100\n",
      "600/600 [==============================] - 1s 1ms/step - loss: 0.0973 - accuracy: 0.9648 - val_loss: 0.0699 - val_accuracy: 0.9815\n"
     ]
    }
   ],
   "source": [
    "# Fit the DNN with your train data\n",
    "\n",
    "DNN_model_hyb= model_nor_hyb.fit(X_train_h, Y_train_h, validation_data=(X_test_h, Y_test_h), epochs=100, batch_size=5)"
   ]
  },
  {
   "cell_type": "code",
   "execution_count": 208,
   "metadata": {},
   "outputs": [
    {
     "data": {
      "image/png": "[encoded data removed]",
      "text/plain": [
       "<Figure size 432x288 with 1 Axes>"
      ]
     },
     "metadata": {
      "needs_background": "light"
     },
     "output_type": "display_data"
    }
   ],
   "source": [
    "#epoch vs loss\n",
    "import matplotlib.pyplot as plt\n",
    "\n",
    "train_loss = DNN_model_hyb.history['loss']\n",
    "test_loss = DNN_model_hyb.history['val_loss']\n",
    "\n",
    "epoch_counter = range(1, len(train_loss)+1)\n",
    "\n",
    "plt.plot(epoch_counter,train_loss,'r--')\n",
    "plt.plot(epoch_counter,test_loss,'b-')\n",
    "plt.legend(['train_loss','test_loss'])\n",
    "plt.xlabel('epoch')\n",
    "plt.ylabel('loss')\n",
    "plt.show();"
   ]
  },
  {
   "cell_type": "code",
   "execution_count": 209,
   "metadata": {},
   "outputs": [
    {
     "data": {
      "image/png": "[encoded data removed]",
      "text/plain": [
       "<Figure size 432x288 with 1 Axes>"
      ]
     },
     "metadata": {
      "needs_background": "light"
     },
     "output_type": "display_data"
    }
   ],
   "source": [
    "#epoch vs accuracy\n",
    "import matplotlib.pyplot as plt\n",
    "\n",
    "train_loss = DNN_model_hyb.history['accuracy']\n",
    "test_loss = DNN_model_hyb.history['val_accuracy']\n",
    "\n",
    "epoch_counter = range(1, len(train_loss)+1)\n",
    "\n",
    "plt.plot(epoch_counter,train_loss,'r--')\n",
    "plt.plot(epoch_counter,test_loss,'b-')\n",
    "plt.legend(['Training_accuracy','val_accuracy'])\n",
    "plt.xlabel('epoch')\n",
    "plt.ylabel('Accuracy')\n",
    "plt.show();"
   ]
  },
  {
   "cell_type": "code",
   "execution_count": 215,
   "metadata": {},
   "outputs": [
    {
     "name": "stdout",
     "output_type": "stream",
     "text": [
      "63/63 [==============================] - 0s 1ms/step - loss: 0.0699 - accuracy: 0.9815\n",
      "Accuracy: 98.15%\n"
     ]
    }
   ],
   "source": [
    "# Evaluate the model\n",
    "scores = model_nor_hyb.evaluate(X_test_h, Y_test_h)\n",
    "print (\"Accuracy: %.2f%%\" %(scores[1]*100))"
   ]
  },
  {
   "cell_type": "markdown",
   "metadata": {},
   "source": [
    "Two ways of ensembling the DNN and RF's together is through\n",
    "1) Bagging\n",
    "2) Stacking"
   ]
  },
  {
   "cell_type": "markdown",
   "metadata": {},
   "source": [
    "Rf model Accuracy score: 98.4%\n",
    "DNN model Accuracy score: 58.20%\n",
    "Hybrid model Accuracy: 98.15%\n",
    "    \n",
    "Here for the hybrid DNN and RF model important columns had been taken theough feature extraction in rf and that has been used\n",
    "in DNN mdel to create an hybrid DNN and RF model.\n",
    "In my case the RF model has the better accuracy and the hybrid model comes second to it."
   ]
  },
  {
   "cell_type": "code",
   "execution_count": null,
   "metadata": {},
   "outputs": [],
   "source": []
  }
 ],
 "metadata": {
  "kernelspec": {
   "display_name": "Python 3",
   "language": "python",
   "name": "python3"
  },
  "language_info": {
   "codemirror_mode": {
    "name": "ipython",
    "version": 3
   },
   "file_extension": ".py",
   "mimetype": "text/x-python",
   "name": "python",
   "nbconvert_exporter": "python",
   "pygments_lexer": "ipython3",
   "version": "3.8.5"
  }
 },
 "nbformat": 4,
 "nbformat_minor": 4
}
